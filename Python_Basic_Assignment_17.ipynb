{
 "cells": [
  {
   "cell_type": "markdown",
   "id": "003fff97",
   "metadata": {},
   "source": [
    "# Python Basic Assigment 17"
   ]
  },
  {
   "cell_type": "markdown",
   "id": "f78bef00",
   "metadata": {},
   "source": [
    "#### Q1. Assign the value 7 to the variable guess_me. Then, write the conditinal tests (if, else, and elif) to print the string 'too low' if guess_me is less than 7, 'too high' if greater then 7, and 'just right' if equal to 7."
   ]
  },
  {
   "cell_type": "code",
   "execution_count": 2,
   "id": "aca9abed",
   "metadata": {},
   "outputs": [
    {
     "name": "stdout",
     "output_type": "stream",
     "text": [
      "Too high\n",
      "Too low\n",
      "Just right\n"
     ]
    }
   ],
   "source": [
    "def guess_me(guess_me):\n",
    "    if guess_me > 7:\n",
    "        print(\"Too high\")\n",
    "    elif guess_me < 7:\n",
    "        print(\"Too low\")\n",
    "    else:\n",
    "        print(\"Just right\")\n",
    "guess_me(8)\n",
    "guess_me(6)\n",
    "guess_me(7)"
   ]
  },
  {
   "cell_type": "markdown",
   "id": "67487e85",
   "metadata": {},
   "source": [
    "### Q2. Assign the value 7 to the variable guess_me and the value 1 to the variable start. Write a while loop that compares start with guess_me. Print too low if start is less than guess me. If start equals guess_me, print 'found it!' and exit the loop. If start is greater than guess_me, print 'oops' and exit the loop. Increment start at the end of the loop."
   ]
  },
  {
   "cell_type": "code",
   "execution_count": 4,
   "id": "84f1971e",
   "metadata": {},
   "outputs": [
    {
     "name": "stdout",
     "output_type": "stream",
     "text": [
      "Too low\n",
      "Too low\n",
      "Too low\n",
      "Too low\n",
      "Too low\n",
      "Too low\n",
      "Found it!\n"
     ]
    }
   ],
   "source": [
    "guess_me = 7\n",
    "start = 1\n",
    "while True:\n",
    "    if start < guess_me:\n",
    "        print('Too low')\n",
    "    elif start > guess_me:\n",
    "        print('oops')\n",
    "        break\n",
    "    else:\n",
    "        print(\"Found it!\")\n",
    "        break\n",
    "    start +=1"
   ]
  },
  {
   "cell_type": "markdown",
   "id": "4cd00af9",
   "metadata": {},
   "source": [
    "### Q3. Print the following values of the list [3,2,1,0] using for loop."
   ]
  },
  {
   "cell_type": "code",
   "execution_count": 5,
   "id": "ed90ef4c",
   "metadata": {},
   "outputs": [
    {
     "name": "stdout",
     "output_type": "stream",
     "text": [
      "3\n",
      "2\n",
      "1\n",
      "0\n"
     ]
    }
   ],
   "source": [
    "l = [3,2,1,0]\n",
    "for i in l:\n",
    "    print(i)"
   ]
  },
  {
   "cell_type": "markdown",
   "id": "4fcab2e7",
   "metadata": {},
   "source": [
    "### Q4. Use a list comprehension to make a list of the even numbers in range(10)."
   ]
  },
  {
   "cell_type": "code",
   "execution_count": 12,
   "id": "650903df",
   "metadata": {},
   "outputs": [
    {
     "name": "stdout",
     "output_type": "stream",
     "text": [
      "[0, 2, 4, 6, 8, 10]\n"
     ]
    }
   ],
   "source": [
    "print([x for x in range(10+1) if x%2==0])"
   ]
  },
  {
   "cell_type": "markdown",
   "id": "b0ba4eb3",
   "metadata": {},
   "source": [
    "### Q5. Use a dictionary comprehension to create the dictionary squares. Use range (10) to return the keys, and use the square of each key as its value."
   ]
  },
  {
   "cell_type": "code",
   "execution_count": 13,
   "id": "1a5d5621",
   "metadata": {},
   "outputs": [
    {
     "name": "stdout",
     "output_type": "stream",
     "text": [
      "{0: 0, 1: 1, 2: 4, 3: 9, 4: 16, 5: 25, 6: 36, 7: 49, 8: 64, 9: 81}\n"
     ]
    }
   ],
   "source": [
    "print(dict([(x, pow(x,2)) for x in range(10)]))"
   ]
  },
  {
   "cell_type": "code",
   "execution_count": 14,
   "id": "4e59b507",
   "metadata": {},
   "outputs": [
    {
     "name": "stdout",
     "output_type": "stream",
     "text": [
      "{0: 0, 1: 1, 2: 4, 3: 9, 4: 16, 5: 25, 6: 36, 7: 49, 8: 64, 9: 81}\n"
     ]
    }
   ],
   "source": [
    "#or\n",
    "print({x:x**2 for x in range(10)})"
   ]
  },
  {
   "cell_type": "markdown",
   "id": "e2016d4a",
   "metadata": {},
   "source": [
    "### Q6. Construct the set odd from the odd numbers in the range using a set comprehension(10)."
   ]
  },
  {
   "cell_type": "code",
   "execution_count": 15,
   "id": "ca5bfead",
   "metadata": {},
   "outputs": [
    {
     "name": "stdout",
     "output_type": "stream",
     "text": [
      "{1, 3, 5, 7, 9}\n"
     ]
    }
   ],
   "source": [
    "print({x for x in range(10) if x%2!=0})"
   ]
  },
  {
   "cell_type": "markdown",
   "id": "70d3b3a7",
   "metadata": {},
   "source": [
    "### Q7. Use generator comprehension to return the string 'Got' and number for the numbers in range(10). Iterate through this by using a for loop."
   ]
  },
  {
   "cell_type": "code",
   "execution_count": 22,
   "id": "378831cd",
   "metadata": {},
   "outputs": [
    {
     "name": "stdout",
     "output_type": "stream",
     "text": [
      "Got-0  Got-1  Got-2  Got-3  Got-4  Got-5  Got-6  Got-7  Got-8  Got-9  "
     ]
    }
   ],
   "source": [
    "gen_num = ('Got-'+ str(x) for x in range(10))\n",
    "for i in gen_num:\n",
    "    print(i, end ='  ')"
   ]
  },
  {
   "cell_type": "markdown",
   "id": "13d92fd0",
   "metadata": {},
   "source": [
    "### Q8. Define a function called good that returns the list ['Harry', 'Ron', 'Hermione']."
   ]
  },
  {
   "cell_type": "code",
   "execution_count": 24,
   "id": "7b348b3e",
   "metadata": {},
   "outputs": [
    {
     "data": {
      "text/plain": [
       "['Harry', 'Ron', 'Hermione']"
      ]
     },
     "execution_count": 24,
     "metadata": {},
     "output_type": "execute_result"
    }
   ],
   "source": [
    "def good():\n",
    "    x = ['Harry', 'Ron', 'Hermione']\n",
    "    return x\n",
    "good()"
   ]
  },
  {
   "cell_type": "markdown",
   "id": "485a41a4",
   "metadata": {},
   "source": [
    "### Q9. Define a generator function called get_odds that returns the odd numbers from range(10). Use a for loop to find and print the third value returned."
   ]
  },
  {
   "cell_type": "code",
   "execution_count": 25,
   "id": "6f9bb7b5",
   "metadata": {},
   "outputs": [
    {
     "data": {
      "text/plain": [
       "5"
      ]
     },
     "execution_count": 25,
     "metadata": {},
     "output_type": "execute_result"
    }
   ],
   "source": [
    "def get_odds():\n",
    "    x = []\n",
    "    for i in range(10):\n",
    "        if i%2!=0:\n",
    "            x.append(i)\n",
    "    yield x\n",
    "next(get_odds())[2]    "
   ]
  },
  {
   "cell_type": "markdown",
   "id": "40e3bf2c",
   "metadata": {},
   "source": [
    "### Q10. Define an exception called OopsException. Raise this exception to see what happens. Then write the code to catch this exception and print 'Caugth an oops'."
   ]
  },
  {
   "cell_type": "code",
   "execution_count": 27,
   "id": "488a8570",
   "metadata": {},
   "outputs": [
    {
     "name": "stdout",
     "output_type": "stream",
     "text": [
      "Caught an oops name 'a' is not defined\n"
     ]
    }
   ],
   "source": [
    "class OopsException(Exception):\n",
    "    pass\n",
    "def test(input):\n",
    "    if input <0:\n",
    "        raise OopsException(a)\n",
    "try:\n",
    "    test(-100)\n",
    "except Exception as e:\n",
    "    print('Caught an oops', e)"
   ]
  },
  {
   "cell_type": "markdown",
   "id": "de9d2462",
   "metadata": {},
   "source": [
    "### Q11. Use zip() to make dictionary called movies that pairs these list: titles = ['Creature of Habit', 'Crewel Fate'] and plots = ['A nun turns into a monster', 'A haunted yarn shop']."
   ]
  },
  {
   "cell_type": "code",
   "execution_count": 28,
   "id": "861e9c73",
   "metadata": {},
   "outputs": [
    {
     "name": "stdout",
     "output_type": "stream",
     "text": [
      "{'Creature of Habit': 'A nun turns into a monster', 'Crewel Fate': 'A haunted yarn shop'}\n"
     ]
    }
   ],
   "source": [
    "titles = ['Creature of Habit', 'Crewel Fate']\n",
    "plots = ['A nun turns into a monster', 'A haunted yarn shop']\n",
    "a = dict(zip(titles, plots))\n",
    "print(a)"
   ]
  }
 ],
 "metadata": {
  "kernelspec": {
   "display_name": "Python 3 (ipykernel)",
   "language": "python",
   "name": "python3"
  },
  "language_info": {
   "codemirror_mode": {
    "name": "ipython",
    "version": 3
   },
   "file_extension": ".py",
   "mimetype": "text/x-python",
   "name": "python",
   "nbconvert_exporter": "python",
   "pygments_lexer": "ipython3",
   "version": "3.9.12"
  }
 },
 "nbformat": 4,
 "nbformat_minor": 5
}
