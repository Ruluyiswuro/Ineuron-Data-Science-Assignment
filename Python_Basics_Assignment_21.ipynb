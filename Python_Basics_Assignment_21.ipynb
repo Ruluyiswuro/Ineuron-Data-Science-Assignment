{
 "cells": [
  {
   "cell_type": "markdown",
   "id": "28fdc40d-b61e-416d-9423-eb6b5f2864fd",
   "metadata": {},
   "source": [
    "# Python Basics Assignment 21"
   ]
  },
  {
   "cell_type": "markdown",
   "id": "9d681828-fbd0-427b-ab6a-f9014c6f60bd",
   "metadata": {},
   "source": [
    "### Q1. Add the current date to the text file today.txt as string."
   ]
  },
  {
   "cell_type": "code",
   "execution_count": 4,
   "id": "7f73053c-13d8-4379-9abf-88f3b6a3f3b2",
   "metadata": {},
   "outputs": [
    {
     "name": "stdout",
     "output_type": "stream",
     "text": [
      "11-05-23\n"
     ]
    }
   ],
   "source": [
    "import datetime\n",
    "file = open('today.txt', 'w')\n",
    "file.write(datetime.datetime.now().strftime(\"%d-%m-%y\"))\n",
    "file.close()\n",
    "#read\n",
    "file = open('today.txt', 'r')\n",
    "print(file.read())\n",
    "file.close()"
   ]
  },
  {
   "cell_type": "markdown",
   "id": "23bdebcd-1175-4086-a96c-03e223427959",
   "metadata": {},
   "source": [
    "### Q2. Read the text file today.txt into the string today_string."
   ]
  },
  {
   "cell_type": "code",
   "execution_count": 6,
   "id": "59d6125f-7387-443c-aabb-9991a65d147c",
   "metadata": {},
   "outputs": [
    {
     "name": "stdout",
     "output_type": "stream",
     "text": [
      "11-05-23\n"
     ]
    }
   ],
   "source": [
    "file = open('today.txt', 'r')\n",
    "today_string = file.read()\n",
    "print(today_string)"
   ]
  },
  {
   "cell_type": "markdown",
   "id": "754d5140-7e2e-46ab-bf1e-8eb147589e6e",
   "metadata": {},
   "source": [
    "### Q3. Parse the date from today_string."
   ]
  },
  {
   "cell_type": "code",
   "execution_count": 9,
   "id": "1b770c81-bd1c-4e15-b45b-d30c17fcab92",
   "metadata": {},
   "outputs": [
    {
     "name": "stdout",
     "output_type": "stream",
     "text": [
      "2023-05-11 00:00:00\n"
     ]
    }
   ],
   "source": [
    "from datetime import datetime\n",
    "parsed_date = datetime.strptime(today_string, '%d-%m-%y')\n",
    "print(parsed_date)"
   ]
  },
  {
   "cell_type": "markdown",
   "id": "ca027ec8-20b9-441e-92af-e39943b5e6a0",
   "metadata": {},
   "source": [
    "### Q4. List the files in your current directory"
   ]
  },
  {
   "cell_type": "code",
   "execution_count": 10,
   "id": "1562ee8e-6c1e-490e-83f8-bb6871a3f734",
   "metadata": {},
   "outputs": [
    {
     "name": "stdout",
     "output_type": "stream",
     "text": [
      "README.md\n",
      "test.txt\n",
      "sample-code.ipynb\n",
      "books.db\n",
      "Untitled.ipynb\n",
      "today.txt\n",
      "Pyhton_Basics_Assignment_20.ipynb\n",
      "books.csv\n",
      "packed-refs\n",
      "HEAD\n",
      "index\n",
      "config\n",
      "description\n",
      "HEAD\n",
      "main\n",
      "HEAD\n",
      "exclude\n",
      "pack-290036e657c294196be1b61a981e44da145e2135.pack\n",
      "pack-290036e657c294196be1b61a981e44da145e2135.idx\n",
      "pre-push.sample\n",
      "prepare-commit-msg.sample\n",
      "applypatch-msg.sample\n",
      "pre-applypatch.sample\n",
      "commit-msg.sample\n",
      "pre-rebase.sample\n",
      "pre-receive.sample\n",
      "update.sample\n",
      "fsmonitor-watchman.sample\n",
      "pre-merge-commit.sample\n",
      "pre-commit.sample\n",
      "push-to-checkout.sample\n",
      "post-update.sample\n",
      "main\n",
      "HEAD\n",
      "Pyhton_Basics_Assignment_20-checkpoint.ipynb\n",
      "Untitled-checkpoint.ipynb\n"
     ]
    }
   ],
   "source": [
    "import os\n",
    "for folders, subfolders, files in os.walk(os.getcwd()):\n",
    "    for file in files:\n",
    "        print(file)"
   ]
  },
  {
   "cell_type": "markdown",
   "id": "9c8ddf7b-7b5c-4e4f-bd45-fb8372c63c4a",
   "metadata": {},
   "source": [
    "### Q5. Create a list of all of the files in your parent directory (minimum five files should be available)."
   ]
  },
  {
   "cell_type": "code",
   "execution_count": 11,
   "id": "c556aa9d-2b54-41e1-ab16-6ea9696b5eb6",
   "metadata": {},
   "outputs": [
    {
     "data": {
      "text/plain": [
       "['README.md',\n",
       " 'test.txt',\n",
       " 'sample-code.ipynb',\n",
       " '.git',\n",
       " 'books.db',\n",
       " 'Untitled.ipynb',\n",
       " '.ipynb_checkpoints',\n",
       " 'today.txt',\n",
       " 'Pyhton_Basics_Assignment_20.ipynb',\n",
       " 'books.csv']"
      ]
     },
     "execution_count": 11,
     "metadata": {},
     "output_type": "execute_result"
    }
   ],
   "source": [
    "import os\n",
    "os.listdir()"
   ]
  },
  {
   "cell_type": "markdown",
   "id": "9484ae14-c3bb-40d3-a790-d29cf92fc597",
   "metadata": {},
   "source": [
    "### Q6. Use multiprocessing to create three separate processes. Make each one wait a random number of seconds between one and five, print the current time, and then exit."
   ]
  },
  {
   "cell_type": "code",
   "execution_count": 13,
   "id": "99004519-0168-418a-afe5-79c4da0c898c",
   "metadata": {},
   "outputs": [
    {
     "name": "stdout",
     "output_type": "stream",
     "text": [
      "Process_1_Starttime -> 2023-05-11 09:01:38.791891Process_2_Starttime -> 2023-05-11 09:01:38.802733\n",
      "Process_3_Starttime -> 2023-05-11 09:01:38.828389\n",
      "\n",
      "Process_2_Endtime -> 2023-05-11 09:01:41.860338\n",
      "Process_3_Endtime -> 2023-05-11 09:01:41.904318\n",
      "Process_1_Endtime -> 2023-05-11 09:01:43.848985\n"
     ]
    }
   ],
   "source": [
    "import multiprocessing\n",
    "import time\n",
    "import random\n",
    "import datetime\n",
    "\n",
    "def process1():\n",
    "    print(f'Process_1_Starttime -> {datetime.datetime.now()}')\n",
    "    time.sleep(random.randint(1,5))\n",
    "    print(f'Process_1_Endtime -> {datetime.datetime.now()}')\n",
    "def process2():\n",
    "    print(f'Process_2_Starttime -> {datetime.datetime.now()}')\n",
    "    time.sleep(random.randint(1,5))\n",
    "    print(f'Process_2_Endtime -> {datetime.datetime.now()}')\n",
    "def process3():\n",
    "    print(f'Process_3_Starttime -> {datetime.datetime.now()}')\n",
    "    time.sleep(random.randint(1,5))\n",
    "    print(f'Process_3_Endtime -> {datetime.datetime.now()}')\n",
    "if __name__==\"__main__\":\n",
    "    p1 = multiprocessing.Process(target=process1)\n",
    "    p2 = multiprocessing.Process(target=process2)\n",
    "    p3 = multiprocessing.Process(target=process3)\n",
    "    \n",
    "    p1.start()\n",
    "    p2.start()\n",
    "    p3.start()\n",
    "    \n",
    "    p1.join()\n",
    "    p2.join()\n",
    "    p3.join()"
   ]
  },
  {
   "cell_type": "markdown",
   "id": "7f2aff56-7cbe-4fad-9646-3cf71adb9720",
   "metadata": {},
   "source": [
    "### Q7.Create a date object of your day of birth."
   ]
  },
  {
   "cell_type": "code",
   "execution_count": 16,
   "id": "4a9cb377-c6c8-496e-b8e1-b9416e9f2e4b",
   "metadata": {},
   "outputs": [
    {
     "name": "stdout",
     "output_type": "stream",
     "text": [
      "1998-01-29 00:00:00 <class 'datetime.datetime'>\n"
     ]
    }
   ],
   "source": [
    "from datetime import datetime\n",
    "my_dob = datetime.strptime('29/01/1998', '%d/%m/%Y')\n",
    "print(my_dob, type(my_dob))"
   ]
  },
  {
   "cell_type": "markdown",
   "id": "bb8b488a-492d-43dc-9532-12ca1cd05219",
   "metadata": {},
   "source": [
    "### Q8. What day of the week was your day of birth?"
   ]
  },
  {
   "cell_type": "code",
   "execution_count": 18,
   "id": "90262474-d836-4181-97d0-76b05ccac88a",
   "metadata": {},
   "outputs": [
    {
     "data": {
      "text/plain": [
       "'Thursday'"
      ]
     },
     "execution_count": 18,
     "metadata": {},
     "output_type": "execute_result"
    }
   ],
   "source": [
    "from datetime import datetime\n",
    "my_dob = datetime(1998,1,29)\n",
    "my_dob.strftime(\"%A\")"
   ]
  },
  {
   "cell_type": "markdown",
   "id": "508c654a-3ff0-4c68-aca3-f5854643b915",
   "metadata": {},
   "source": [
    "### Q9. When will you be(or when were you) 10,000 days old?"
   ]
  },
  {
   "cell_type": "code",
   "execution_count": 25,
   "id": "6a0278e3-dd61-4452-ba27-9f32fdc644ba",
   "metadata": {},
   "outputs": [
    {
     "data": {
      "text/plain": [
       "datetime.datetime(1970, 9, 13, 0, 0)"
      ]
     },
     "execution_count": 25,
     "metadata": {},
     "output_type": "execute_result"
    }
   ],
   "source": [
    "from datetime import datetime, timedelta\n",
    "my_dob = datetime.strptime(\"29/01/1998\", '%d/%m/%Y')\n",
    "future_date = my_dob-timedelta(10000)\n",
    "future_date"
   ]
  }
 ],
 "metadata": {
  "kernelspec": {
   "display_name": "Python 3 (ipykernel)",
   "language": "python",
   "name": "python3"
  },
  "language_info": {
   "codemirror_mode": {
    "name": "ipython",
    "version": 3
   },
   "file_extension": ".py",
   "mimetype": "text/x-python",
   "name": "python",
   "nbconvert_exporter": "python",
   "pygments_lexer": "ipython3",
   "version": "3.10.6"
  }
 },
 "nbformat": 4,
 "nbformat_minor": 5
}
