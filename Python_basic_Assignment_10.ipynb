{
 "cells": [
  {
   "cell_type": "markdown",
   "id": "9c35e6b1",
   "metadata": {},
   "source": [
    "### Python_basic_Assignment_10"
   ]
  },
  {
   "cell_type": "markdown",
   "id": "7d53b0c8",
   "metadata": {},
   "source": [
    "### Q1. How do you distinguish between shutil.copy() and shutil.copytree()?"
   ]
  },
  {
   "cell_type": "markdown",
   "id": "bf70c8be",
   "metadata": {},
   "source": [
    "### Ans :\n",
    "shutil.copy() method is used to copy the contents of a file one file to another\n",
    "file/folder. It primarily takes two arguments src and dest. src represents the file to be copied where as destination refers to the file/folder to where the src data should be copied. If dest is  a folder name, the src with the exact name will be copied to the dest folder  whereas, if it's a file then the contents of src will be copied to dest where dest retains it's name.\n",
    "\n",
    "shutil.copytree() function is used to copy the entire contents of a folder to other folder. it also takes two arguments src and dest. It copies all the content recursively and stores it in dest. The important point to note here is that dest must not exist prior to this and it will be created during the copy operation. Permissions and times of directories are copied with shutil.copystat() and individual files are copied using shutil.copy2() by default which can be modified using copy_function attribute."
   ]
  },
  {
   "cell_type": "markdown",
   "id": "684a1c61",
   "metadata": {},
   "source": [
    "### Q2. What function is used to rename files? "
   ]
  },
  {
   "cell_type": "markdown",
   "id": "b9307df2",
   "metadata": {},
   "source": [
    "### Ans :\n",
    "os.rename() function is used to rename files or directories using python program. This function takes two arguments src and dest. src represents the name of the file/directory which we want to rename, whereas, dest represents the new name of the file/directory."
   ]
  },
  {
   "cell_type": "markdown",
   "id": "1dfc9a65",
   "metadata": {},
   "source": [
    "### Q3. What is the difference between the delete functions in the send2trash and shutil modules?"
   ]
  },
  {
   "cell_type": "markdown",
   "id": "63d15319",
   "metadata": {},
   "source": [
    "### Ans :\n",
    "Shutil module provides a function called as shutil.rmtree() which deletes a directory and all of it's contents. The other functions with similar functionality are os.remove() which removes a file. os.rmdir() removes an empty directory. The problem with these functions is once a file is deleted, it will be permanently lost and if a file is deleted accidentally using these methods, there is no way we can retrieve the deleted files.\n",
    "\n",
    "Whereas, send2trash module provides a function called send2trash.send2trash() to delete file/directory. These methods moves the file/directories to trash folder instead of permanently deleting them. Hence, if a file/directory is accidentally deleted using send2trash.send2trash() method, it can still be recovered from trash folder. send2trash is not included with python standard library like os and shutil modules. So, it needs to be installed explicitly using the command !pip install send2trash."
   ]
  },
  {
   "cell_type": "markdown",
   "id": "24b10b29",
   "metadata": {},
   "source": [
    "### Q4. ZipFile objects have a close() method just like File objects' close() method. What ZipFile method is equivalent to File objects' open() method?"
   ]
  },
  {
   "cell_type": "markdown",
   "id": "9f1b769a",
   "metadata": {},
   "source": [
    "### Ans : \n",
    "ZipFile module provides a method called zipfile.ZipFile() to read and write zipfiles, it takes arguments such as filename and mode. Eg : zpFile.ZipFile('filename', mode = 'r')"
   ]
  },
  {
   "cell_type": "markdown",
   "id": "fa108364",
   "metadata": {},
   "source": [
    "### Q5. Create a programme that searches a folder tree with a certain file extension(such as pdf or jpg). Copy these files from whatever location they are in to a new folder."
   ]
  },
  {
   "cell_type": "markdown",
   "id": "4f84ee74",
   "metadata": {},
   "source": [
    "### Ans :\n"
   ]
  },
  {
   "cell_type": "code",
   "execution_count": 9,
   "id": "4ba59b71",
   "metadata": {},
   "outputs": [],
   "source": [
    "import os\n",
    "import shutil\n",
    "def search_file(source, destination, extension):\n",
    "    source = os.path.abspath(source)\n",
    "    destination = os.path.abspath(destination)\n",
    "    for foldername, subfolder, filenames in os.walk(source):\n",
    "        print(f'Folder Name ➞ {foldername}', end='\\n\\n')\n",
    "        print(f'Sub Folders ➞ {subfolder}', end= '\\n\\n')\n",
    "        print(f'File ➞ {filenames}', end='\\n\\n')\n",
    "        for filename in filenames:\n",
    "            fileName, extension = os.path.splitext(filename)\n",
    "            if extension in extensions:\n",
    "                targetFile = foldername+os.path.sep+fileName+extension\n",
    "                shutil.copy(targetFile, destination)\n",
    "        print(f'Files copied successfully from {source} to {destination}')\n",
    "        \n",
    "extensions = ['.pdf', '.jpg', '.ipynb']\n",
    "source = 'Source Folder'\n",
    "destination = 'Destination Folder'\n",
    "search_file(source, destination, extensions)"
   ]
  },
  {
   "cell_type": "code",
   "execution_count": 7,
   "id": "012dee85",
   "metadata": {},
   "outputs": [],
   "source": []
  },
  {
   "cell_type": "code",
   "execution_count": null,
   "id": "aaeb165c",
   "metadata": {},
   "outputs": [],
   "source": []
  }
 ],
 "metadata": {
  "kernelspec": {
   "display_name": "Python 3 (ipykernel)",
   "language": "python",
   "name": "python3"
  },
  "language_info": {
   "codemirror_mode": {
    "name": "ipython",
    "version": 3
   },
   "file_extension": ".py",
   "mimetype": "text/x-python",
   "name": "python",
   "nbconvert_exporter": "python",
   "pygments_lexer": "ipython3",
   "version": "3.9.12"
  }
 },
 "nbformat": 4,
 "nbformat_minor": 5
}
