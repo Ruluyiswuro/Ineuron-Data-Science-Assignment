{
 "cells": [
  {
   "cell_type": "markdown",
   "id": "c7f99460",
   "metadata": {},
   "source": [
    "### Python Basic Assignment 14"
   ]
  },
  {
   "cell_type": "markdown",
   "id": "75c4b303",
   "metadata": {},
   "source": [
    "### Q1. What does RGBA stand for?\n"
   ]
  },
  {
   "cell_type": "markdown",
   "id": "5e4f85d6",
   "metadata": {},
   "source": [
    "## Ans : \n",
    "The RGBA is a four-color tool known as color converter. The R stands for Red, G stands for Grean, The B stands for Blue and A stands for Alpha. Each of the value is a floating point number between 0.0 and 0.1"
   ]
  },
  {
   "cell_type": "markdown",
   "id": "0e62bcdb",
   "metadata": {},
   "source": [
    "### Q2. From the Pillow module, how do you get the RGBA value of any images?"
   ]
  },
  {
   "cell_type": "markdown",
   "id": "6b9807df",
   "metadata": {},
   "source": [
    "### Ans:\n",
    "ImageColor.getcolor() gives the RGBA value of any image."
   ]
  },
  {
   "cell_type": "markdown",
   "id": "b1086e66",
   "metadata": {},
   "source": [
    "### Q3. What is a box tuple, and how does it work?"
   ]
  },
  {
   "cell_type": "markdown",
   "id": "a7c83c07",
   "metadata": {},
   "source": [
    "### Ans :\n",
    "A box tuple is a tuple value of four integers : the left-edge x-coordinate, the top-edge y-coordinate. the width and the height respectively. The box tuple submodule provides read-only access for the tuple userdata type. It allows for single tuple ; selective retrieval of the field contents, retrieval of information about size, iteration over all the fiield and conversion to a Lua table (The table data structure used to create an array and dictionary)."
   ]
  },
  {
   "cell_type": "markdown",
   "id": "ebaed292",
   "metadata": {},
   "source": [
    "#### Q4. Use your image and load in notebook then, How can you find out the width and height of an image object?"
   ]
  },
  {
   "cell_type": "markdown",
   "id": "4d904ac0",
   "metadata": {},
   "source": [
    "### Ans :\n"
   ]
  },
  {
   "cell_type": "code",
   "execution_count": null,
   "id": "dd002524",
   "metadata": {},
   "outputs": [],
   "source": [
    "from PIL import Image\n",
    "img = Image.open(f'C:\\Users\\atsuy\\globe.png')\n",
    "with Image.open(\"gfg.png\") as image:\n",
    "    width, height = image.size\n",
    "print((width, height))"
   ]
  },
  {
   "cell_type": "markdown",
   "id": "b0f8b389",
   "metadata": {},
   "source": [
    "### Q5. What method would you call to get image object for a 100x100 image, excluding the lower-left quarter of it?"
   ]
  },
  {
   "cell_type": "markdown",
   "id": "cf790e23",
   "metadata": {},
   "source": [
    "### Ans "
   ]
  },
  {
   "cell_type": "code",
   "execution_count": null,
   "id": "a1e43d63",
   "metadata": {},
   "outputs": [],
   "source": [
    "From PIL import Image\n",
    "img = Image.open('gfg.png')\n",
    "new_img = img.crop((0,50,50,50))"
   ]
  },
  {
   "cell_type": "markdown",
   "id": "7aa99720",
   "metadata": {},
   "source": [
    "### Q6. After making changes to an image object, how could you save it as an image?"
   ]
  },
  {
   "cell_type": "markdown",
   "id": "ee60b2ec",
   "metadata": {},
   "source": [
    "### Ans :\n"
   ]
  },
  {
   "cell_type": "code",
   "execution_count": null,
   "id": "406421f1",
   "metadata": {},
   "outputs": [],
   "source": [
    "from PIL import Image\n",
    "   \n",
    "img = Image.open(\"gfg.png\")\n",
    " \n",
    "img.save(\"new_img.jpg\")"
   ]
  },
  {
   "cell_type": "markdown",
   "id": "f871ec67",
   "metadata": {},
   "source": [
    "### Q7. What module contains Pillow's shape-drawing code?"
   ]
  },
  {
   "cell_type": "markdown",
   "id": "2c2ceb16",
   "metadata": {},
   "source": [
    "### Ans :\n",
    "Pillows ImageDraw module contains shape drawing methods. The ImageDraw module provides simple 2D graphics support for Image object. Generally, we use this module to create new images, annotate or retouch existing images and to generate graphics on the fly for web use. The graphics commansds support the drawing of shapes and annotation of text."
   ]
  },
  {
   "cell_type": "markdown",
   "id": "a4c85472",
   "metadata": {},
   "source": [
    "### Q8. Image objects do not have drawing methods. What kind of object does? How do you get this kind of object? "
   ]
  },
  {
   "cell_type": "markdown",
   "id": "464e9698",
   "metadata": {},
   "source": [
    "### Ans :\n",
    "ImageDraw object have shape-drawing methods such as point() or rectangle(). They are returned by passing the Image object to the ImageDraw.Draw() function."
   ]
  },
  {
   "cell_type": "code",
   "execution_count": null,
   "id": "d9b7fce6",
   "metadata": {},
   "outputs": [],
   "source": []
  }
 ],
 "metadata": {
  "kernelspec": {
   "display_name": "Python 3 (ipykernel)",
   "language": "python",
   "name": "python3"
  },
  "language_info": {
   "codemirror_mode": {
    "name": "ipython",
    "version": 3
   },
   "file_extension": ".py",
   "mimetype": "text/x-python",
   "name": "python",
   "nbconvert_exporter": "python",
   "pygments_lexer": "ipython3",
   "version": "3.9.12"
  }
 },
 "nbformat": 4,
 "nbformat_minor": 5
}
