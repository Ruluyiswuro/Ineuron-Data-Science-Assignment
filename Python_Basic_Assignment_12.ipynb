{
 "cells": [
  {
   "cell_type": "markdown",
   "id": "bc508dde",
   "metadata": {},
   "source": [
    "### Python Basic Assignment 12"
   ]
  },
  {
   "cell_type": "markdown",
   "id": "16d55cf7",
   "metadata": {},
   "source": [
    "### Q1. In what modes should the PdfFileReader() and PdfFileWriter() File objects will be opened?"
   ]
  },
  {
   "cell_type": "markdown",
   "id": "49f9ddf9",
   "metadata": {},
   "source": [
    "### Ans : \n",
    "Tthe PdfFileReader() will be opened in rb which is read binary mode while the PdfFileWriter() will be opened in wb which is write binary mode.\n"
   ]
  },
  {
   "cell_type": "markdown",
   "id": "99b20496",
   "metadata": {},
   "source": [
    "### Q2. From a PdfFileReader object, how do you get a Page object for page 5?"
   ]
  },
  {
   "cell_type": "markdown",
   "id": "31a039da",
   "metadata": {},
   "source": [
    "### Ans :\n",
    "PdfFileReader class provides a method called getPage(page_no) to get a page object."
   ]
  },
  {
   "cell_type": "code",
   "execution_count": null,
   "id": "74efd542",
   "metadata": {},
   "outputs": [],
   "source": [
    "#example\n",
    "from pyPDF2 import PdfFileReader\n",
    "read_pdf = PdfFileReader(file_path)\n",
    "for page in read_pdf.getNumPages():\n",
    "    read_pdf.getPage(page)"
   ]
  },
  {
   "cell_type": "markdown",
   "id": "5991e7fe",
   "metadata": {},
   "source": [
    "### Q3. What PdfFileReader variables stores the number of pages in the PDF document?"
   ]
  },
  {
   "cell_type": "markdown",
   "id": "4a3ae071",
   "metadata": {},
   "source": [
    "### Ans :\n",
    "getNumPages() method stores PdfFileReader class stores the number of pages in a PDF document."
   ]
  },
  {
   "cell_type": "markdown",
   "id": "429bea2e",
   "metadata": {},
   "source": [
    "### Q4. If  a PdfFileReader object's PDF is encrypted with the password sworfish, what must you do before you can obtain Page objects from it?"
   ]
  },
  {
   "cell_type": "markdown",
   "id": "2173f3eb",
   "metadata": {},
   "source": [
    "### Ans :\n",
    "If a PdfFileReader object's PDF is encrypted with the password swordfish and we are not aware of it, we will first read the PDF using the PdfFileReader. PdfFileReader class provides an attribute called isEncrypted to check whether a pdf file is encrypted or not. The method returns True is a PDF is encrypted and vice versa. If pdf is encrypted we will use the decrypt() method provided by PdfFileReader class and then we will read the contents/pages of the pdf, else PyPDF2 will raise the following error, PyPDF2.utils.PdfReadError: file has not been decrypted."
   ]
  },
  {
   "cell_type": "code",
   "execution_count": null,
   "id": "9d4e9b71",
   "metadata": {},
   "outputs": [],
   "source": [
    "#example\n",
    "from PyPDF2 import PdfFileReader\n",
    "pdf_reader = PdfFileReader(file_path)\n",
    "if pdf_reader.isEncrypted:\n",
    "    pdf_reader.decrypt(\"swordfish\")\n",
    "for page in pdf_reader.pages:\n",
    "    print(page.extractText())"
   ]
  },
  {
   "cell_type": "markdown",
   "id": "fd425ad7",
   "metadata": {},
   "source": [
    "### Q5. What method do you use to rotate a page?"
   ]
  },
  {
   "cell_type": "markdown",
   "id": "4bd2c55b",
   "metadata": {},
   "source": [
    "### Ans :\n",
    "PyPDF2 Package provides 2 mthods to ritate a page:\n",
    "1. rotateClockWise() and\n",
    "2. rotateCounterClockWise()\n",
    "\n",
    "The PyPDF2 package only allows you to rotate a page in increment of 90 degress. You will receive an AssertionError otherwise."
   ]
  },
  {
   "cell_type": "markdown",
   "id": "dd989c72",
   "metadata": {},
   "source": [
    "### Q6. What is the difference between a Run object and a Paragraph object?\n"
   ]
  },
  {
   "cell_type": "markdown",
   "id": "13783d3b",
   "metadata": {},
   "source": [
    "### Ans : \n",
    "The structure of a document is represented by three different data types in python-Docx. At the highest level, a document object represents the entire document. The document object contains a list of Paragraph objects for the paragraphs in the document. (A new paragraph begins whenever the user presses Enter or Return while typing in a Word document). Each of these Paragraph object contains a list of one or more Run objects.\n",
    "\n",
    "The text in word document is more than just a string. It has font, size, color, and other styling information associated with it. A style in Word is a collection of these attributes. A Run object is a contiguous run of text with the same style. A new Run object is needed whenever the test style changes."
   ]
  },
  {
   "cell_type": "markdown",
   "id": "1d4b8e86",
   "metadata": {},
   "source": [
    "### Q7. How do you obtian a list of Paragraph objects for a document object that's stored in a variable named doc?"
   ]
  },
  {
   "cell_type": "markdown",
   "id": "a9c7776c",
   "metadata": {},
   "source": [
    "### Ans : "
   ]
  },
  {
   "cell_type": "code",
   "execution_count": 1,
   "id": "889b7408",
   "metadata": {},
   "outputs": [
    {
     "name": "stdout",
     "output_type": "stream",
     "text": [
      "Collecting docx\n",
      "  Downloading docx-0.2.4.tar.gz (54 kB)\n",
      "Requirement already satisfied: lxml in c:\\users\\atsuy\\anaconda3\\lib\\site-packages (from docx) (4.8.0)\n",
      "Requirement already satisfied: Pillow>=2.0 in c:\\users\\atsuy\\anaconda3\\lib\\site-packages (from docx) (9.0.1)\n",
      "Building wheels for collected packages: docx\n",
      "  Building wheel for docx (setup.py): started\n",
      "  Building wheel for docx (setup.py): finished with status 'done'\n",
      "  Created wheel for docx: filename=docx-0.2.4-py3-none-any.whl size=53924 sha256=7e7bd154be3d4303d743e13903f9f39ce8068d4c13b109a9fb4f63aec7fdf7f2\n",
      "  Stored in directory: c:\\users\\atsuy\\appdata\\local\\pip\\cache\\wheels\\0f\\8e\\9d\\7003eed35a84cf960876aae6bdf60d02041ddfcca66eceee94\n",
      "Successfully built docx\n",
      "Installing collected packages: docx\n",
      "Successfully installed docx-0.2.4\n",
      "Note: you may need to restart the kernel to use updated packages.\n"
     ]
    }
   ],
   "source": [
    "pip install docx"
   ]
  },
  {
   "cell_type": "code",
   "execution_count": null,
   "id": "23d3f4a2",
   "metadata": {},
   "outputs": [],
   "source": [
    "#example\n",
    "from docx import Document\n",
    "doc = Document(\"sample_file.docx\")#file path\n",
    "print(doc.paragraphs)\n",
    "for paragraph in doc.paragraphs:\n",
    "    print(paragraph.text)"
   ]
  },
  {
   "cell_type": "markdown",
   "id": "556ba458",
   "metadata": {},
   "source": [
    "### Q8. What type of object has a bold, underline, italic, strike, and outline variables?"
   ]
  },
  {
   "cell_type": "markdown",
   "id": "3b6e3c33",
   "metadata": {},
   "source": [
    "### Ans :\n",
    "Run object has bold, underline, italic, strike and outline variables."
   ]
  },
  {
   "cell_type": "markdown",
   "id": "77650bd3",
   "metadata": {},
   "source": [
    "### Q9. What is the difference between False, True and None for the bold variable?\n"
   ]
  },
  {
   "cell_type": "markdown",
   "id": "54799e31",
   "metadata": {},
   "source": [
    "### Ans :\n",
    "The differences are :\n",
    "1. bold = True will set the style to bold.\n",
    "2. bold = False means the style not set to bold.\n",
    "3. bold = None means the style if Not Applicable."
   ]
  },
  {
   "cell_type": "markdown",
   "id": "7e1a6c8c",
   "metadata": {},
   "source": [
    "### Q10. How do you create a Document object for a new Word document?"
   ]
  },
  {
   "cell_type": "markdown",
   "id": "fcf923ed",
   "metadata": {},
   "source": [
    "### Ans :\n",
    "Example to create a document object for a new word document is given as follows:"
   ]
  },
  {
   "cell_type": "code",
   "execution_count": null,
   "id": "49ebf643",
   "metadata": {},
   "outputs": [],
   "source": [
    "from docx import Document\n",
    "document = Document()\n",
    "document.add_paragraph(\"Full Stack Data Science BootCamp\")\n",
    "document.save('new_doc.docx')"
   ]
  },
  {
   "cell_type": "markdown",
   "id": "56fb4c88",
   "metadata": {},
   "source": [
    "### Q11. How do you add a paragraph with the text 'Hello, there!' to a Document object stored in a variable named doc?"
   ]
  },
  {
   "cell_type": "markdown",
   "id": "ca9c55d2",
   "metadata": {},
   "source": [
    "### Ans :\n",
    "To add a pragraph with text to a document object, we have the following code:\n"
   ]
  },
  {
   "cell_type": "code",
   "execution_count": null,
   "id": "eb9ace58",
   "metadata": {},
   "outputs": [],
   "source": [
    "from docx import Document\n",
    "doc = Document()\n",
    "doc.add_paragraph('Hello, there!')\n",
    "doc.save('hell.docx')"
   ]
  },
  {
   "cell_type": "markdown",
   "id": "69b5dca2",
   "metadata": {},
   "source": [
    "### Q12. What integers represent the levels of headings avaialble in  Word document?"
   ]
  },
  {
   "cell_type": "markdown",
   "id": "3ea7dff9",
   "metadata": {},
   "source": [
    "### Ans:\n",
    "The levels for heading in a word document can be specified by using the level attribute inside the add_heading method. There are a total of 5 levels starting from 0 to 4 where level 0 makes headline with the horizontal line below the text, whereas, the heading level 1 is the main heading. Similarly, the other headings are sub-heading with their font-sizes in decreasing order."
   ]
  }
 ],
 "metadata": {
  "kernelspec": {
   "display_name": "Python 3 (ipykernel)",
   "language": "python",
   "name": "python3"
  },
  "language_info": {
   "codemirror_mode": {
    "name": "ipython",
    "version": 3
   },
   "file_extension": ".py",
   "mimetype": "text/x-python",
   "name": "python",
   "nbconvert_exporter": "python",
   "pygments_lexer": "ipython3",
   "version": "3.9.12"
  }
 },
 "nbformat": 4,
 "nbformat_minor": 5
}
