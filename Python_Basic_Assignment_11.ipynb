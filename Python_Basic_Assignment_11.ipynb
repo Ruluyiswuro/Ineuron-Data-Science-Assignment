{
 "cells": [
  {
   "cell_type": "markdown",
   "id": "748a3a3e",
   "metadata": {},
   "source": [
    "### Python Basic Assignmenty 11"
   ]
  },
  {
   "cell_type": "markdown",
   "id": "67f6c18e",
   "metadata": {},
   "source": [
    "### Q1. Create an assert statement that shows an AssertionError if the variable spam is a negative integer."
   ]
  },
  {
   "cell_type": "markdown",
   "id": "ec40817f",
   "metadata": {},
   "source": [
    "### Ans :\n"
   ]
  },
  {
   "cell_type": "code",
   "execution_count": 1,
   "id": "d90f3565",
   "metadata": {},
   "outputs": [
    {
     "ename": "AssertionError",
     "evalue": " Variable spam should not be a negative number",
     "output_type": "error",
     "traceback": [
      "\u001b[1;31m---------------------------------------------------------------------------\u001b[0m",
      "\u001b[1;31mAssertionError\u001b[0m                            Traceback (most recent call last)",
      "Input \u001b[1;32mIn [1]\u001b[0m, in \u001b[0;36m<cell line: 2>\u001b[1;34m()\u001b[0m\n\u001b[0;32m      1\u001b[0m spam \u001b[38;5;241m=\u001b[39m \u001b[38;5;241m-\u001b[39m\u001b[38;5;241m33\u001b[39m\n\u001b[1;32m----> 2\u001b[0m \u001b[38;5;28;01massert\u001b[39;00m spam \u001b[38;5;241m>\u001b[39m\u001b[38;5;241m=\u001b[39m \u001b[38;5;241m0\u001b[39m, \u001b[38;5;124m'\u001b[39m\u001b[38;5;124m Variable spam should not be a negative number\u001b[39m\u001b[38;5;124m'\u001b[39m\n",
      "\u001b[1;31mAssertionError\u001b[0m:  Variable spam should not be a negative number"
     ]
    }
   ],
   "source": [
    "spam = -33\n",
    "assert spam >= 0, ' Variable spam should not be a negative number'"
   ]
  },
  {
   "cell_type": "markdown",
   "id": "81bf8841",
   "metadata": {},
   "source": [
    "### Q2. Write an assert statement that triggers an AssertionError if the variables eggs and bacon contain strings that are the same as each other, even if their cases are different(that is, 'hello' and 'hello' are considered the same, and 'goodbye' and 'GOODbye' are also considered the same)."
   ]
  },
  {
   "cell_type": "code",
   "execution_count": 2,
   "id": "1a86d89b",
   "metadata": {},
   "outputs": [],
   "source": [
    "def raise_assert(egg, bacon):\n",
    "    egg = egg.upper()\n",
    "    bacon= bacon.upper()\n",
    "    assert not(egg == bacon), 'Eggs/Bacon should not be the same, which are same now'"
   ]
  },
  {
   "cell_type": "code",
   "execution_count": 3,
   "id": "f9b9d808",
   "metadata": {},
   "outputs": [
    {
     "ename": "AssertionError",
     "evalue": "Eggs/Bacon should not be the same, which are same now",
     "output_type": "error",
     "traceback": [
      "\u001b[1;31m---------------------------------------------------------------------------\u001b[0m",
      "\u001b[1;31mAssertionError\u001b[0m                            Traceback (most recent call last)",
      "Input \u001b[1;32mIn [3]\u001b[0m, in \u001b[0;36m<cell line: 1>\u001b[1;34m()\u001b[0m\n\u001b[1;32m----> 1\u001b[0m \u001b[43mraise_assert\u001b[49m\u001b[43m(\u001b[49m\u001b[38;5;124;43m'\u001b[39;49m\u001b[38;5;124;43mhello\u001b[39;49m\u001b[38;5;124;43m'\u001b[39;49m\u001b[43m,\u001b[49m\u001b[43m \u001b[49m\u001b[38;5;124;43m'\u001b[39;49m\u001b[38;5;124;43mHELLO\u001b[39;49m\u001b[38;5;124;43m'\u001b[39;49m\u001b[43m)\u001b[49m\n",
      "Input \u001b[1;32mIn [2]\u001b[0m, in \u001b[0;36mraise_assert\u001b[1;34m(egg, bacon)\u001b[0m\n\u001b[0;32m      2\u001b[0m egg \u001b[38;5;241m=\u001b[39m egg\u001b[38;5;241m.\u001b[39mupper()\n\u001b[0;32m      3\u001b[0m bacon\u001b[38;5;241m=\u001b[39m bacon\u001b[38;5;241m.\u001b[39mupper()\n\u001b[1;32m----> 4\u001b[0m \u001b[38;5;28;01massert\u001b[39;00m \u001b[38;5;129;01mnot\u001b[39;00m(egg \u001b[38;5;241m==\u001b[39m bacon), \u001b[38;5;124m'\u001b[39m\u001b[38;5;124mEggs/Bacon should not be the same, which are same now\u001b[39m\u001b[38;5;124m'\u001b[39m\n",
      "\u001b[1;31mAssertionError\u001b[0m: Eggs/Bacon should not be the same, which are same now"
     ]
    }
   ],
   "source": [
    "raise_assert('hello', 'HELLO')"
   ]
  },
  {
   "cell_type": "code",
   "execution_count": 4,
   "id": "5f5a6b43",
   "metadata": {},
   "outputs": [
    {
     "ename": "AssertionError",
     "evalue": "Eggs/Bacon should not be the same, which are same now",
     "output_type": "error",
     "traceback": [
      "\u001b[1;31m---------------------------------------------------------------------------\u001b[0m",
      "\u001b[1;31mAssertionError\u001b[0m                            Traceback (most recent call last)",
      "Input \u001b[1;32mIn [4]\u001b[0m, in \u001b[0;36m<cell line: 1>\u001b[1;34m()\u001b[0m\n\u001b[1;32m----> 1\u001b[0m \u001b[43mraise_assert\u001b[49m\u001b[43m(\u001b[49m\u001b[38;5;124;43m'\u001b[39;49m\u001b[38;5;124;43mgoodbye\u001b[39;49m\u001b[38;5;124;43m'\u001b[39;49m\u001b[43m,\u001b[49m\u001b[43m \u001b[49m\u001b[38;5;124;43m'\u001b[39;49m\u001b[38;5;124;43mGOODbye\u001b[39;49m\u001b[38;5;124;43m'\u001b[39;49m\u001b[43m)\u001b[49m\n",
      "Input \u001b[1;32mIn [2]\u001b[0m, in \u001b[0;36mraise_assert\u001b[1;34m(egg, bacon)\u001b[0m\n\u001b[0;32m      2\u001b[0m egg \u001b[38;5;241m=\u001b[39m egg\u001b[38;5;241m.\u001b[39mupper()\n\u001b[0;32m      3\u001b[0m bacon\u001b[38;5;241m=\u001b[39m bacon\u001b[38;5;241m.\u001b[39mupper()\n\u001b[1;32m----> 4\u001b[0m \u001b[38;5;28;01massert\u001b[39;00m \u001b[38;5;129;01mnot\u001b[39;00m(egg \u001b[38;5;241m==\u001b[39m bacon), \u001b[38;5;124m'\u001b[39m\u001b[38;5;124mEggs/Bacon should not be the same, which are same now\u001b[39m\u001b[38;5;124m'\u001b[39m\n",
      "\u001b[1;31mAssertionError\u001b[0m: Eggs/Bacon should not be the same, which are same now"
     ]
    }
   ],
   "source": [
    "raise_assert('goodbye', 'GOODbye')"
   ]
  },
  {
   "cell_type": "markdown",
   "id": "d29508c1",
   "metadata": {},
   "source": [
    "### Q3. Create an assert statement that throws an AssertionError everytime."
   ]
  },
  {
   "cell_type": "code",
   "execution_count": 5,
   "id": "d9f4856c",
   "metadata": {},
   "outputs": [
    {
     "ename": "AssertionError",
     "evalue": "Always shows AssertionError",
     "output_type": "error",
     "traceback": [
      "\u001b[1;31m---------------------------------------------------------------------------\u001b[0m",
      "\u001b[1;31mAssertionError\u001b[0m                            Traceback (most recent call last)",
      "Input \u001b[1;32mIn [5]\u001b[0m, in \u001b[0;36m<cell line: 3>\u001b[1;34m()\u001b[0m\n\u001b[0;32m      1\u001b[0m \u001b[38;5;28;01mdef\u001b[39;00m \u001b[38;5;21massert_always_error\u001b[39m():\n\u001b[0;32m      2\u001b[0m     \u001b[38;5;28;01massert\u001b[39;00m \u001b[38;5;28;01mFalse\u001b[39;00m, \u001b[38;5;124m'\u001b[39m\u001b[38;5;124mAlways shows AssertionError\u001b[39m\u001b[38;5;124m'\u001b[39m\n\u001b[1;32m----> 3\u001b[0m \u001b[43massert_always_error\u001b[49m\u001b[43m(\u001b[49m\u001b[43m)\u001b[49m\n",
      "Input \u001b[1;32mIn [5]\u001b[0m, in \u001b[0;36massert_always_error\u001b[1;34m()\u001b[0m\n\u001b[0;32m      1\u001b[0m \u001b[38;5;28;01mdef\u001b[39;00m \u001b[38;5;21massert_always_error\u001b[39m():\n\u001b[1;32m----> 2\u001b[0m     \u001b[38;5;28;01massert\u001b[39;00m \u001b[38;5;28;01mFalse\u001b[39;00m, \u001b[38;5;124m'\u001b[39m\u001b[38;5;124mAlways shows AssertionError\u001b[39m\u001b[38;5;124m'\u001b[39m\n",
      "\u001b[1;31mAssertionError\u001b[0m: Always shows AssertionError"
     ]
    }
   ],
   "source": [
    "def assert_always_error():\n",
    "    assert False, 'Always shows AssertionError'\n",
    "assert_always_error()"
   ]
  },
  {
   "cell_type": "markdown",
   "id": "9a3af9c5",
   "metadata": {},
   "source": [
    "### Q4. What are the two lines that must be present in your software in order to call logging.debug()?"
   ]
  },
  {
   "cell_type": "markdown",
   "id": "23cd01a3",
   "metadata": {},
   "source": [
    "### Ans : \n",
    "The two lines that must be present in order to call logging.debug() are:"
   ]
  },
  {
   "cell_type": "code",
   "execution_count": 6,
   "id": "0752f148",
   "metadata": {},
   "outputs": [],
   "source": [
    "import logging\n",
    "logging.basicConfig(filename = 'logfile.txt', level = logging.DEBUG, format = '%(asctime)s - %(levelname)s - %(message)s')"
   ]
  },
  {
   "cell_type": "markdown",
   "id": "32d6f47e",
   "metadata": {},
   "source": [
    "### Q5. What are the two lines that your program must have in order to have logging.debug() send a logging message to a file named programLog.txt?"
   ]
  },
  {
   "cell_type": "code",
   "execution_count": 7,
   "id": "0f7f6b31",
   "metadata": {},
   "outputs": [],
   "source": [
    "import logging as lg\n"
   ]
  },
  {
   "cell_type": "code",
   "execution_count": 8,
   "id": "ca9266fd",
   "metadata": {},
   "outputs": [],
   "source": [
    "import logging\n",
    "lg.basicConfig(filename = 'programLog.txt',level=logging.DEBUG, format=' %(asctime)s - %(levelname)s - %(message)s')\n",
    "lg.debug(\"Data Inserted Successfully\")\n",
    "lg.debug('Connection Closed Successfully')"
   ]
  },
  {
   "cell_type": "markdown",
   "id": "64c619dd",
   "metadata": {},
   "source": [
    "### Q6. What are the five levels of logging?"
   ]
  },
  {
   "cell_type": "markdown",
   "id": "4b26f57e",
   "metadata": {},
   "source": [
    "#### Ans : \n",
    "The five levels of logging are :\n",
    "1. logging.DEBUG(10)\n",
    "2. logging.INFO(20)\n",
    "3. logging.WARNING(30)\n",
    "4. logging.ERROR(40)\n",
    "5. logging.CRITICAl(50)"
   ]
  },
  {
   "cell_type": "markdown",
   "id": "1aec753b",
   "metadata": {},
   "source": [
    "### Q7. What line of code would you add to your software to disable all logging message?"
   ]
  },
  {
   "cell_type": "markdown",
   "id": "ef84335b",
   "metadata": {},
   "source": [
    "### Ans : \n",
    "The line of code we can use to disable all logging message is\n",
    "\n",
    "logging.disable = True"
   ]
  },
  {
   "cell_type": "markdown",
   "id": "bcd06cdb",
   "metadata": {},
   "source": [
    "### Q8. Why is using logging messages better than using print() to dispalu the same message?"
   ]
  },
  {
   "cell_type": "markdown",
   "id": "15dd0e85",
   "metadata": {},
   "source": [
    "### Ans : \n",
    "Post development of our code, we can disable logging messages without removing the logging function, whereas, we need to manually remove print() statement which would become a tedious activity. Also, print() statement is used when we want to display any particular message or help wherteas logging is uused to recoded all events such as info, error, debug messahes and timestamps."
   ]
  },
  {
   "cell_type": "markdown",
   "id": "8d44a40e",
   "metadata": {},
   "source": [
    "### Q9. What are the differences between the Step Over, Step In and Step Out buttons in the debugger?\n"
   ]
  },
  {
   "cell_type": "markdown",
   "id": "bc63b37f",
   "metadata": {},
   "source": [
    "### Ans :\n",
    "The differences between Step Over, Step In, and Step Out buttonsn in debugger are:\n",
    "1. Step In buttton will cause the debugger to execute the next line of code and then pause again.\n",
    "2. Step Over button will execute the next line of code, similar to the Step In button, however, if the next line of code is a function call, the Step Over button will step over the code in the function. The function's code will be executed at full speed, and the debugger will pause as soon as the function call returns.\n",
    "3. Step Out button will cause the debugger to execute lines of code at full speed until it returns from the current function."
   ]
  },
  {
   "cell_type": "markdown",
   "id": "5f1c2679",
   "metadata": {},
   "source": [
    "### Q10. After you click Continue, when will the debugger stop?\n"
   ]
  },
  {
   "cell_type": "markdown",
   "id": "0cac1ff4",
   "metadata": {},
   "source": [
    "### Ans : \n",
    "The Continue function will cause the program continue running normally without pausing for debugging until it terminates or reaches a breakpoint."
   ]
  },
  {
   "cell_type": "markdown",
   "id": "06c80080",
   "metadata": {},
   "source": [
    "### Q11. What is the concept of a breakpoint?\n"
   ]
  },
  {
   "cell_type": "markdown",
   "id": "7c261b4d",
   "metadata": {},
   "source": [
    "### Ans : \n",
    "Breakpoint is a setting on a line of code that causes the debugger to pause when the program execution reaches the line."
   ]
  }
 ],
 "metadata": {
  "kernelspec": {
   "display_name": "Python 3 (ipykernel)",
   "language": "python",
   "name": "python3"
  },
  "language_info": {
   "codemirror_mode": {
    "name": "ipython",
    "version": 3
   },
   "file_extension": ".py",
   "mimetype": "text/x-python",
   "name": "python",
   "nbconvert_exporter": "python",
   "pygments_lexer": "ipython3",
   "version": "3.9.12"
  }
 },
 "nbformat": 4,
 "nbformat_minor": 5
}
