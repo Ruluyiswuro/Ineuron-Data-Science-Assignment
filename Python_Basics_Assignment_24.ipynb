{
 "cells": [
  {
   "cell_type": "markdown",
   "id": "e8cf5c01-4f1d-416e-b221-49e9efc047b4",
   "metadata": {},
   "source": [
    "# Python Basics Assignment 24"
   ]
  },
  {
   "cell_type": "markdown",
   "id": "28078825-22c4-4f72-bd20-fec3f011cac7",
   "metadata": {},
   "source": [
    "### 1. What is the relationship between def statements and lambda expressions ?\n",
    "\n",
    "\n",
    "\n",
    "\n"
   ]
  },
  {
   "cell_type": "markdown",
   "id": "a22bb34b-9a34-4937-bb16-a347496248a5",
   "metadata": {},
   "source": [
    "### Ans :\n",
    "A def statement is used to define a named function in most programming languages. It allows you to define a block of code as a reusable function with a given name and parameters. The def statement typically includes a function body with one or more statements that are executed when the function is called. \n",
    "\n",
    "A lambda expression, also known as an anonymous function, is a way to define a function without a name. It allows you to create small, one-line functions on the fly. Lambda expressions are often used in situations where a function is needed as an argument to another function or where a short function is required. "
   ]
  },
  {
   "cell_type": "code",
   "execution_count": 1,
   "id": "7ac3e2e4-0a46-44b4-bb32-a400cbf5fa8a",
   "metadata": {},
   "outputs": [],
   "source": [
    "#def\n",
    "def add_numbers(a, b):\n",
    "    return a + b\n",
    "\n",
    "#lambda\n",
    "add_numbers = lambda a, b: a + b"
   ]
  },
  {
   "cell_type": "markdown",
   "id": "5be9ba29-1962-440f-a071-35bd73d07852",
   "metadata": {},
   "source": [
    "### 2. What is the benefit of lambda?\n"
   ]
  },
  {
   "cell_type": "markdown",
   "id": "a208aa43-e26d-4c8e-b1e5-e53279c7f2c4",
   "metadata": {},
   "source": [
    "### Ans:\n",
    "The following are some of the benefits of lambda expressions:\n",
    "\n",
    "1. It can be used to create Nameless/Anonymous functions inside some complex functions if we are planning to use it only once.\n",
    "2. Moderate to small functions can be created in a single line\n",
    "3. Fuctions created using lambda expressions can be assigned to a variable and can be used by simply calling the variable"
   ]
  },
  {
   "cell_type": "markdown",
   "id": "89635db1-f613-40ac-a1e0-73eb764f6f4d",
   "metadata": {},
   "source": [
    "### 3. Compare and contrast map, filter, and reduce."
   ]
  },
  {
   "cell_type": "markdown",
   "id": "f55839a7-d9c0-4585-aa66-c202cd4327dc",
   "metadata": {},
   "source": [
    "### Ans :\n",
    "The difference between map, filter and reduce are :\n",
    "1. map(): The map() function is a type of higher-order. This function takes another function as a parameteralong with a sequence of iterables and returns an output after applying the function to each iterable present in the sequence.\n",
    "2. filter(): The filter() function is used to create an output list consisting of values for which the function returns true.\n",
    "3. reduce(): The reduce() function, as the name describes, applies a given function to the iterables and returns a single value"
   ]
  },
  {
   "cell_type": "code",
   "execution_count": 2,
   "id": "575a4aac-4af1-4d07-bfe4-c93d1d491056",
   "metadata": {},
   "outputs": [
    {
     "name": "stdout",
     "output_type": "stream",
     "text": [
      "Map -> [2, 4, 6, 16]\n",
      "Filter -> [1, 3, 9]\n",
      "Reduce -> 22\n"
     ]
    }
   ],
   "source": [
    "from functools import reduce\n",
    "# map function\n",
    "print('Map ->',list(map(lambda x:x+x, [1,2,3,8])))\n",
    "# fitler function\n",
    "print('Filter ->',list(filter(lambda x:x%2 !=0, [1,2,3,9])))\n",
    "# reduce function\n",
    "print('Reduce ->',reduce(lambda x,y:x+y, [1,2,3,4,5,7]))"
   ]
  },
  {
   "cell_type": "markdown",
   "id": "7026e81c-70e3-4350-957d-db2a65edcaa5",
   "metadata": {},
   "source": [
    "### 4. What are function annotations, and how are they used?"
   ]
  },
  {
   "cell_type": "markdown",
   "id": "456ecacc-22e6-445c-bbab-22f185dcf4c0",
   "metadata": {},
   "source": [
    "### Ans: \n",
    "Function annotations provide a way of associating various parts of a function with arbitrary python expressions at compile time.\n",
    "Annotations of simple parameters def func(x: expression, y: expression = 20):\n",
    "Whereas the annotations for excess parameters are as − def func (**args: expression, **kwargs: expression):\n",
    "\n",
    "#### Purpose of Function Annotations:\n",
    "\n",
    "1. Python supports dynamic typing and hence no module is provided for type checking.\n",
    "2. String based annotations can be used by the libraries to provide better help messages at compile time regarding the functionalities of various methods, classes and modules.\n",
    "\n",
    "#### Example of Annotations:\n",
    "\n",
    "1. Annotations for simple parameters : def foo(a: expression, b: expression = 5):\n",
    "2. Annotations for excess parameters : def foo(args: expression, kwargs: expression):\n",
    "3. Annotations for nested parameters : def foo((a: expression, b: expression), (c: expression, d: expression)):"
   ]
  },
  {
   "cell_type": "markdown",
   "id": "19beeccc-2cb7-4c64-831a-959c2b6dca03",
   "metadata": {},
   "source": [
    "### 5. What are recursive functions, and how are they used?"
   ]
  },
  {
   "cell_type": "markdown",
   "id": "dd9f7bb7-d7eb-47fc-b79d-8b54730d76f7",
   "metadata": {},
   "source": [
    "### Ans: \n",
    "A recursive function is a function that calls itself during its execution. The process may repeat several times, outputting the result and the end of each iteration. An example is mentioned below:"
   ]
  },
  {
   "cell_type": "code",
   "execution_count": 4,
   "id": "a30d3506-26ab-40a5-84dd-163ada25edcc",
   "metadata": {},
   "outputs": [
    {
     "name": "stdout",
     "output_type": "stream",
     "text": [
      "\n",
      "\n",
      "Recurion Example Results\n",
      "1\n",
      "3\n",
      "6\n",
      "10\n",
      "15\n",
      "21\n",
      "28\n",
      "36\n",
      "45\n"
     ]
    },
    {
     "data": {
      "text/plain": [
       "45"
      ]
     },
     "execution_count": 4,
     "metadata": {},
     "output_type": "execute_result"
    }
   ],
   "source": [
    "def tri_recursion(k):\n",
    "    if(k>0):\n",
    "        result = k+tri_recursion(k-1)\n",
    "        \n",
    "        print(result)\n",
    "    else:\n",
    "        result = 0\n",
    "    return result\n",
    "print(\"\\n\\nRecurion Example Results\")\n",
    "tri_recursion(9)"
   ]
  },
  {
   "cell_type": "markdown",
   "id": "9bffa942-af8a-4ceb-83e2-ce0faa7d35fe",
   "metadata": {},
   "source": [
    "### 6. What are some general design guidelines for coding functions?"
   ]
  },
  {
   "cell_type": "markdown",
   "id": "db649330-ad97-4858-9163-f81b5316d16d",
   "metadata": {},
   "source": [
    "### Ans:\n",
    "#### Some of the general design guidelines for coding functions are:\n",
    "\n",
    "1. Always use a docstring to explain the functionality of the function\n",
    "2. Avoid using or limit use of global variables\n",
    "3. Proper Indentation to increase the code readability\n",
    "4. Try to follow a proper naming convention for function names (pascalCase or camelCase) and stick with the same convention throughout the application.\n",
    "5. Avoid using digits while choosing a variable name\n",
    "6. Try to use a name for the function which conveys the purpose of the function\n",
    "7. Local variables should be named using camelCase format (ex: localVariable) whereas Global variables names should be using PascalCase (ex:GlobalVariable).\n",
    "8. Constant should be represented in allcaps (ex:CONSTANT)."
   ]
  },
  {
   "cell_type": "markdown",
   "id": "ccddcd80-bbd4-45ee-8e11-222a86aa96cd",
   "metadata": {},
   "source": [
    "### 7. Name three or more ways that functions can communicate results to a caller."
   ]
  },
  {
   "cell_type": "markdown",
   "id": "10452b1f-f4d0-4f6f-b2dc-de65362a8e31",
   "metadata": {},
   "source": [
    "### Ans : Some of the ways in which a function can communicate with the calling function is:\n",
    "\n",
    "1. print\n",
    "2. return\n",
    "3. yield"
   ]
  }
 ],
 "metadata": {
  "kernelspec": {
   "display_name": "Python 3 (ipykernel)",
   "language": "python",
   "name": "python3"
  },
  "language_info": {
   "codemirror_mode": {
    "name": "ipython",
    "version": 3
   },
   "file_extension": ".py",
   "mimetype": "text/x-python",
   "name": "python",
   "nbconvert_exporter": "python",
   "pygments_lexer": "ipython3",
   "version": "3.10.6"
  }
 },
 "nbformat": 4,
 "nbformat_minor": 5
}
