{
 "cells": [
  {
   "cell_type": "markdown",
   "id": "dcde4d28",
   "metadata": {},
   "source": [
    "# Assignment 01 Solutions Python Advance\n",
    "SUBMITTED BY: Ruluyi"
   ]
  },
  {
   "cell_type": "markdown",
   "id": "c4564ec8",
   "metadata": {},
   "source": [
    "# Q1. What is the purpose of Python's OOP?\n",
    "Ans: Object-oriented programming is a programming paradigm that provides a means of structuring programs so that properties and behaviors are bundled into individual objects\n",
    "\n",
    "In Python, object-oriented Programming (OOPs) uses objects and classes in programming.\n",
    "It aims to implement real-world entities like inheritance, polymorphisms, encapsulation, etc. in the programming.\n",
    "The main concept of OOPs is to bind the data and the functions that work on that together as a single unit so that no other part of the code can access this data."
   ]
  },
  {
   "cell_type": "markdown",
   "id": "83a0b865",
   "metadata": {},
   "source": [
    "# Q2. Where does an inheritance search look for an attribute?\n",
    "Ans: Python searches for an attribute in an upward tree of attributes. It first searches for the attribute in its instance and then looks in the class it is generated from, to all super classes listed in its class header."
   ]
  },
  {
   "cell_type": "markdown",
   "id": "ed11cf94",
   "metadata": {},
   "source": [
    "# Q3. How do you distinguish between a class object and an instance object?\n",
    "Ans: The differences between a class object and an instance object are:\n",
    "\n",
    "Class is a template for creating objects whereas object is an instance of class\n",
    "Seperate memory is allocated for each object whenever an object is created. but for a class this doesnot happens.\n",
    "A Class is created once. Many objects are created using a class.\n",
    "As Classes have no allocated memory. they can't be manipulated. but objects can be manipulated."
   ]
  },
  {
   "cell_type": "markdown",
   "id": "e49b2f69",
   "metadata": {},
   "source": [
    "# Q4. What makes the first argument in a class’s method function special?\n",
    "Ans :. The first argument passed in class method function is the class itself (cls). Python automatically passes the bound object to the method as the first argument."
   ]
  },
  {
   "cell_type": "markdown",
   "id": "f48cddbc",
   "metadata": {},
   "source": [
    "# Q5. What is the purpose of the _ _init_ _ method?\n",
    "Ans: _ __init__ _ is a reseved method in python classes. It serves the role of a constructor in object oriented terminology. This method is called when an object is created from a class and it allows the class to initialize the attributes of the class."
   ]
  },
  {
   "cell_type": "markdown",
   "id": "a656849d",
   "metadata": {},
   "source": [
    "# Q6. What is the process for creating a class instance?\n",
    "Ans : To create a class instance, we need to call the class by its name and pass the arguments to the class, which its init method accepts."
   ]
  },
  {
   "cell_type": "markdown",
   "id": "a60d3e47",
   "metadata": {},
   "source": [
    "# Q7. What is the process for creating a class?\n",
    "Ans: class keyword is used to created a class in python. The syntax to create a class in python is class <classname>:"
   ]
  },
  {
   "cell_type": "markdown",
   "id": "f72f656d",
   "metadata": {},
   "source": [
    "# Q8. How would you define the superclasses of a class?\n",
    "Ans : Superclass/Parent class is given as a arugment to the child class."
   ]
  },
  {
   "cell_type": "code",
   "execution_count": null,
   "id": "46037cbc",
   "metadata": {},
   "outputs": [],
   "source": []
  }
 ],
 "metadata": {
  "kernelspec": {
   "display_name": "Python 3 (ipykernel)",
   "language": "python",
   "name": "python3"
  },
  "language_info": {
   "codemirror_mode": {
    "name": "ipython",
    "version": 3
   },
   "file_extension": ".py",
   "mimetype": "text/x-python",
   "name": "python",
   "nbconvert_exporter": "python",
   "pygments_lexer": "ipython3",
   "version": "3.9.12"
  }
 },
 "nbformat": 4,
 "nbformat_minor": 5
}
