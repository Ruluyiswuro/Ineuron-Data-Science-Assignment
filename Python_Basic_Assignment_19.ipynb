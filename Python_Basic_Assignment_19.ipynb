{
 "cells": [
  {
   "cell_type": "markdown",
   "id": "abe2ac38",
   "metadata": {},
   "source": [
    "# Python Basic Assignment 19"
   ]
  },
  {
   "cell_type": "markdown",
   "id": "319422db",
   "metadata": {},
   "source": [
    "#### Q1. Make a class called Thing with no contents and print it. Then, create an object called example from this class and also print it. Are the printed values the same or different?"
   ]
  },
  {
   "cell_type": "code",
   "execution_count": 2,
   "id": "fcf89761",
   "metadata": {},
   "outputs": [
    {
     "name": "stdout",
     "output_type": "stream",
     "text": [
      "The print result for class is :  <class '__main__.Thing'>\n",
      "The print result for object is :  <__main__.Thing object at 0x000002C5C28F2F10>\n"
     ]
    }
   ],
   "source": [
    "class Thing:\n",
    "    pass\n",
    "print(\"The print result for class is : \" ,Thing)\n",
    "\n",
    "example = Thing()\n",
    "print(\"The print result for object is : \", example)"
   ]
  },
  {
   "cell_type": "markdown",
   "id": "df037b47",
   "metadata": {},
   "source": [
    "#### Q2. Create a new class called Thing2 and add the value 'abc' to the letters class attribute. Letters should be printed out."
   ]
  },
  {
   "cell_type": "code",
   "execution_count": 4,
   "id": "f3f96a63",
   "metadata": {},
   "outputs": [
    {
     "name": "stdout",
     "output_type": "stream",
     "text": [
      "abc\n"
     ]
    }
   ],
   "source": [
    "class Thing2:\n",
    "    letters = 'abc'\n",
    "print(Thing2.letters)"
   ]
  },
  {
   "cell_type": "markdown",
   "id": "b6e38ee7",
   "metadata": {},
   "source": [
    "#### Q3. Make yet another class called, of course, Thing3. This time, assign the value 'xyz' to an instance (object) attribute called letters. Print letters. Do you need to make an object from the class to do this?"
   ]
  },
  {
   "cell_type": "code",
   "execution_count": 13,
   "id": "c3cd262a",
   "metadata": {},
   "outputs": [
    {
     "name": "stdout",
     "output_type": "stream",
     "text": [
      "xyz\n"
     ]
    }
   ],
   "source": [
    "class Thing3:\n",
    "    def __init__(self):\n",
    "        self.letters = 'xyz'\n",
    "#print(Thing3.letters) gives error\n",
    "try:\n",
    "    print(Thing3.letters)\n",
    "except:\n",
    "    exception_Thing3 = Thing3()\n",
    "    print(exception_Thing3.letters)"
   ]
  },
  {
   "cell_type": "markdown",
   "id": "bd4e50ce",
   "metadata": {},
   "source": [
    "#### Q4. Create an Element class with the instance attributes name, symbol, and number. Create a class object with the values 'Hydrogen', 'H', and 1."
   ]
  },
  {
   "cell_type": "code",
   "execution_count": 16,
   "id": "f0dc6199",
   "metadata": {},
   "outputs": [],
   "source": [
    "class Element:\n",
    "    def __init__(self, name, symbol, number):\n",
    "        self.name = name\n",
    "        self.symbol = symbol\n",
    "        self.number = number\n",
    "my_elements = Element('Hydrogen', 'H', 1)\n"
   ]
  },
  {
   "cell_type": "markdown",
   "id": "309b87fd",
   "metadata": {},
   "source": [
    "#### Q5. Make a dictionary with these keys and values : 'name' : 'Hydrogen', 'symbol': 'H', 'number': 1. Then create an object called hydrogen from class Element using this dictionary."
   ]
  },
  {
   "cell_type": "code",
   "execution_count": 19,
   "id": "0516a7eb",
   "metadata": {},
   "outputs": [
    {
     "name": "stdout",
     "output_type": "stream",
     "text": [
      "{'name': 'Hydrogen', 'symbol': 'H', 'number': 1}\n",
      "Hydrogen H 1\n"
     ]
    }
   ],
   "source": [
    "dict = {'name' : 'Hydrogen', 'symbol': 'H', 'number' : 1}\n",
    "print (dict)\n",
    "\n",
    "hydrogen = Element(*dict.values())\n",
    "print(hydrogen.name, hydrogen.symbol, hydrogen.number)"
   ]
  },
  {
   "cell_type": "markdown",
   "id": "6f0a86ee",
   "metadata": {},
   "source": [
    "#### Q6. For the Element class, define a method called dump() that prints the value of the object's attributes ( name, symbol, and number). Create the hydrogen object from this new definition and use dump() to print its attributes."
   ]
  },
  {
   "cell_type": "code",
   "execution_count": 30,
   "id": "b60d9bfe",
   "metadata": {},
   "outputs": [
    {
     "name": "stdout",
     "output_type": "stream",
     "text": [
      "Hydrogen  H  1\n"
     ]
    }
   ],
   "source": [
    "class Element:\n",
    "    def __init__(self, name, symbol, number):\n",
    "        self.name = name\n",
    "        self.symbol = symbol\n",
    "        self.number = number\n",
    "    def dump(self):\n",
    "        print(self.name, self.symbol, self.number)\n",
    "    \n",
    "hydrogen = Element(\"Hydrogen\", \" H\", \" 1\")\n",
    "hydrogen.dump()"
   ]
  },
  {
   "cell_type": "markdown",
   "id": "05eb90fa",
   "metadata": {},
   "source": [
    "#### Q7. Call print(hydrogen). In the definition of Element, change the name of the method dump to __ __str__ __. Create a new hydrogen object and call print(hydrogen again.\n"
   ]
  },
  {
   "cell_type": "code",
   "execution_count": 33,
   "id": "eb79f415",
   "metadata": {},
   "outputs": [
    {
     "name": "stdout",
     "output_type": "stream",
     "text": [
      "<__main__.Element object at 0x000002C5C3DB19D0>\n",
      " Hydrogen  H  1\n"
     ]
    }
   ],
   "source": [
    "print(hydrogen)\n",
    "\n",
    "class Element:\n",
    "    def __init__(self, name, symbol, number):\n",
    "        self.name = name\n",
    "        self.symbol = symbol\n",
    "        self.number = number\n",
    "    def __str__(self):\n",
    "        return f' {self.name} {self.symbol} {self.number}'\n",
    "    \n",
    "hydrogen = Element(\"Hydrogen\", \" H\", \" 1\")\n",
    "print(hydrogen)"
   ]
  },
  {
   "cell_type": "markdown",
   "id": "e78d8075",
   "metadata": {},
   "source": [
    "#### Q8. Modify Element to make attributes name, symbol, and number private. Define a getter property for each to return its value."
   ]
  },
  {
   "cell_type": "code",
   "execution_count": 34,
   "id": "e425b5ef",
   "metadata": {},
   "outputs": [
    {
     "name": "stdout",
     "output_type": "stream",
     "text": [
      "Hydrogen\n",
      "H\n",
      "1\n"
     ]
    }
   ],
   "source": [
    "class Element:\n",
    "    def __init__(self, name, symbol, number):\n",
    "        self.__name = name\n",
    "        self.__symbol = symbol\n",
    "        self.__number = number\n",
    "        \n",
    "    @property\n",
    "    def get_name(self):\n",
    "        return self.__name\n",
    "    \n",
    "    @property\n",
    "    def get_symbol(self):\n",
    "        return self.__symbol\n",
    "    \n",
    "    @property\n",
    "    def get_number(self):\n",
    "        return self.__number\n",
    "    \n",
    "hydrogen = Element(\"Hydrogen\", \"H\", 1)\n",
    "print(hydrogen.get_name)\n",
    "print(hydrogen.get_symbol)\n",
    "print(hydrogen.get_number)"
   ]
  },
  {
   "cell_type": "markdown",
   "id": "2e0cebef",
   "metadata": {},
   "source": [
    "#### Q9. Define three classes: Bear, Rabbit, and Octothorpe. For each, define only one method : eats(). This should return 'berries' (Bear), 'clover' (Rabbit), or  'campers'(Octothorpe). Create one object from each and print what it eats."
   ]
  },
  {
   "cell_type": "code",
   "execution_count": 35,
   "id": "52055286",
   "metadata": {},
   "outputs": [
    {
     "name": "stdout",
     "output_type": "stream",
     "text": [
      "berries\n",
      "clover\n",
      "campers\n"
     ]
    }
   ],
   "source": [
    "class Bear :\n",
    "    def eats(self):\n",
    "        print('berries')\n",
    "class Rabbit:\n",
    "    def eats(self):\n",
    "        print('clover')\n",
    "class Octothorpe:\n",
    "    def eats(self):\n",
    "        print('campers')\n",
    "bear = Bear()\n",
    "rabbit = Rabbit()\n",
    "octothorpe = Octothorpe()\n",
    "\n",
    "bear.eats()\n",
    "rabbit.eats()\n",
    "octothorpe.eats()"
   ]
  },
  {
   "cell_type": "markdown",
   "id": "a966e8c4",
   "metadata": {},
   "source": [
    "#### Q10. Define these classes: Laser, Claw, and SmartPhone. Each has only one method : does(). This returns 'disintegrate' (Laser), 'crush' (Claw), or 'ring' (SmartPhone). Then define the class Robot that has one instance (object) of each of these. Define a does() method for the Robot that prints what its component objects do."
   ]
  },
  {
   "cell_type": "code",
   "execution_count": 37,
   "id": "d2ea0c6d",
   "metadata": {},
   "outputs": [
    {
     "name": "stdout",
     "output_type": "stream",
     "text": [
      "disintegrate crush ring\n"
     ]
    }
   ],
   "source": [
    "class Laser :\n",
    "    def does(self):\n",
    "        return ('disintegrate')\n",
    "class Claw:\n",
    "    def does(self):\n",
    "        return ('crush')\n",
    "class SmartPhone:\n",
    "    def does(self):\n",
    "        return ('ring')\n",
    "\n",
    "class Robot:\n",
    "        def __init__(self):\n",
    "            self.laser = Laser()\n",
    "            self.claw = Claw()\n",
    "            self.smartphone = SmartPhone()\n",
    "        def does(self):\n",
    "            print(self.laser.does(), self.claw.does(), self.smartphone.does())\n",
    "\n",
    "robot = Robot()\n",
    "robot.does()\n"
   ]
  }
 ],
 "metadata": {
  "kernelspec": {
   "display_name": "Python 3 (ipykernel)",
   "language": "python",
   "name": "python3"
  },
  "language_info": {
   "codemirror_mode": {
    "name": "ipython",
    "version": 3
   },
   "file_extension": ".py",
   "mimetype": "text/x-python",
   "name": "python",
   "nbconvert_exporter": "python",
   "pygments_lexer": "ipython3",
   "version": "3.9.12"
  }
 },
 "nbformat": 4,
 "nbformat_minor": 5
}
