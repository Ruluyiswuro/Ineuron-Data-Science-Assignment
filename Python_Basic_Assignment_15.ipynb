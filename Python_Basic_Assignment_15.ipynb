{
 "cells": [
  {
   "cell_type": "markdown",
   "id": "ac63a3c4",
   "metadata": {},
   "source": [
    "# Python Basic Assignment 15"
   ]
  },
  {
   "cell_type": "markdown",
   "id": "312aa1fb",
   "metadata": {},
   "source": [
    "### Q1. How many seconds are in an hour? Use the interactive interpreter as a calculator and multiply the number of seconds in a minute(60) by the number of minutes in an hour(also 60)."
   ]
  },
  {
   "cell_type": "code",
   "execution_count": 18,
   "id": "ff58d703",
   "metadata": {},
   "outputs": [
    {
     "name": "stdout",
     "output_type": "stream",
     "text": [
      "There are 3600 seconds in an hour\n"
     ]
    }
   ],
   "source": [
    "print(\"There are\", 60*60, \"seconds in an hour\")\n",
    " "
   ]
  },
  {
   "cell_type": "markdown",
   "id": "47ad4f9a",
   "metadata": {},
   "source": [
    "### Q2. Assign the result from the previous task(seconds in an hour) to variable called seconds_per_hour."
   ]
  },
  {
   "cell_type": "code",
   "execution_count": 19,
   "id": "9f52a0e9",
   "metadata": {},
   "outputs": [
    {
     "data": {
      "text/plain": [
       "3600"
      ]
     },
     "execution_count": 19,
     "metadata": {},
     "output_type": "execute_result"
    }
   ],
   "source": [
    "seconds_per_hour = 60*60\n",
    "seconds_per_hour"
   ]
  },
  {
   "cell_type": "markdown",
   "id": "d6350fc8",
   "metadata": {},
   "source": [
    "### Q3. How many seconds do you think there are in a day? Make use of the variable seconds per hour and minutes per hour."
   ]
  },
  {
   "cell_type": "code",
   "execution_count": 20,
   "id": "b872c6cd",
   "metadata": {},
   "outputs": [
    {
     "name": "stdout",
     "output_type": "stream",
     "text": [
      "86400\n"
     ]
    }
   ],
   "source": [
    "seconds_per_hour = 60*60\n",
    "minutes_per_hour = 60\n",
    "print(seconds_per_hour * 24)"
   ]
  },
  {
   "cell_type": "markdown",
   "id": "e9239aa0",
   "metadata": {},
   "source": [
    "### Q4. Calculate seconds per day again, but this time save the result in a variable called seconds_per_day."
   ]
  },
  {
   "cell_type": "code",
   "execution_count": 21,
   "id": "4989214d",
   "metadata": {},
   "outputs": [
    {
     "data": {
      "text/plain": [
       "86400"
      ]
     },
     "execution_count": 21,
     "metadata": {},
     "output_type": "execute_result"
    }
   ],
   "source": [
    "seconds_per_hour = 60*60\n",
    "seconds_per_day = (seconds_per_hour*24)\n",
    "seconds_per_day"
   ]
  },
  {
   "cell_type": "markdown",
   "id": "eba1cc1d",
   "metadata": {},
   "source": [
    "### Q5. Divide seconds_per_day by seconds_per_hour. Use floating-point(/) division."
   ]
  },
  {
   "cell_type": "code",
   "execution_count": 22,
   "id": "eaf71760",
   "metadata": {},
   "outputs": [
    {
     "data": {
      "text/plain": [
       "24.0"
      ]
     },
     "execution_count": 22,
     "metadata": {},
     "output_type": "execute_result"
    }
   ],
   "source": [
    "seconds_per_hour = 60*60\n",
    "seconds_per_day = seconds_per_hour * 24\n",
    "division = seconds_per_day/seconds_per_hour\n",
    "division"
   ]
  },
  {
   "cell_type": "markdown",
   "id": "29f62ac3",
   "metadata": {},
   "source": [
    "### Q6. Divide seconds_per_day by seconds_per_hour, using integer (//) division. Did this number agree with the floating-point value from the previous question, aside from the final .0?"
   ]
  },
  {
   "cell_type": "code",
   "execution_count": 23,
   "id": "1400d49c",
   "metadata": {},
   "outputs": [
    {
     "name": "stdout",
     "output_type": "stream",
     "text": [
      "24\n",
      "Yes, this number agrees with the floating-point value from the previos question\n"
     ]
    }
   ],
   "source": [
    "seconds_per_hour = 60*60\n",
    "seconds_per_day = seconds_per_hour * 24\n",
    "print(seconds_per_day//seconds_per_hour)\n",
    "print(\"Yes, this number agrees with the floating-point value from the previos question\")"
   ]
  },
  {
   "cell_type": "markdown",
   "id": "0a80e6ba",
   "metadata": {},
   "source": [
    "### Q7. Write a generator, genPrimes, that returns the sequence of prime numbers on successive calls to its next() method : 2,3,5,7,11,..."
   ]
  },
  {
   "cell_type": "code",
   "execution_count": 24,
   "id": "8f6b4bc4",
   "metadata": {},
   "outputs": [
    {
     "name": "stdout",
     "output_type": "stream",
     "text": [
      "2\n",
      "3\n",
      "5\n",
      "7\n",
      "11\n",
      "13\n",
      "17\n",
      "19\n",
      "23\n",
      "25\n"
     ]
    }
   ],
   "source": [
    "def genPrimes():\n",
    "    n = 0\n",
    "    while True:\n",
    "        if n==2 or n==3:\n",
    "            yield n\n",
    "        elif ((n-1)%6 == 0 or (n+1)%6 ==0) and n!=1:\n",
    "            yield n\n",
    "        n = n +1\n",
    "output = genPrimes()\n",
    "for i in range(10):\n",
    "    print(next(output))"
   ]
  }
 ],
 "metadata": {
  "kernelspec": {
   "display_name": "Python 3 (ipykernel)",
   "language": "python",
   "name": "python3"
  },
  "language_info": {
   "codemirror_mode": {
    "name": "ipython",
    "version": 3
   },
   "file_extension": ".py",
   "mimetype": "text/x-python",
   "name": "python",
   "nbconvert_exporter": "python",
   "pygments_lexer": "ipython3",
   "version": "3.9.12"
  }
 },
 "nbformat": 4,
 "nbformat_minor": 5
}
