{
 "cells": [
  {
   "cell_type": "markdown",
   "id": "84f04963",
   "metadata": {},
   "source": [
    "# Python Basic Assignment 15"
   ]
  },
  {
   "cell_type": "markdown",
   "id": "1eba59ce",
   "metadata": {},
   "source": [
    "### Q1. How many seconds are in an hour? Use the interactive interpreter as a calculator and multiply the number of seconds in a minute(60) by the number of minutes in an hour(also 60)."
   ]
  },
  {
   "cell_type": "code",
   "execution_count": 4,
   "id": "e68d7248",
   "metadata": {},
   "outputs": [
    {
     "name": "stdout",
     "output_type": "stream",
     "text": [
      "There are 3600 seconds in an hour\n"
     ]
    }
   ],
   "source": [
    "print(\"There are\", 60*60, \"seconds in an hour\")\n",
    " "
   ]
  },
  {
   "cell_type": "markdown",
   "id": "d31fd216",
   "metadata": {},
   "source": [
    "### Q2. Assign the result from the previous task(seconds in an hour) to variable called seconds_per_hour."
   ]
  },
  {
   "cell_type": "code",
   "execution_count": 6,
   "id": "b78e737c",
   "metadata": {},
   "outputs": [
    {
     "data": {
      "text/plain": [
       "3600"
      ]
     },
     "execution_count": 6,
     "metadata": {},
     "output_type": "execute_result"
    }
   ],
   "source": [
    "seconds_per_hour = 60*60\n",
    "seconds_per_hour"
   ]
  },
  {
   "cell_type": "markdown",
   "id": "e23d312d",
   "metadata": {},
   "source": [
    "### Q3. How many seconds do you think there are in a day? Make use of the variable seconds per hour and minutes per hour."
   ]
  },
  {
   "cell_type": "code",
   "execution_count": 8,
   "id": "42a2dce3",
   "metadata": {},
   "outputs": [
    {
     "name": "stdout",
     "output_type": "stream",
     "text": [
      "86400\n"
     ]
    }
   ],
   "source": [
    "seconds_per_hour = 60*60\n",
    "minutes_per_hour = 60\n",
    "print(seconds_per_hour * 24)"
   ]
  },
  {
   "cell_type": "markdown",
   "id": "b21cd5b3",
   "metadata": {},
   "source": [
    "### Q4. Calculate seconds per day again, but this time save the result in a variable called seconds_per_day."
   ]
  },
  {
   "cell_type": "code",
   "execution_count": 10,
   "id": "9c1a48a5",
   "metadata": {},
   "outputs": [
    {
     "data": {
      "text/plain": [
       "86400"
      ]
     },
     "execution_count": 10,
     "metadata": {},
     "output_type": "execute_result"
    }
   ],
   "source": [
    "seconds_per_hour = 60*60\n",
    "seconds_per_day = (seconds_per_hour*24)\n",
    "seconds_per_day"
   ]
  },
  {
   "cell_type": "markdown",
   "id": "1bbc2e82",
   "metadata": {},
   "source": [
    "### Q5. Divide seconds_per_day by seconds_per_hour. Use floating-point(/) division."
   ]
  },
  {
   "cell_type": "code",
   "execution_count": 13,
   "id": "6ba61678",
   "metadata": {},
   "outputs": [
    {
     "data": {
      "text/plain": [
       "24.0"
      ]
     },
     "execution_count": 13,
     "metadata": {},
     "output_type": "execute_result"
    }
   ],
   "source": [
    "seconds_per_hour = 60*60\n",
    "seconds_per_day = seconds_per_hour * 24\n",
    "division = seconds_per_day/seconds_per_hour\n",
    "division"
   ]
  },
  {
   "cell_type": "markdown",
   "id": "89b29021",
   "metadata": {},
   "source": [
    "### Q6. Divide seconds_per_day by seconds_per_hour, using integer (//) division. Did this number agree with the floating-point value from the previous question, aside from the final .0?"
   ]
  },
  {
   "cell_type": "code",
   "execution_count": 16,
   "id": "04ca3972",
   "metadata": {},
   "outputs": [
    {
     "name": "stdout",
     "output_type": "stream",
     "text": [
      "24\n",
      "Yes, this number agrees with the floating-point value from the previos question\n"
     ]
    }
   ],
   "source": [
    "seconds_per_hour = 60*60\n",
    "seconds_per_day = seconds_per_hour * 24\n",
    "print(seconds_per_day//seconds_per_hour)\n",
    "print(\"Yes, this number agrees with the floating-point value from the previos question\")"
   ]
  },
  {
   "cell_type": "markdown",
   "id": "1e6d0d35",
   "metadata": {},
   "source": [
    "### Q7. Write a generator, genPrimes, that returns the sequence of prime numbers on successive calls to its next() method : 2,3,5,7,11,..."
   ]
  },
  {
   "cell_type": "code",
   "execution_count": null,
   "id": "ad9bd248",
   "metadata": {},
   "outputs": [],
   "source": [
    "def genPrimes():\n",
    "    n = 0\n",
    "    while True:\n",
    "        if n==2 or n==3:\n",
    "            yield n\n",
    "        elif ((n-1)%6 == 0 or (n+1)%6 ==0) and n!=1:\n",
    "            yield n\n",
    "        n = n +1"
   ]
  }
 ],
 "metadata": {
  "kernelspec": {
   "display_name": "Python 3 (ipykernel)",
   "language": "python",
   "name": "python3"
  },
  "language_info": {
   "codemirror_mode": {
    "name": "ipython",
    "version": 3
   },
   "file_extension": ".py",
   "mimetype": "text/x-python",
   "name": "python",
   "nbconvert_exporter": "python",
   "pygments_lexer": "ipython3",
   "version": "3.9.12"
  }
 },
 "nbformat": 4,
 "nbformat_minor": 5
}
