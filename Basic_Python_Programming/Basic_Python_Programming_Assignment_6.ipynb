{
 "cells": [
  {
   "cell_type": "markdown",
   "id": "4aa02c40",
   "metadata": {},
   "source": [
    "# Basic Python Programming Assignment 6"
   ]
  },
  {
   "cell_type": "markdown",
   "id": "7ee00054",
   "metadata": {},
   "source": [
    "### Q1. Write a Python Program to Display Fibonacci Sequence using recursion?"
   ]
  },
  {
   "cell_type": "code",
   "execution_count": 5,
   "id": "4fa8e9ef",
   "metadata": {},
   "outputs": [
    {
     "name": "stdout",
     "output_type": "stream",
     "text": [
      "Enter length of series : 10\n",
      "0,1,3,5,8,13,21,34,55,89,144,233,"
     ]
    }
   ],
   "source": [
    "def gen_Fibonacci(n , a ,b):\n",
    "    if n == 0:\n",
    "        return 1\n",
    "    else:\n",
    "        result = a + b\n",
    "        print(result, end =',')\n",
    "        gen_Fibonacci(n-1, b, result)\n",
    "num = int(input(\"Enter length of series : \"))\n",
    "print('0,1', end = ',')\n",
    "gen_Fibonacci(num, 1,2)"
   ]
  },
  {
   "cell_type": "markdown",
   "id": "36c88d51",
   "metadata": {},
   "source": [
    "### Q2. Write a Python Program to Find Factorial of Number Using Recursion?"
   ]
  },
  {
   "cell_type": "code",
   "execution_count": 8,
   "id": "9ed50361",
   "metadata": {},
   "outputs": [
    {
     "name": "stdout",
     "output_type": "stream",
     "text": [
      "Enter the number to find the factorial : 10\n",
      "The factorial of 10 is 3628800\n"
     ]
    },
    {
     "data": {
      "text/plain": [
       "3628800"
      ]
     },
     "execution_count": 8,
     "metadata": {},
     "output_type": "execute_result"
    }
   ],
   "source": [
    "def recur_Factorial(n):\n",
    "    if n == 1:\n",
    "        return n\n",
    "    else : \n",
    "        return n * recur_Factorial(n-1)\n",
    "num1 = int(input(\"Enter the number to find the factorial : \"))\n",
    "if num < 0:\n",
    "    print(\"Please enter a positive number\")\n",
    "elif num1 == 0:\n",
    "    print(\"The Factorial of 0 is 1.\")\n",
    "else :\n",
    "    print(\"The factorial of\", num1, \"is\", recur_Factorial(num1))\n",
    "\n",
    "recur_Factorial(num1)"
   ]
  },
  {
   "cell_type": "markdown",
   "id": "c649dbd6",
   "metadata": {},
   "source": [
    "### Q3. Write a Python Program to calculate your Body Mass Index?"
   ]
  },
  {
   "cell_type": "code",
   "execution_count": 13,
   "id": "5ede2d08",
   "metadata": {},
   "outputs": [
    {
     "name": "stdout",
     "output_type": "stream",
     "text": [
      "Enter your height(m) : 1.7\n",
      "Enter your weight(kg) : 60\n",
      "Your BMI is  20.761245674740486 and your status is healthy.\n"
     ]
    }
   ],
   "source": [
    "height = float(input(\"Enter your height(m) : \"))\n",
    "weight = float(input(\"Enter your weight(kg) : \"))\n",
    "def calculate_BMI():\n",
    "    cal_bmi = weight/(pow(height, 2))\n",
    "    if cal_bmi < 18.5 :\n",
    "        print(\"Your BMI is \", cal_bmi, \"and your status is underweight.\")\n",
    "    elif cal_bmi >= 18.5 and cal_bmi <= 24.9:\n",
    "        print(\"Your BMI is \", cal_bmi, \"and your status is healthy.\")\n",
    "    elif cal_bmi>= 24.9 and cal_bmi <= 30:\n",
    "        print(\"Your BMI is \", cal_bmi, \"and your status is overweight.\")\n",
    "    else : \n",
    "        print(\"Your BMI is \", cal_bmi, \"and your status is obese.\")\n",
    "        \n",
    "calculate_BMI()     "
   ]
  },
  {
   "cell_type": "markdown",
   "id": "7c8ab1a5",
   "metadata": {},
   "source": [
    "### Q4. Write a Python Program to calculate the natural logarithm of any number?"
   ]
  },
  {
   "cell_type": "code",
   "execution_count": 3,
   "id": "a9e7715f",
   "metadata": {},
   "outputs": [
    {
     "name": "stdout",
     "output_type": "stream",
     "text": [
      "Enter a number : 20\n",
      "2.995732273553991\n"
     ]
    }
   ],
   "source": [
    "import math\n",
    "def natural_logn():\n",
    "    num = eval(input(\"Enter a number : \"))\n",
    "    nat_logn = math.log(num)\n",
    "    print(nat_logn)\n",
    "natural_logn()"
   ]
  },
  {
   "cell_type": "markdown",
   "id": "597da799",
   "metadata": {},
   "source": [
    "### Q5. Write a Python Program for cube sum of first n natural numbers?"
   ]
  },
  {
   "cell_type": "code",
   "execution_count": 11,
   "id": "baa08948",
   "metadata": {},
   "outputs": [
    {
     "name": "stdout",
     "output_type": "stream",
     "text": [
      "Enter the value of natural number : 10\n",
      "The sum of cubes =  3025\n"
     ]
    }
   ],
   "source": [
    "number = int(input(\"Enter the value of natural number : \"))\n",
    "def cube_sum_natnum():\n",
    "    sum = 0\n",
    "    for i in range(1, number+1):\n",
    "        sum += (i*i*i)\n",
    "    print(\"The sum of cubes = \", sum)\n",
    "cube_sum_natnum()"
   ]
  }
 ],
 "metadata": {
  "kernelspec": {
   "display_name": "Python 3 (ipykernel)",
   "language": "python",
   "name": "python3"
  },
  "language_info": {
   "codemirror_mode": {
    "name": "ipython",
    "version": 3
   },
   "file_extension": ".py",
   "mimetype": "text/x-python",
   "name": "python",
   "nbconvert_exporter": "python",
   "pygments_lexer": "ipython3",
   "version": "3.9.12"
  }
 },
 "nbformat": 4,
 "nbformat_minor": 5
}
