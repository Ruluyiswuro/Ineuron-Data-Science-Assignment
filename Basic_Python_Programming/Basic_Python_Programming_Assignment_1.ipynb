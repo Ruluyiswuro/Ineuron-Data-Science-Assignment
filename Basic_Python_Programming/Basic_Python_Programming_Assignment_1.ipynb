{
 "cells": [
  {
   "cell_type": "markdown",
   "id": "115c6dfc",
   "metadata": {},
   "source": [
    "### Basic Python Programming Assignment 1"
   ]
  },
  {
   "cell_type": "markdown",
   "id": "1d3089f6",
   "metadata": {},
   "source": [
    "#### Q1. Write a Python program to print \"Hello Python\"?"
   ]
  },
  {
   "cell_type": "code",
   "execution_count": 1,
   "id": "24eeb04e",
   "metadata": {},
   "outputs": [
    {
     "name": "stdout",
     "output_type": "stream",
     "text": [
      "Hello Python\n"
     ]
    }
   ],
   "source": [
    "print(\"Hello Python\")"
   ]
  },
  {
   "cell_type": "markdown",
   "id": "1da5b8d9",
   "metadata": {},
   "source": [
    "#### Q2. Write a Python program to do arithmatic operations addition and division?"
   ]
  },
  {
   "cell_type": "code",
   "execution_count": 1,
   "id": "d43c1049",
   "metadata": {},
   "outputs": [
    {
     "name": "stdout",
     "output_type": "stream",
     "text": [
      "Select an arithmatic operator : (+) or (/)\n",
      "Enter the operator : +\n",
      "Enter the first number : 43\n",
      "Enter the next number : 45\n",
      "43.0+45.0=88.0\n",
      "\n",
      "Enter the operator : /\n",
      "Enter the first number : 4\n",
      "Enter the next number : 5\n",
      "4.0/5.0=0.8\n",
      "\n",
      "Enter the operator : 0\n",
      "The program completed.\n"
     ]
    }
   ],
   "source": [
    "import operator\n",
    "ari_ops = { \"+\" : operator.add, \"/\" : operator.truediv}\n",
    "print(\"Select an arithmatic operator : (+) or (/)\")\n",
    "\n",
    "while True:\n",
    "    operator = input('Enter the operator : ')\n",
    "    if operator == '0':\n",
    "        print(\"The program completed.\")\n",
    "        break\n",
    "    elif operator not in ['+', '/']:\n",
    "        print(\"Please select operator from the above option\")\n",
    "     \n",
    "        \n",
    "    else: \n",
    "        num1 = float(input(\"Enter the first number : \"))\n",
    "        num2 = float(input(\"Enter the next number : \"))\n",
    "        print('{}{}{}={}\\n'.format(num1, operator, num2, ari_ops[operator](num1, num2)))\n",
    "    "
   ]
  },
  {
   "cell_type": "markdown",
   "id": "f7d4b3b7",
   "metadata": {},
   "source": [
    "#### Q3. Write a Python program to find the area of triangle?"
   ]
  },
  {
   "cell_type": "code",
   "execution_count": 3,
   "id": "18690941",
   "metadata": {},
   "outputs": [
    {
     "name": "stdout",
     "output_type": "stream",
     "text": [
      "Enter the height of the triangle : 8\n",
      "Enter the base of the triangle : 4\n",
      "Area of the traingle is :  16.0\n"
     ]
    }
   ],
   "source": [
    "h = float(input(\"Enter the height of the triangle : \"))\n",
    "b = float(input(\"Enter the base of the triangle : \"))\n",
    "print(\"Area of the traingle is : \", 1/2*h*b)"
   ]
  },
  {
   "cell_type": "markdown",
   "id": "3b195b64",
   "metadata": {},
   "source": [
    "#### Q4. Write a program to swap two variables?"
   ]
  },
  {
   "cell_type": "code",
   "execution_count": 4,
   "id": "aa85d226",
   "metadata": {},
   "outputs": [
    {
     "name": "stdout",
     "output_type": "stream",
     "text": [
      "Enter a variable : 2000\n",
      "Enter the next variable : Year\n",
      "The value entered are :  2000 and Year\n",
      "After swapping :  Year and 2000\n"
     ]
    }
   ],
   "source": [
    "a = input(\"Enter a variable : \")\n",
    "b = input(\"Enter the next variable : \")\n",
    "def swapnum(a,b):\n",
    "    temp = a\n",
    "    a = b\n",
    "    b = temp\n",
    "    return a ,b\n",
    "print(\"The value entered are : \", a, \"and\",b)\n",
    "a,b = swapnum(a,b)\n",
    "print(\"After swapping : \", a,\"and\", b)"
   ]
  },
  {
   "cell_type": "markdown",
   "id": "cc478d53",
   "metadata": {},
   "source": [
    "#### Q5. Write a Python program to generate a random number?"
   ]
  },
  {
   "cell_type": "code",
   "execution_count": 9,
   "id": "3e35a6f0",
   "metadata": {},
   "outputs": [
    {
     "name": "stdout",
     "output_type": "stream",
     "text": [
      "Random number generated is :  4230\n"
     ]
    }
   ],
   "source": [
    "from random import randint\n",
    "def generateRandNum():\n",
    "    print(\"Random number generated is : \", randint(1, 10000))\n",
    "generateRandNum()"
   ]
  }
 ],
 "metadata": {
  "kernelspec": {
   "display_name": "Python 3 (ipykernel)",
   "language": "python",
   "name": "python3"
  },
  "language_info": {
   "codemirror_mode": {
    "name": "ipython",
    "version": 3
   },
   "file_extension": ".py",
   "mimetype": "text/x-python",
   "name": "python",
   "nbconvert_exporter": "python",
   "pygments_lexer": "ipython3",
   "version": "3.9.12"
  }
 },
 "nbformat": 4,
 "nbformat_minor": 5
}
