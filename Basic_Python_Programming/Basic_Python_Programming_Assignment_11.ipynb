{
 "cells": [
  {
   "cell_type": "markdown",
   "id": "a70cb70a",
   "metadata": {},
   "source": [
    "# Basic Python Programming Assignment 11"
   ]
  },
  {
   "cell_type": "markdown",
   "id": "2c3a27ee",
   "metadata": {},
   "source": [
    "#### 1. Write a Python Program to find words which are greater than given length k?"
   ]
  },
  {
   "cell_type": "code",
   "execution_count": 3,
   "id": "8881c634",
   "metadata": {},
   "outputs": [
    {
     "name": "stdout",
     "output_type": "stream",
     "text": [
      "Enter a string : I'm currently pursuing Data Science Course\n",
      "Enter k(vlue for accepting string) : 6\n",
      "Words which are greater than given lenth 6 are ['currently', 'pursuing', 'Science']\n"
     ]
    }
   ],
   "source": [
    "def find_largeString():\n",
    "    try:\n",
    "        mystr = input(\"Enter a string : \")\n",
    "        k = int(input('Enter k(vlue for accepting string) : '))\n",
    "        largeStrings = []\n",
    "        words = mystr.split(\" \")\n",
    "        for word in words:\n",
    "            if len(word) > k:\n",
    "                largeStrings.append(word)\n",
    "        print(\"Words which are greater than given lenth\", k, 'are', largeStrings)\n",
    "    except Exception as e:\n",
    "        return \"Something went wrong\"\n",
    "find_largeString()"
   ]
  },
  {
   "cell_type": "markdown",
   "id": "af0640ca",
   "metadata": {},
   "source": [
    "#### Q2. Write a Python Program for removing i-th character from a string?"
   ]
  },
  {
   "cell_type": "code",
   "execution_count": 4,
   "id": "eabe452e",
   "metadata": {},
   "outputs": [
    {
     "name": "stdout",
     "output_type": "stream",
     "text": [
      "Enter a string : This is a Python Code to remove i-th character\n",
      "Enter the index of character to be removed : 10\n",
      "Entered string : This is a Python Code to remove i-th character\n",
      "String formed by removing i-th character : This is a ython Code to remove i-th character\n"
     ]
    }
   ],
   "source": [
    "def remove_ith_char():\n",
    "    try :\n",
    "        myStr = input(\"Enter a string : \")\n",
    "        i = int(input('Enter the index of character to be removed : '))\n",
    "        restr = \"\"\n",
    "        for index in range(len(myStr)):\n",
    "            if index !=i:\n",
    "                restr = restr + myStr[index]\n",
    "        print(\"Entered string : \" + myStr)\n",
    "        print(\"String formed by removing i-th character : \" + restr)\n",
    "    except Exception as e:\n",
    "        return \"Something went wrong\"\n",
    "remove_ith_char()"
   ]
  },
  {
   "cell_type": "markdown",
   "id": "6a022b26",
   "metadata": {},
   "source": [
    "#### Q3. Write a Python Program to split and join a string?\n"
   ]
  },
  {
   "cell_type": "code",
   "execution_count": 6,
   "id": "e9e7fc00",
   "metadata": {},
   "outputs": [
    {
     "name": "stdout",
     "output_type": "stream",
     "text": [
      "Enter a string : Ineuron FSDS\n",
      "Split String :  ['Ineuron', 'FSDS']\n",
      "Join String :  Ineuron FSDS\n"
     ]
    }
   ],
   "source": [
    "def split_join():\n",
    "    try :\n",
    "        mystr = input(\"Enter a string : \")\n",
    "        print(\"Split String : \", mystr.split(' '))\n",
    "        print(\"Join String : \", ' '.join(mystr.split(' ')))\n",
    "    except Exception as e:\n",
    "        return \"Something went wrong\"\n",
    "split_join()"
   ]
  },
  {
   "cell_type": "markdown",
   "id": "cec27752",
   "metadata": {},
   "source": [
    "#### Q4. Write a Python Program to check if a given string is binary string or not?"
   ]
  },
  {
   "cell_type": "code",
   "execution_count": 8,
   "id": "59668807",
   "metadata": {},
   "outputs": [
    {
     "name": "stdout",
     "output_type": "stream",
     "text": [
      "Enter a string : 010110011\n",
      "010110011 is binary string\n"
     ]
    }
   ],
   "source": [
    "def check_binary():\n",
    "    try: \n",
    "        myStr = input(\"Enter a string : \")\n",
    "        b = 0\n",
    "        for i in myStr:\n",
    "            if i in ['0', '1']:\n",
    "                b = 1\n",
    "                continue\n",
    "            else:\n",
    "                b = 0\n",
    "                break\n",
    "        output = \"is binary string\" if b ==1 else 'is not binary string'\n",
    "        print(myStr, output)\n",
    "    except Exception as e:\n",
    "        return \"Something went wrong\"\n",
    "check_binary()"
   ]
  },
  {
   "cell_type": "markdown",
   "id": "1623d92d",
   "metadata": {},
   "source": [
    "#### Q5. Write a Python Program to find uncommon words from two strings?"
   ]
  },
  {
   "cell_type": "code",
   "execution_count": 10,
   "id": "104b7f22",
   "metadata": {},
   "outputs": [
    {
     "name": "stdout",
     "output_type": "stream",
     "text": [
      "Enter the first string : Data Science BootCamp\n",
      "Enter the second string : Big Data BootCamp\n"
     ]
    },
    {
     "data": {
      "text/plain": [
       "{'Big', 'Science'}"
      ]
     },
     "execution_count": 10,
     "metadata": {},
     "output_type": "execute_result"
    }
   ],
   "source": [
    "def find_uncommon():\n",
    "    try : \n",
    "        myStr_1 = set(input(\"Enter the first string : \").split(' '))\n",
    "        myStr_2 = set(input(\"Enter the second string : \").split(' '))\n",
    "        output = (myStr_1.union(myStr_2)).difference(myStr_1.intersection(myStr_2))\n",
    "        return output\n",
    "    except Exception as e:\n",
    "        return \"Error\"\n",
    "find_uncommon()"
   ]
  },
  {
   "cell_type": "markdown",
   "id": "58964edf",
   "metadata": {},
   "source": [
    "#### Q6. Write a Python Program to find all duplicate charactes in a string?"
   ]
  },
  {
   "cell_type": "code",
   "execution_count": 11,
   "id": "b876f634",
   "metadata": {},
   "outputs": [
    {
     "name": "stdout",
     "output_type": "stream",
     "text": [
      "Enter a string : python programming language\n"
     ]
    },
    {
     "data": {
      "text/plain": [
       "('Duplicate characters are : ', ['o', 'm', 'a', 'n', 'g', ' ', 'p', 'r'])"
      ]
     },
     "execution_count": 11,
     "metadata": {},
     "output_type": "execute_result"
    }
   ],
   "source": [
    "def find_duplicate():\n",
    "    try : \n",
    "        myStr = input(\"Enter a string : \")\n",
    "        non_dupli = []\n",
    "        dupli_list = []\n",
    "        for i in myStr:\n",
    "            if i not in non_dupli:\n",
    "                non_dupli.append(i)\n",
    "            else:\n",
    "                dupli_list.append(i)\n",
    "        return (\"Duplicate characters are : \", list(set(dupli_list)))\n",
    "    except Exception as e :\n",
    "        return \"There's some error\"\n",
    "find_duplicate()"
   ]
  },
  {
   "cell_type": "markdown",
   "id": "f6fafc26",
   "metadata": {},
   "source": [
    "#### Q7. Write a Python Program to check if a string contains any special character?"
   ]
  },
  {
   "cell_type": "code",
   "execution_count": 15,
   "id": "b16029e1",
   "metadata": {},
   "outputs": [
    {
     "name": "stdout",
     "output_type": "stream",
     "text": [
      "Enter a string : Hello! This '$' is a special char@cter\n",
      "There are 3 special characters in Hello! This '$' is a special char@cter which are ['!', '$', '@']\n"
     ]
    }
   ],
   "source": [
    "def check_special_char():\n",
    "    try :\n",
    "        special_chars = '[@_!#^&$%*()<>?/\\|{}~:]'\n",
    "        myStr = input(\"Enter a string : \")\n",
    "        count = 0\n",
    "        char_list = []\n",
    "        for i in myStr:\n",
    "            if i in special_chars:\n",
    "                char_list.append(i)\n",
    "                count = count+1\n",
    "        print (f'There are {count} special characters in {myStr} which are {char_list}')\n",
    "    except Exception as e:\n",
    "        return \"Error\"\n",
    "\n",
    "check_special_char()"
   ]
  }
 ],
 "metadata": {
  "kernelspec": {
   "display_name": "Python 3 (ipykernel)",
   "language": "python",
   "name": "python3"
  },
  "language_info": {
   "codemirror_mode": {
    "name": "ipython",
    "version": 3
   },
   "file_extension": ".py",
   "mimetype": "text/x-python",
   "name": "python",
   "nbconvert_exporter": "python",
   "pygments_lexer": "ipython3",
   "version": "3.9.12"
  }
 },
 "nbformat": 4,
 "nbformat_minor": 5
}
