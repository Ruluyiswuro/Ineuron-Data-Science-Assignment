{
 "cells": [
  {
   "cell_type": "markdown",
   "id": "a51fe1c7",
   "metadata": {},
   "source": [
    "### Basic Python Programming Assignment 2"
   ]
  },
  {
   "cell_type": "markdown",
   "id": "45b92ab5",
   "metadata": {},
   "source": [
    "#### Q1. Write a Python program to convert kilometer to miles?\n"
   ]
  },
  {
   "cell_type": "code",
   "execution_count": 3,
   "id": "14e8f68c",
   "metadata": {},
   "outputs": [
    {
     "name": "stdout",
     "output_type": "stream",
     "text": [
      "Enter the number of kilometer/s : 6\n",
      "6.0 kilometers is equal to 3.726 miles\n"
     ]
    }
   ],
   "source": [
    "def km_to_miles():\n",
    "    km = float(input(\"Enter the number of kilometer/s : \"))\n",
    "    print(\"{} kilometers is equal to {} miles\".format(km, km*0.621))\n",
    "km_to_miles()"
   ]
  },
  {
   "cell_type": "markdown",
   "id": "3bcab917",
   "metadata": {},
   "source": [
    "#### Q2. Write a Python program to covert Celsius to Fahrenheit?"
   ]
  },
  {
   "cell_type": "code",
   "execution_count": 5,
   "id": "569fbeb8",
   "metadata": {},
   "outputs": [
    {
     "name": "stdout",
     "output_type": "stream",
     "text": [
      "Enter the temperature in Celsius : 36\n",
      "36.0 Celsius is equals to 96.8 Fahrenheit.\n"
     ]
    }
   ],
   "source": [
    "def Celsius_to_Fah():\n",
    "    Celsius = float(input(\"Enter the temperature in Celsius : \"))\n",
    "    Fahrenheit = Celsius * (1.8) + 32\n",
    "    print(\"{} Celsius is equals to {} Fahrenheit.\".format(Celsius, Fahrenheit))\n",
    "Celsius_to_Fah()"
   ]
  },
  {
   "cell_type": "markdown",
   "id": "8cf83bc2",
   "metadata": {},
   "source": [
    "#### Q3. Write a Python program to display calendar?"
   ]
  },
  {
   "cell_type": "code",
   "execution_count": 7,
   "id": "51f75636",
   "metadata": {},
   "outputs": [
    {
     "name": "stdout",
     "output_type": "stream",
     "text": [
      "Enter the year : 2022\n",
      "                                  2022\n",
      "\n",
      "      January                   February                   March\n",
      "Mo Tu We Th Fr Sa Su      Mo Tu We Th Fr Sa Su      Mo Tu We Th Fr Sa Su\n",
      "                1  2          1  2  3  4  5  6          1  2  3  4  5  6\n",
      " 3  4  5  6  7  8  9       7  8  9 10 11 12 13       7  8  9 10 11 12 13\n",
      "10 11 12 13 14 15 16      14 15 16 17 18 19 20      14 15 16 17 18 19 20\n",
      "17 18 19 20 21 22 23      21 22 23 24 25 26 27      21 22 23 24 25 26 27\n",
      "24 25 26 27 28 29 30      28                        28 29 30 31\n",
      "31\n",
      "\n",
      "       April                      May                       June\n",
      "Mo Tu We Th Fr Sa Su      Mo Tu We Th Fr Sa Su      Mo Tu We Th Fr Sa Su\n",
      "             1  2  3                         1             1  2  3  4  5\n",
      " 4  5  6  7  8  9 10       2  3  4  5  6  7  8       6  7  8  9 10 11 12\n",
      "11 12 13 14 15 16 17       9 10 11 12 13 14 15      13 14 15 16 17 18 19\n",
      "18 19 20 21 22 23 24      16 17 18 19 20 21 22      20 21 22 23 24 25 26\n",
      "25 26 27 28 29 30         23 24 25 26 27 28 29      27 28 29 30\n",
      "                          30 31\n",
      "\n",
      "        July                     August                  September\n",
      "Mo Tu We Th Fr Sa Su      Mo Tu We Th Fr Sa Su      Mo Tu We Th Fr Sa Su\n",
      "             1  2  3       1  2  3  4  5  6  7                1  2  3  4\n",
      " 4  5  6  7  8  9 10       8  9 10 11 12 13 14       5  6  7  8  9 10 11\n",
      "11 12 13 14 15 16 17      15 16 17 18 19 20 21      12 13 14 15 16 17 18\n",
      "18 19 20 21 22 23 24      22 23 24 25 26 27 28      19 20 21 22 23 24 25\n",
      "25 26 27 28 29 30 31      29 30 31                  26 27 28 29 30\n",
      "\n",
      "      October                   November                  December\n",
      "Mo Tu We Th Fr Sa Su      Mo Tu We Th Fr Sa Su      Mo Tu We Th Fr Sa Su\n",
      "                1  2          1  2  3  4  5  6                1  2  3  4\n",
      " 3  4  5  6  7  8  9       7  8  9 10 11 12 13       5  6  7  8  9 10 11\n",
      "10 11 12 13 14 15 16      14 15 16 17 18 19 20      12 13 14 15 16 17 18\n",
      "17 18 19 20 21 22 23      21 22 23 24 25 26 27      19 20 21 22 23 24 25\n",
      "24 25 26 27 28 29 30      28 29 30                  26 27 28 29 30 31\n",
      "31\n",
      "\n"
     ]
    }
   ],
   "source": [
    "import calendar\n",
    "\n",
    "def Display_calendar():\n",
    "    year = int(input(\"Enter the year : \"))\n",
    "    print(calendar.calendar(year))\n",
    "Display_calendar()"
   ]
  },
  {
   "cell_type": "markdown",
   "id": "f53a44fe",
   "metadata": {},
   "source": [
    "#### Q4. Write a Python program to solve quadratic equation?"
   ]
  },
  {
   "cell_type": "code",
   "execution_count": 21,
   "id": "eefa96fe",
   "metadata": {},
   "outputs": [
    {
     "name": "stdout",
     "output_type": "stream",
     "text": [
      "General Quadratic Equation : ax**2 + bx + c = 0\n",
      "Enter the value of a : 2\n",
      "Enter the value of b : -2\n",
      "Enter the value of c: 3\n",
      "The solutions are (-0.9347826086956522-0.7193648742510564j) and (-0.9347826086956522+0.7193648742510564j)\n",
      "Type of roots : Two complex roots\n"
     ]
    }
   ],
   "source": [
    "import cmath\n",
    "import math\n",
    "print( \"General Quadratic Equation : ax**2 + bx + c = 0\")\n",
    "\n",
    "a = int(input(\"Enter the value of a : \"))\n",
    "b = int(input(\"Enter the value of b : \"))\n",
    "c = int(input(\"Enter the value of c: \"))\n",
    "def Quadratic_Equation(a,b,c):    \n",
    "    discriminant= (b**2)-(4*a*c)\n",
    "\n",
    "    sol1 = (-b-cmath.sqrt(discriminant))/(2*a)\n",
    "    sol2 = (-b+cmath.sqrt(discriminant))/(2*a)      \n",
    "\n",
    "    \n",
    "    if discriminant>0:\n",
    "        print(\"Type of roots : Two distinct real roots\")\n",
    "    \n",
    "    elif discriminant == 0:\n",
    "        print(\"Type of roots : Two equal and real roots\")\n",
    "    \n",
    "    elif discriminant<0:\n",
    "        print(\"Type of roots : Two complex roots\")\n",
    "    \n",
    "          \n",
    "print(f'The solutions are {sol1} and {sol2}')\n",
    "Quadratic_Equation(a,b,c)           \n",
    "    \n",
    "    \n"
   ]
  },
  {
   "cell_type": "markdown",
   "id": "321072e1",
   "metadata": {},
   "source": [
    "#### Q5. Write a Python program to swap two variable without temp variables?"
   ]
  },
  {
   "cell_type": "code",
   "execution_count": 22,
   "id": "0a599c61",
   "metadata": {},
   "outputs": [
    {
     "name": "stdout",
     "output_type": "stream",
     "text": [
      "Enter the first number : 50\n",
      "Enter the second number : 100\n",
      "The numbers are :  50 , 100\n",
      "The swapped variables are :  100 , 50\n"
     ]
    }
   ],
   "source": [
    "num1 = int(input(\"Enter the first number : \"))\n",
    "num2 = int(input(\"Enter the second number : \"))\n",
    "def swap_variables(num1, num2):\n",
    "    print(\"The numbers are : \", num1, ',', num2)\n",
    "    num1 = num1+num2\n",
    "    num2 = num1-num2\n",
    "    num1=num1-num2\n",
    "    print(\"The swapped variables are : \", num1, \",\", num2)\n",
    "swap_variables(num1, num2)"
   ]
  }
 ],
 "metadata": {
  "kernelspec": {
   "display_name": "Python 3 (ipykernel)",
   "language": "python",
   "name": "python3"
  },
  "language_info": {
   "codemirror_mode": {
    "name": "ipython",
    "version": 3
   },
   "file_extension": ".py",
   "mimetype": "text/x-python",
   "name": "python",
   "nbconvert_exporter": "python",
   "pygments_lexer": "ipython3",
   "version": "3.9.12"
  }
 },
 "nbformat": 4,
 "nbformat_minor": 5
}
