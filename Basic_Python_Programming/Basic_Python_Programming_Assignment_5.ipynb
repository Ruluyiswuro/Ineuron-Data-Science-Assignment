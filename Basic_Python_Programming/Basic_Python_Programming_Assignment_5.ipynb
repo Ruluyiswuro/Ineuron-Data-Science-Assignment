{
 "cells": [
  {
   "cell_type": "markdown",
   "id": "8b86940d",
   "metadata": {},
   "source": [
    "# Basic Python Programming Assignment 5"
   ]
  },
  {
   "cell_type": "markdown",
   "id": "827da98e",
   "metadata": {},
   "source": [
    "### Q1. Write a Python Program to find LCM?"
   ]
  },
  {
   "cell_type": "code",
   "execution_count": 1,
   "id": "0348d4b8",
   "metadata": {},
   "outputs": [
    {
     "name": "stdout",
     "output_type": "stream",
     "text": [
      "Enter the first number : 90\n",
      "Enter the second number : 30\n",
      "The L.C.M of 90 and 30 is : 90\n"
     ]
    }
   ],
   "source": [
    "num1 = int(input(\"Enter the first number : \"))\n",
    "num2 = int(input(\"Enter the second number : \"))\n",
    "def find_LCM(x,y):\n",
    "    if x>y:\n",
    "        greater = x\n",
    "    else:\n",
    "        greater = y\n",
    "    while True:\n",
    "        if((greater % x ==0) and (greater % y ==0)):\n",
    "            LCM = greater\n",
    "            break\n",
    "        greater += 1\n",
    "        \n",
    "    return LCM\n",
    "print(\"The L.C.M of {} and {} is :\".format(num1, num2), find_LCM(num1, num2))"
   ]
  },
  {
   "cell_type": "markdown",
   "id": "8b5c05ee",
   "metadata": {},
   "source": [
    "### Q2. Write a Python Program to find HCF?"
   ]
  },
  {
   "cell_type": "code",
   "execution_count": 3,
   "id": "301323bb",
   "metadata": {},
   "outputs": [
    {
     "name": "stdout",
     "output_type": "stream",
     "text": [
      "The H.C.F of 50 and 60 is :  10\n"
     ]
    }
   ],
   "source": [
    "def find_HCF(x,y):\n",
    "    if x>y:\n",
    "        smaller = y\n",
    "    else:\n",
    "        smaller = x\n",
    "    for i in range (1, smaller+1):\n",
    "        if ((x % i ==0) and y % i == 0):\n",
    "            HCF = i\n",
    "    return HCF\n",
    "a = 50\n",
    "b = 60\n",
    "print(\"The H.C.F of {} and {} is : \".format(a,b), find_HCF(a,b))"
   ]
  },
  {
   "cell_type": "markdown",
   "id": "36e7eb68",
   "metadata": {},
   "source": [
    "### Q3. Write a Python Program to Convert Decimal to Binary, Octal and Hexadecimal?"
   ]
  },
  {
   "cell_type": "code",
   "execution_count": 5,
   "id": "01374374",
   "metadata": {},
   "outputs": [
    {
     "name": "stdout",
     "output_type": "stream",
     "text": [
      "Enter a number : 45\n",
      "Binary Number -> 0b101101\n",
      "Octal Number -> 0o55\n",
      "Hexadecimal Number -> 0x2d\n"
     ]
    }
   ],
   "source": [
    "def convert_decimal():\n",
    "    number = int(input(\"Enter a number : \"))\n",
    "    print(f'Binary Number -> {bin(number)}')\n",
    "    print(f'Octal Number -> {oct(number)}')\n",
    "    print(f'Hexadecimal Number -> {hex(number)}')\n",
    "convert_decimal()"
   ]
  },
  {
   "cell_type": "markdown",
   "id": "23cfad6b",
   "metadata": {},
   "source": [
    "### Q4. Write a Python Program to Find ASCII value of a character?"
   ]
  },
  {
   "cell_type": "code",
   "execution_count": 8,
   "id": "42cf9579",
   "metadata": {},
   "outputs": [
    {
     "name": "stdout",
     "output_type": "stream",
     "text": [
      "Enter a character : i\n",
      "ASCII character or i is 105\n"
     ]
    }
   ],
   "source": [
    "def find_ASCII():\n",
    "    char = input(\"Enter a character : \")\n",
    "    if len(char) > 1:\n",
    "        print(\"Please enter a single character.\")\n",
    "    else:\n",
    "        print(f'ASCII character or {char} is {ord(char)}')\n",
    "        \n",
    "find_ASCII()"
   ]
  },
  {
   "cell_type": "markdown",
   "id": "9a94dfc9",
   "metadata": {},
   "source": [
    "### Q5. Write a Python Program to Make a Simple Calculator with 4 basic mathematical operations?"
   ]
  },
  {
   "cell_type": "code",
   "execution_count": 1,
   "id": "bd82c5ce",
   "metadata": {},
   "outputs": [
    {
     "name": "stdout",
     "output_type": "stream",
     "text": [
      "Select a Arithmetic Operation:         \n",
      "1.Addition(+)        \n",
      "2.Division(-)        \n",
      "2.Multiplication(*)        \n",
      "4.Division(/)        \n",
      "3.Stop(0)\n",
      "\n",
      "Enter a arithmetic operation -> -\n",
      "\n",
      "Enter 1st Number: 45\n",
      "Enter 2nd Number: 5\n",
      "45-5=40\n",
      "\n"
     ]
    }
   ],
   "source": [
    "\n",
    "import operator\n",
    "\n",
    "ops = { \"+\": operator.add, \"-\": operator.sub, \"*\":operator.mul, \"/\":operator.truediv } \n",
    "\n",
    "print('Select a Arithmetic Operation: \\\n",
    "        \\n1.Addition(+)\\\n",
    "        \\n2.Division(-)\\\n",
    "        \\n2.Multiplication(*)\\\n",
    "        \\n4.Division(/)\\\n",
    "        \\n3.Stop(0)\\n')\n",
    "   \n",
    "\n",
    "while True:\n",
    "    operator = input('Enter a arithmetic operation -> ')\n",
    "    if operator == '0':\n",
    "        print(\"Program Stopped successfully\")\n",
    "        break\n",
    "    elif operator not in ['+','-','*','/']:\n",
    "        print(\"Please enter a valid operator\")\n",
    "    else:\n",
    "        num_1 = int(input('\\nEnter 1st Number: '))\n",
    "        num_2 = int(input('Enter 2nd Number: '))\n",
    "        print(f'{num_1}{operator}{num_2}={ops[operator](num_1,num_2)}\\n')\n",
    "        break"
   ]
  }
 ],
 "metadata": {
  "kernelspec": {
   "display_name": "Python 3 (ipykernel)",
   "language": "python",
   "name": "python3"
  },
  "language_info": {
   "codemirror_mode": {
    "name": "ipython",
    "version": 3
   },
   "file_extension": ".py",
   "mimetype": "text/x-python",
   "name": "python",
   "nbconvert_exporter": "python",
   "pygments_lexer": "ipython3",
   "version": "3.9.12"
  }
 },
 "nbformat": 4,
 "nbformat_minor": 5
}
