{
 "cells": [
  {
   "cell_type": "markdown",
   "id": "56a7f2ab",
   "metadata": {},
   "source": [
    "# Basic Python Programming Assignment 15 "
   ]
  },
  {
   "cell_type": "markdown",
   "id": "5333423c",
   "metadata": {},
   "source": [
    "### Q1. Please write a program using generator to print the numbers which can be divisible by 5 and 7 between 0 and n in comma separated form while n is input by console.\n",
    "#### Example:\n",
    "#### If the following n is given as input to the program:100\n",
    "#### Then, the output of the program should be:\n",
    "#### 0,35,70"
   ]
  },
  {
   "cell_type": "code",
   "execution_count": 1,
   "id": "020ca49f",
   "metadata": {},
   "outputs": [
    {
     "name": "stdout",
     "output_type": "stream",
     "text": [
      "0 35 70 "
     ]
    }
   ],
   "source": [
    "def divisibles(my_input):\n",
    "    for i in range(0,my_input+1):\n",
    "        if i%5==0 and i%7==0:\n",
    "            yield i\n",
    "for i in divisibles(100):\n",
    "    print(i, end=' ')\n"
   ]
  },
  {
   "cell_type": "markdown",
   "id": "14c37991",
   "metadata": {},
   "source": [
    "### Q2. Please write a program using generator to print the even numbers between 0 and n in comma separated form while n is input by console.\n",
    "### Example:\n",
    "#### If the following n is given as input to the program: 10\n",
    "#### Then, the output of the program should be:\n",
    "#### 0,2,4,6,8,10"
   ]
  },
  {
   "cell_type": "code",
   "execution_count": 5,
   "id": "b8e8112e",
   "metadata": {},
   "outputs": [
    {
     "name": "stdout",
     "output_type": "stream",
     "text": [
      "0,2,4,6,8,10,"
     ]
    }
   ],
   "source": [
    "def print_even(my_input):\n",
    "    for i in range(my_input+1):\n",
    "        if i%2 == 0 :\n",
    "            yield i\n",
    "for i in print_even(10):\n",
    "    print(i, end=',')z\n"
   ]
  },
  {
   "cell_type": "markdown",
   "id": "c419d8e3",
   "metadata": {},
   "source": [
    "### Q3. The Fibonacci Sequence is computed based on the following formula:\n",
    "#### f(n)=0 if n=0\n",
    "#### f(n)=1 if n=1\n",
    "#### f(n)=f(n-1)+f(n-2) if n&gt;1\n",
    "#### Please write a program using list comprehension to print the Fibonacci Sequence in comma\n",
    "#### separated form with a given n input by console.\n",
    "### Example:\n",
    "#### If the following n is given as input to the program: 7\n",
    "#### Then, the output of the program should be:\n",
    "#### 0,1,1,2,3,5,8,13"
   ]
  },
  {
   "cell_type": "code",
   "execution_count": 10,
   "id": "0ed866a0",
   "metadata": {},
   "outputs": [
    {
     "name": "stdout",
     "output_type": "stream",
     "text": [
      "[0, 1, 1, 2, 3, 5, 8, 13, 21, 34]\n"
     ]
    }
   ],
   "source": [
    "def gen_Fibonaci(num):\n",
    "    if num == 0:\n",
    "        return 0\n",
    "    elif num == 1:\n",
    "        return 1\n",
    "    else:\n",
    "        return gen_Fibonaci(num-1)+gen_Fibonaci(num-2)\n",
    "    \n",
    "print([gen_Fibonaci(x) for x in range(10)])"
   ]
  },
  {
   "cell_type": "markdown",
   "id": "a41db339",
   "metadata": {},
   "source": [
    "### Q4. Assuming that we have some email addresses in the \"username@companyname.com\" format, please write a program to print the user name of a given email address. Both user names and company names are composed of letters only.\n",
    "### Example :\n",
    "#### If the following email address is given as input to the program : john@google.com\n",
    "#### Then, the output of the program should be : john"
   ]
  },
  {
   "cell_type": "code",
   "execution_count": 12,
   "id": "02526581",
   "metadata": {},
   "outputs": [
    {
     "name": "stdout",
     "output_type": "stream",
     "text": [
      "Enter Email Address(es): john@gmail.com\n",
      "Username of john@gmail.com is john\n",
      "Enter Email Address(es): Jenny@google.com\n",
      "Username of Jenny@google.com is Jenny\n",
      "Enter Email Address(es): Danny@yahoo.com\n",
      "Username of Danny@yahoo.com is Danny\n"
     ]
    }
   ],
   "source": [
    "def get_Usernames():\n",
    "    in_string = input('Enter Email Address(es): ')\n",
    "    out_string = in_string.split('@')\n",
    "    print(f'Username of {in_string} is {out_string[0]}')\n",
    "\n",
    "for i in range(3):\n",
    "    get_Usernames()"
   ]
  },
  {
   "cell_type": "markdown",
   "id": "d81025ca",
   "metadata": {},
   "source": [
    "### Q5. Define a class Shape and its subclass Square. The Square class has an init function which takes length as argument . Both classes have a area function which can print the area of the shape where Shape's area us 0 by default."
   ]
  },
  {
   "cell_type": "code",
   "execution_count": 13,
   "id": "9c1c23b7",
   "metadata": {},
   "outputs": [
    {
     "name": "stdout",
     "output_type": "stream",
     "text": [
      "2500\n"
     ]
    }
   ],
   "source": [
    "class Shape:\n",
    "    def area(self):\n",
    "        return 0\n",
    "\n",
    "class Square(Shape):\n",
    "    def __init__(self, length):\n",
    "        self.length = length\n",
    "    def area(self):\n",
    "        return self.length*self.length\n",
    "\n",
    "square = Square(50)\n",
    "print(square.area())"
   ]
  }
 ],
 "metadata": {
  "kernelspec": {
   "display_name": "Python 3 (ipykernel)",
   "language": "python",
   "name": "python3"
  },
  "language_info": {
   "codemirror_mode": {
    "name": "ipython",
    "version": 3
   },
   "file_extension": ".py",
   "mimetype": "text/x-python",
   "name": "python",
   "nbconvert_exporter": "python",
   "pygments_lexer": "ipython3",
   "version": "3.9.12"
  }
 },
 "nbformat": 4,
 "nbformat_minor": 5
}
