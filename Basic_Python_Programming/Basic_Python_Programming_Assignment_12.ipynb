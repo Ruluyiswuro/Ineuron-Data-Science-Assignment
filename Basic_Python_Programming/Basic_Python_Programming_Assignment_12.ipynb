{
 "cells": [
  {
   "cell_type": "markdown",
   "id": "05b7e822",
   "metadata": {},
   "source": [
    "# Basic Python Programming Assignment 12"
   ]
  },
  {
   "cell_type": "markdown",
   "id": "83ff5ae5",
   "metadata": {},
   "source": [
    "#### Q1. Write a Pyhton Program to Extract Unique values dictionary values?"
   ]
  },
  {
   "cell_type": "code",
   "execution_count": 3,
   "id": "d9ef0cf1",
   "metadata": {},
   "outputs": [
    {
     "name": "stdout",
     "output_type": "stream",
     "text": [
      "dict_values(['Ineuron', 'Data Science', 'Ineuron', 'Full stack', 'Ineuron', 'Data Science', 'Full stack'])\n",
      "Unique Values :  ['Data Science', 'Ineuron', 'Full stack']\n"
     ]
    }
   ],
   "source": [
    "def extract_unique():\n",
    "    dict = {1: \"Ineuron\", 2: \"Data Science\", 3: \"Ineuron\", 4: \"Full stack\", 5: \"Ineuron\", 6:\"Data Science\", 7:\"Full stack\"}\n",
    "    print(dict.values())\n",
    "    print(\"Unique Values : \", list(set(dict.values())))\n",
    "extract_unique()"
   ]
  },
  {
   "cell_type": "markdown",
   "id": "70fe99d1",
   "metadata": {},
   "source": [
    "#### Q2. Write a Python Program to fund the sum of all items in a dictionary?"
   ]
  },
  {
   "cell_type": "code",
   "execution_count": 4,
   "id": "868bc9b9",
   "metadata": {},
   "outputs": [
    {
     "name": "stdout",
     "output_type": "stream",
     "text": [
      "Sum of the values :  90.6\n"
     ]
    }
   ],
   "source": [
    "dict = {\"year\":25, \"weight\": 60, \"height\": 5.6}\n",
    "print(\"Sum of the values : \", sum(dict.values()))"
   ]
  },
  {
   "cell_type": "markdown",
   "id": "e4da5567",
   "metadata": {},
   "source": [
    "#### Q3. Write a Pyhton Program to Merging two Dictionaries?"
   ]
  },
  {
   "cell_type": "code",
   "execution_count": 5,
   "id": "94bd61a5",
   "metadata": {},
   "outputs": [
    {
     "name": "stdout",
     "output_type": "stream",
     "text": [
      "{'cars': ['BMW', 'Lamborghini'], 'year': ['2020', '2021']}\n"
     ]
    }
   ],
   "source": [
    "dict1 = {\n",
    "    'cars': ['BMW', 'Lamborghini']\n",
    "}\n",
    "dict2 = {\n",
    "    'year': ['2020', '2021']\n",
    "}\n",
    "dict1.update(dict2)\n",
    "print(dict1)"
   ]
  },
  {
   "cell_type": "markdown",
   "id": "9cc9601f",
   "metadata": {},
   "source": [
    "#### Q4. Write a Python Program to convert key-values list to flat dictionary?"
   ]
  },
  {
   "cell_type": "code",
   "execution_count": 10,
   "id": "f060e0d6",
   "metadata": {},
   "outputs": [
    {
     "name": "stdout",
     "output_type": "stream",
     "text": [
      "{'year': 25, 'weight': 60, 'height': 5.6}\n"
     ]
    }
   ],
   "source": [
    "list = [('A', 10), ('B', 60), ('C',2021)]\n",
    "output = {}\n",
    "for i in list:\n",
    "    output[i[0]] = i[1]\n",
    "print(dict)"
   ]
  },
  {
   "cell_type": "markdown",
   "id": "af98254d",
   "metadata": {},
   "source": [
    "#### Q5. Write a Python Program to insertion at the beginning in OrderedDict?"
   ]
  },
  {
   "cell_type": "code",
   "execution_count": 11,
   "id": "de1418ce",
   "metadata": {},
   "outputs": [
    {
     "name": "stdout",
     "output_type": "stream",
     "text": [
      "OrderedDict([('syllabus', 'Data'), ('Student', 'Ineuron'), ('Course', 'Data Science'), ('Year', 2022)])\n"
     ]
    }
   ],
   "source": [
    "from collections import OrderedDict\n",
    "dict1 = OrderedDict({'Student': 'Ineuron', 'Course':'Data Science', 'Year': 2022})\n",
    "dict2 = {\"syllabus\": 'Data'}\n",
    "\n",
    "dict1.update(dict2)\n",
    "dict1.move_to_end('syllabus', last=False)\n",
    "print(dict1)"
   ]
  },
  {
   "cell_type": "markdown",
   "id": "71561f16",
   "metadata": {},
   "source": [
    "#### Q6. Write a Python Program to check order of character in string using OrderedDict?"
   ]
  },
  {
   "cell_type": "code",
   "execution_count": 27,
   "id": "1c4f4387",
   "metadata": {},
   "outputs": [
    {
     "name": "stdout",
     "output_type": "stream",
     "text": [
      "Enter a string : Ineuron\n",
      "Enter the pattern/order : In\n"
     ]
    },
    {
     "data": {
      "text/plain": [
       "'There order is correct'"
      ]
     },
     "execution_count": 27,
     "metadata": {},
     "output_type": "execute_result"
    }
   ],
   "source": [
    "from collections import OrderedDict\n",
    "def check_order():\n",
    "    my_input = input(\"Enter a string : \")\n",
    "    my_pattern = input(\"Enter the pattern/order : \")\n",
    "    my_dict = OrderedDict.fromkeys(my_input)\n",
    "    pattern_length = 0\n",
    "    for key, value in my_dict.items():\n",
    "        if (key==my_pattern[pattern_length]):\n",
    "            pattern_length = pattern_length + 1\n",
    "        if (pattern_length == (len(my_pattern))):\n",
    "            return \"There order is correct\"\n",
    "        \n",
    "    return 'The order is incorrect'\n",
    "    print(\"The string is : \", my_input)\n",
    "    print(\"The pattern is : \", my_pattern)\n",
    "    print(check_order(my_input, input_pattern))\n",
    "check_order()"
   ]
  },
  {
   "cell_type": "markdown",
   "id": "3770a808",
   "metadata": {},
   "source": [
    "#### Q7. Write a Python Program to sort Python Dictionaries by Key or Value?"
   ]
  },
  {
   "cell_type": "code",
   "execution_count": 28,
   "id": "379bd227",
   "metadata": {},
   "outputs": [
    {
     "name": "stdout",
     "output_type": "stream",
     "text": [
      "The key and values after sorting : \n",
      "A 1\n",
      "B 2\n",
      "C 3\n",
      "D 4\n",
      "F 10\n",
      "G 7\n"
     ]
    }
   ],
   "source": [
    "def sort_dict():\n",
    "    dict = {\n",
    "        'A':1,\n",
    "        'C':3,\n",
    "        'D' : 4,\n",
    "        'B':2,\n",
    "        'G':7,\n",
    "        'F':10\n",
    "    }\n",
    "    print(\"The key and values after sorting : \")\n",
    "    for i in sorted (dict):\n",
    "        print(i, dict[i])\n",
    "sort_dict()        "
   ]
  }
 ],
 "metadata": {
  "kernelspec": {
   "display_name": "Python 3 (ipykernel)",
   "language": "python",
   "name": "python3"
  },
  "language_info": {
   "codemirror_mode": {
    "name": "ipython",
    "version": 3
   },
   "file_extension": ".py",
   "mimetype": "text/x-python",
   "name": "python",
   "nbconvert_exporter": "python",
   "pygments_lexer": "ipython3",
   "version": "3.9.12"
  }
 },
 "nbformat": 4,
 "nbformat_minor": 5
}
