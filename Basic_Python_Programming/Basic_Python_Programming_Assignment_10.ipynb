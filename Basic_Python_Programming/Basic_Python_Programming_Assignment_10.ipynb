{
 "cells": [
  {
   "cell_type": "markdown",
   "id": "3b9a92c3",
   "metadata": {},
   "source": [
    "# Basic Python Programming Assignment 10"
   ]
  },
  {
   "cell_type": "markdown",
   "id": "fec54822",
   "metadata": {},
   "source": [
    "#### Q1. Write a Python Program to find sum of elements in list?"
   ]
  },
  {
   "cell_type": "code",
   "execution_count": 1,
   "id": "1bc2c297",
   "metadata": {},
   "outputs": [
    {
     "name": "stdout",
     "output_type": "stream",
     "text": [
      "Enter no of entries: 4\n",
      "Enter element : 23\n",
      "Enter element : 23\n",
      "Enter element : 43\n",
      "Enter element : 1\n",
      "Sum of Elements : 90\n"
     ]
    }
   ],
   "source": [
    "def sum_in_list():\n",
    "    num = int(input(\"Enter no of entries: \"))\n",
    "    list = []\n",
    "    for i in range(num):\n",
    "        list.append(int(input(\"Enter element : \")))\n",
    "    print(f'Sum of Elements : {sum(list)}')\n",
    "sum_in_list()"
   ]
  },
  {
   "cell_type": "markdown",
   "id": "c001d493",
   "metadata": {},
   "source": [
    "#### Q2. Write a Python Program fo Multiply all numbers in the list?"
   ]
  },
  {
   "cell_type": "code",
   "execution_count": 5,
   "id": "e5b78608",
   "metadata": {},
   "outputs": [
    {
     "name": "stdout",
     "output_type": "stream",
     "text": [
      "Enter number of entries : 5\n",
      "Enter element : 1\n",
      "Enter element : 2\n",
      "Enter element : 3\n",
      "Enter element : 4\n",
      "Enter element : 5\n",
      "120\n"
     ]
    }
   ],
   "source": [
    "def multiply_list():\n",
    "    number = int(input(\"Enter number of entries : \"))\n",
    "    list = []\n",
    "    mul = 1\n",
    "    for i in range(number):\n",
    "        list.append(int(input(\"Enter element : \")))\n",
    "    for i in list:\n",
    "        mul = mul * i\n",
    "    print(mul)\n",
    "multiply_list()"
   ]
  },
  {
   "cell_type": "markdown",
   "id": "69f6c24e",
   "metadata": {},
   "source": [
    "#### Q3. Write a Python Program to fund smallest number in the list?"
   ]
  },
  {
   "cell_type": "code",
   "execution_count": 7,
   "id": "f63a9b07",
   "metadata": {},
   "outputs": [
    {
     "name": "stdout",
     "output_type": "stream",
     "text": [
      "Enter number of elements : 4\n",
      "Enter element : 2\n",
      "Enter element : 3\n",
      "Enter element : 4\n",
      "Enter element : 5\n",
      "The smallest element in the list is 2\n"
     ]
    }
   ],
   "source": [
    "def find_smallest():\n",
    "    number = int(input(\"Enter number of elements : \"))\n",
    "    list = []\n",
    "    for i in range(number):\n",
    "        list.append(int(input(\"Enter element : \")))\n",
    "    print(f'The smallest element in the list is {sorted(list)[0]}')\n",
    "find_smallest()"
   ]
  },
  {
   "cell_type": "markdown",
   "id": "7b8706b1",
   "metadata": {},
   "source": [
    "#### Q4. Write a Python Program to find the largest number in the list?"
   ]
  },
  {
   "cell_type": "code",
   "execution_count": 8,
   "id": "c40e1ff6",
   "metadata": {},
   "outputs": [
    {
     "name": "stdout",
     "output_type": "stream",
     "text": [
      "Enter number of elements/entries : 5\n",
      "Enter element : 34\n",
      "Enter element : 543\n",
      "Enter element : 2\n",
      "Enter element : 3\n",
      "Enter element : 45\n",
      "The Largest element in the list is 543\n"
     ]
    }
   ],
   "source": [
    "def find_largest():\n",
    "    \n",
    "    number = int(input(\"Enter number of elements/entries : \"))\n",
    "    list = []\n",
    "    for i in range(number):\n",
    "        list.append(int(input(\"Enter element : \")))\n",
    "    print(f'The Largest element in the list is {sorted(list,reverse = True)[0]}')\n",
    "find_largest()"
   ]
  },
  {
   "cell_type": "markdown",
   "id": "d89726af",
   "metadata": {},
   "source": [
    "#### Q5. Write a Python Program to find the second largest number in the list?"
   ]
  },
  {
   "cell_type": "code",
   "execution_count": 10,
   "id": "b58dcc09",
   "metadata": {},
   "outputs": [
    {
     "name": "stdout",
     "output_type": "stream",
     "text": [
      "Enter number of elements/entries : 5\n",
      "Enter element : 23\n",
      "Enter element : 45\n",
      "Enter element : 66\n",
      "Enter element : 100\n",
      "Enter element : 23\n",
      "The second largest element in the list is 66\n"
     ]
    }
   ],
   "source": [
    "def find_second_largest():\n",
    "    \n",
    "    number = int(input(\"Enter number of elements/entries : \"))\n",
    "    list = []\n",
    "    for i in range(number):\n",
    "        list.append(int(input(\"Enter element : \")))\n",
    "    print(f'The second largest element in the list is {sorted(list,reverse = True)[1]}')\n",
    "find_second_largest()"
   ]
  },
  {
   "cell_type": "markdown",
   "id": "09ef33cb",
   "metadata": {},
   "source": [
    "#### Q6. Write a Pyhton Programm to find the N largest elements in the list?"
   ]
  },
  {
   "cell_type": "code",
   "execution_count": 13,
   "id": "200813b0",
   "metadata": {},
   "outputs": [
    {
     "name": "stdout",
     "output_type": "stream",
     "text": [
      "Enter number of elements/entries : 6\n",
      "Enter element : 12\n",
      "Enter element : 32\n",
      "Enter element : 45\n",
      "Enter element : 32\n",
      "Enter element : 12\n",
      "Enter element : 34\n",
      "The 3 largest element in the list is [45, 34, 32]\n"
     ]
    }
   ],
   "source": [
    "def find_N_largest(n):\n",
    "    number = int(input(\"Enter number of elements/entries : \"))\n",
    "    list = []\n",
    "    for i in range(number):\n",
    "        list.append(int(input(\"Enter element : \")))\n",
    "    print(f'The {n} largest element in the list is {sorted(list,reverse = True)[0:n]}')\n",
    "find_N_largest(3)"
   ]
  },
  {
   "cell_type": "markdown",
   "id": "94a8b9f1",
   "metadata": {},
   "source": [
    "#### Q7. Write a Python Program to find even numbers in the list?"
   ]
  },
  {
   "cell_type": "code",
   "execution_count": 16,
   "id": "dacc1549",
   "metadata": {},
   "outputs": [
    {
     "name": "stdout",
     "output_type": "stream",
     "text": [
      "Enter the numbers of elements in the list : 6\n",
      "Enter an element : 1\n",
      "Enter an element : 2\n",
      "Enter an element : 3\n",
      "Enter an element : 4\n",
      "Enter an element : 5\n",
      "Enter an element : 6\n",
      "The even numbers list is [2, 4, 6]\n"
     ]
    }
   ],
   "source": [
    "def find_even():\n",
    "    num = int(input(\"Enter the numbers of elements in the list : \"))\n",
    "    list = []\n",
    "    even_list = []\n",
    "    for i in range(num):\n",
    "        list.append(int(input(\"Enter an element : \")))\n",
    "    for i in list:\n",
    "        if i%2==0:\n",
    "            even_list.append(i)\n",
    "    print(f\"The even numbers list is {even_list}\")\n",
    "find_even()"
   ]
  },
  {
   "cell_type": "markdown",
   "id": "05d8dd2a",
   "metadata": {},
   "source": [
    "#### Q8. Write a Python program to find odd numbers in the list?"
   ]
  },
  {
   "cell_type": "code",
   "execution_count": 17,
   "id": "c181cb3e",
   "metadata": {},
   "outputs": [
    {
     "name": "stdout",
     "output_type": "stream",
     "text": [
      "Enter the numbers of elements in the list : 6\n",
      "Enter an element : 1\n",
      "Enter an element : 2\n",
      "Enter an element : 3\n",
      "Enter an element : 4\n",
      "Enter an element : 5\n",
      "Enter an element : 6\n",
      "The even numbers list is [1, 3, 5]\n"
     ]
    }
   ],
   "source": [
    "def find_odd():\n",
    "    num = int(input(\"Enter the numbers of elements in the list : \"))\n",
    "    list = []\n",
    "    even_list = []\n",
    "    for i in range(num):\n",
    "        list.append(int(input(\"Enter an element : \")))\n",
    "    for i in list:\n",
    "        if i%2!=0:\n",
    "            even_list.append(i)\n",
    "    print(f\"The even numbers list is {even_list}\")\n",
    "find_odd()"
   ]
  },
  {
   "cell_type": "markdown",
   "id": "93abdaed",
   "metadata": {},
   "source": [
    "#### Q9. Write a Python Program to remove an empty list from a list?"
   ]
  },
  {
   "cell_type": "code",
   "execution_count": 21,
   "id": "ae8a87f1",
   "metadata": {},
   "outputs": [
    {
     "name": "stdout",
     "output_type": "stream",
     "text": [
      "Enter a list of elements : [1,2,3,4,4,[],5,7,8]\n",
      "There is an empty list is at index 5\n",
      "The list after removing the empty list is [1, 2, 3, 4, 4, 5, 7, 8]\n"
     ]
    }
   ],
   "source": [
    "def remove_empty_list():\n",
    "    list = eval(input(\"Enter a list of elements : \"))\n",
    "    if [] in list:\n",
    "        print(f\"There is an empty list is at index {list.index([])}\")\n",
    "        list.remove([])\n",
    "        print(f\"The list after removing the empty list is {list}\")\n",
    "    else:\n",
    "        print(\"There's no empty list\")\n",
    "remove_empty_list() "
   ]
  },
  {
   "cell_type": "markdown",
   "id": "57c7bf13",
   "metadata": {},
   "source": [
    "#### Q10. Write a Python Program to Cloning or Copying a list?"
   ]
  },
  {
   "cell_type": "code",
   "execution_count": 23,
   "id": "dab7e462",
   "metadata": {},
   "outputs": [
    {
     "name": "stdout",
     "output_type": "stream",
     "text": [
      "Enter a list : [1,2,3,4,4,5]\n",
      "[1, 2, 3, 4, 4, 5] 1531886223104\n",
      "[1, 2, 3, 4, 4, 5] 1531886222208\n"
     ]
    }
   ],
   "source": [
    "import copy\n",
    "def copy_list():\n",
    "    list = eval(input(\"Enter a list : \"))\n",
    "    print(list, id(list))\n",
    "    cloned_list = list.copy()\n",
    "    print(cloned_list, id(cloned_list))\n",
    "copy_list()"
   ]
  },
  {
   "cell_type": "markdown",
   "id": "52f2bb98",
   "metadata": {},
   "source": [
    "#### Q11. Write a Python Program to count occurences of an element in a list?"
   ]
  },
  {
   "cell_type": "code",
   "execution_count": 24,
   "id": "85e26724",
   "metadata": {},
   "outputs": [
    {
     "name": "stdout",
     "output_type": "stream",
     "text": [
      "Enter a list : [1,2,3,4,5,4,4,5,7,4,8]\n",
      "Enter the element to find the number of occurences : 4\n",
      "There are 4 occurences of 4 in list [1, 2, 3, 4, 5, 4, 4, 5, 7, 4, 8]\n"
     ]
    }
   ],
   "source": [
    "def check_occurences():\n",
    "    list = eval(input(\"Enter a list : \"))\n",
    "    num = eval(input(\"Enter the element to find the number of occurences : \"))\n",
    "    count = 0\n",
    "    if num in list:\n",
    "        for i in list:\n",
    "            if i == num:\n",
    "                count+=1\n",
    "    print(f\"There are {count} occurences of {num} in list {list}\")\n",
    "check_occurences()"
   ]
  }
 ],
 "metadata": {
  "kernelspec": {
   "display_name": "Python 3 (ipykernel)",
   "language": "python",
   "name": "python3"
  },
  "language_info": {
   "codemirror_mode": {
    "name": "ipython",
    "version": 3
   },
   "file_extension": ".py",
   "mimetype": "text/x-python",
   "name": "python",
   "nbconvert_exporter": "python",
   "pygments_lexer": "ipython3",
   "version": "3.9.12"
  }
 },
 "nbformat": 4,
 "nbformat_minor": 5
}
