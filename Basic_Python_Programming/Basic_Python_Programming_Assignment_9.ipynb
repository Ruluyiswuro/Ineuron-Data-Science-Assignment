{
 "cells": [
  {
   "cell_type": "markdown",
   "id": "85cede95",
   "metadata": {},
   "source": [
    "# Basic Python Programming Assignment 9"
   ]
  },
  {
   "cell_type": "markdown",
   "id": "e2a104cd",
   "metadata": {},
   "source": [
    "### Q1. Write a Python Program to check if the given number is a Disarium Number?"
   ]
  },
  {
   "cell_type": "code",
   "execution_count": 1,
   "id": "d009ece5",
   "metadata": {},
   "outputs": [
    {
     "name": "stdout",
     "output_type": "stream",
     "text": [
      "Enter a number150\n",
      "150 is not a Disarium Number\n",
      "Enter a number135\n",
      "135 is a Disarium Number\n"
     ]
    }
   ],
   "source": [
    "def check_disarium():\n",
    "    num = input(\"Enter a number\")\n",
    "    sum = 0\n",
    "    for item in range(len(num)):\n",
    "        sum = sum + int(num[item])**(item+1)\n",
    "    if sum == int(num):\n",
    "        print(f\"{num} is a Disarium Number\")\n",
    "    else :\n",
    "        print(f\"{num} is not a Disarium Number\")\n",
    "check_disarium()\n",
    "check_disarium()"
   ]
  },
  {
   "cell_type": "markdown",
   "id": "0ff310fd",
   "metadata": {},
   "source": [
    "### Q2. Write a Python Program to print all disarium numbers between 1 to 100?"
   ]
  },
  {
   "cell_type": "code",
   "execution_count": 8,
   "id": "483801ea",
   "metadata": {},
   "outputs": [
    {
     "data": {
      "text/plain": [
       "[0, 1, 2, 3, 4, 5, 6, 7, 8, 9, 89]"
      ]
     },
     "execution_count": 8,
     "metadata": {},
     "output_type": "execute_result"
    }
   ],
   "source": [
    "def print_disarium_no(start=0, end = 100):\n",
    "    output = []\n",
    "    for number in range(start, end + 1):\n",
    "        sum = 0\n",
    "        for item in range(len(str(number))):\n",
    "            sum = sum + int(str(number)[item])**(item+1)\n",
    "        if sum == number:\n",
    "            output.append(number)\n",
    "    return output\n",
    "print_disarium_no()"
   ]
  },
  {
   "cell_type": "markdown",
   "id": "7699a00a",
   "metadata": {},
   "source": [
    "### Q3. Write a Python Program to check if the given number is Happy Number?"
   ]
  },
  {
   "cell_type": "code",
   "execution_count": 3,
   "id": "77832152",
   "metadata": {},
   "outputs": [
    {
     "name": "stdout",
     "output_type": "stream",
     "text": [
      "The number is not a Happy Number\n",
      "The number is a Happy Number\n",
      "The number is a Happy Number\n"
     ]
    }
   ],
   "source": [
    "def is_happ_num(n):\n",
    "    past = set()\n",
    "    while n !=1:\n",
    "        n = sum(int(i)**2 for i in str(n))\n",
    "        if n in past:\n",
    "            return \"The number is not a Happy Number\"\n",
    "        past.add(n)\n",
    "    return \"The number is a Happy Number\"\n",
    "print(is_happ_num(12443))\n",
    "print(is_happ_num(103))\n",
    "print(is_happ_num(100))"
   ]
  },
  {
   "cell_type": "markdown",
   "id": "5e459d36",
   "metadata": {},
   "source": [
    "### Q4. Write a Python Program to print all the gappy numbers between 1 to 100?\n"
   ]
  },
  {
   "cell_type": "code",
   "execution_count": 10,
   "id": "8859cba0",
   "metadata": {},
   "outputs": [
    {
     "name": "stdout",
     "output_type": "stream",
     "text": [
      "The Happy Numbers between 1 to 100 are [1, 7, 10, 13, 19, 23, 28, 31, 32, 44, 49, 68, 70, 79, 82, 86, 91, 94, 97, 100]\n"
     ]
    }
   ],
   "source": [
    "def print_happy_numbers(start = 0, end = 100):\n",
    "    HappyNumbers = []\n",
    "    for number in range(start, end + 1):\n",
    "        number = str(number)\n",
    "        number_holder = number\n",
    "        check_number = set()\n",
    "        while True:\n",
    "            if number !='1' and str(number) not in check_number:\n",
    "                check_number.add(number)\n",
    "                sum = 0\n",
    "                for i in range(len(number)):\n",
    "                    sum = sum + int(number[i])**2\n",
    "                number = str(sum)\n",
    "            elif str(number) in check_number:\n",
    "                break\n",
    "            else:\n",
    "                HappyNumbers.append(int(number_holder))\n",
    "                break\n",
    "    print(f\"The Happy Numbers between 1 to 100 are {HappyNumbers}\")\n",
    "print_happy_numbers(0,100)"
   ]
  },
  {
   "cell_type": "markdown",
   "id": "5dc9dd76",
   "metadata": {},
   "source": [
    "### Q5. Write Python Program to determine whether the given number is a Harshad Number?"
   ]
  },
  {
   "cell_type": "code",
   "execution_count": 11,
   "id": "edf9e947",
   "metadata": {},
   "outputs": [
    {
     "name": "stdout",
     "output_type": "stream",
     "text": [
      "Enter a number : 34\n",
      "34 is not a Harshad Number\n"
     ]
    }
   ],
   "source": [
    "def check_Harshad_Number():\n",
    "    number = input(\"Enter a number : \")\n",
    "    sum = 0\n",
    "    for i in range(len(number)):\n",
    "        sum = sum + int(number[i])\n",
    "    if int(number)%sum == 0:\n",
    "        print(f\"{number} is a Harshad Number\")\n",
    "    else:\n",
    "        print(f\"{number} is not a Harshad Number\")\n",
    "        \n",
    "check_Harshad_Number()"
   ]
  },
  {
   "cell_type": "markdown",
   "id": "45871390",
   "metadata": {},
   "source": [
    "### Q6. Write a Python Program to print all pronic numbers between 1 to 100?"
   ]
  },
  {
   "cell_type": "code",
   "execution_count": 15,
   "id": "3c0cf9e7",
   "metadata": {},
   "outputs": [
    {
     "name": "stdout",
     "output_type": "stream",
     "text": [
      "The pronic numbers between 1 to 100 are : \n",
      " \n",
      "[0, 2, 6, 12, 20, 30, 42, 56, 72, 90, 110, 132, 156, 182, 210, 240, 272, 306, 342, 380, 420, 462, 506, 552, 600, 650, 702, 756, 812, 870, 930, 992, 1056, 1122, 1190, 1260, 1332, 1406, 1482, 1560, 1640, 1722, 1806, 1892, 1980, 2070, 2162, 2256, 2352, 2450, 2550, 2652, 2756, 2862, 2970, 3080, 3192, 3306, 3422, 3540, 3660, 3782, 3906, 4032, 4160, 4290, 4422, 4556, 4692, 4830, 4970, 5112, 5256, 5402, 5550, 5700, 5852, 6006, 6162, 6320, 6480, 6642, 6806, 6972, 7140, 7310, 7482, 7656, 7832, 8010, 8190, 8372, 8556, 8742, 8930, 9120, 9312, 9506, 9702, 9900, 10100]\n"
     ]
    }
   ],
   "source": [
    "def print_pronic_numbers(start=0, end = 100):\n",
    "    \n",
    "    result = []\n",
    "    for i in range(start, end +1):\n",
    "        result.append((i)*(i+1))\n",
    "    print(result)\n",
    "print(\"The pronic numbers between 1 to 100 are : \")\n",
    "print(\" \")\n",
    "print_pronic_numbers()"
   ]
  },
  {
   "cell_type": "code",
   "execution_count": null,
   "id": "072741b9",
   "metadata": {},
   "outputs": [],
   "source": []
  }
 ],
 "metadata": {
  "kernelspec": {
   "display_name": "Python 3 (ipykernel)",
   "language": "python",
   "name": "python3"
  },
  "language_info": {
   "codemirror_mode": {
    "name": "ipython",
    "version": 3
   },
   "file_extension": ".py",
   "mimetype": "text/x-python",
   "name": "python",
   "nbconvert_exporter": "python",
   "pygments_lexer": "ipython3",
   "version": "3.9.12"
  }
 },
 "nbformat": 4,
 "nbformat_minor": 5
}
