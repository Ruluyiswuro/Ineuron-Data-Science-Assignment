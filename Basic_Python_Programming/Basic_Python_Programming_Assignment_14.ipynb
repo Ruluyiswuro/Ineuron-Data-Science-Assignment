{
 "cells": [
  {
   "cell_type": "markdown",
   "id": "972f4a8a",
   "metadata": {},
   "source": [
    "# Basic Python Programming Assignment 14"
   ]
  },
  {
   "cell_type": "markdown",
   "id": "2323e73c",
   "metadata": {},
   "source": [
    "### Q1. Define a class with generattor which can iterate the numbers, which are divisible by 7, between a given range 0 and n."
   ]
  },
  {
   "cell_type": "code",
   "execution_count": 5,
   "id": "431ea926",
   "metadata": {},
   "outputs": [
    {
     "name": "stdout",
     "output_type": "stream",
     "text": [
      "0 7 14 21 28 35 42 49 56 63 70 77 84 91 98 105 112 119 126 133 140 147 154 161 168 175 182 189 196 "
     ]
    }
   ],
   "source": [
    "class div_generator:\n",
    "    def __init__(self, num):\n",
    "        self.num = num\n",
    "    def get_numbers(self):\n",
    "        for i in range(0,self.num+1):\n",
    "            if i%7 ==0:\n",
    "                yield i\n",
    "output = div_generator(200)\n",
    "for i in output.get_numbers():\n",
    "    print(i, end = ' ')"
   ]
  },
  {
   "cell_type": "markdown",
   "id": "fcc52ada",
   "metadata": {},
   "source": [
    "### Q2. Wtite a program to compute the frequency of the words from the input. The output should output after sorting the key aphanumerically.\n",
    "#### Suppose the following input is supplied to the program:\n",
    "#### New to Python or choosing between Python 2 and Python 3? Read Python 2 or Python 3.\n",
    "\n",
    "#### Then the output should be :\n",
    "#### 2:2\n",
    "#### 3.:1\n",
    "#### 3?:1\n",
    "#### New:1\n",
    "#### Python:5\n",
    "#### Read:1\n",
    "#### and:1\n",
    "#### between:1\n",
    "#### choosing:1\n",
    "#### or:2\n",
    "#### to:1"
   ]
  },
  {
   "cell_type": "code",
   "execution_count": 7,
   "id": "a5a78720",
   "metadata": {},
   "outputs": [
    {
     "name": "stdout",
     "output_type": "stream",
     "text": [
      "Enter the string : New to Python or choosing between Python 2 and Python 3? Read Python 2 or Python 3.\n",
      "2:2 3.:1 3?:1 New:1 Python:5 Read:1 and:1 between:1 choosing:1 or:2 to:1 "
     ]
    }
   ],
   "source": [
    "def check_frequency():\n",
    "    myStr = input(\"Enter the string : \")\n",
    "    frequency = {}\n",
    "    for i in myStr.split(\" \"):\n",
    "        if (frequency.get(i) == None):\n",
    "            frequency[i]=1\n",
    "        else:\n",
    "            frequency[i]+=1\n",
    "    for i in sorted(frequency):\n",
    "        print(f'{i}:{frequency[i]}', end =\" \")\n",
    "check_frequency()       "
   ]
  },
  {
   "cell_type": "markdown",
   "id": "c8ac9cfc",
   "metadata": {},
   "source": [
    "### Q3. Defibe a class Person and its two child classes: Male and Female. All the classes have a method \"getGender\" which can print \"Male\" for Male class and \"Female\" for Female class."
   ]
  },
  {
   "cell_type": "code",
   "execution_count": 8,
   "id": "6361499c",
   "metadata": {},
   "outputs": [
    {
     "name": "stdout",
     "output_type": "stream",
     "text": [
      "Male\n",
      "Female\n"
     ]
    }
   ],
   "source": [
    "class Person:\n",
    "    def getGender():\n",
    "        pass\n",
    "\n",
    "class Male(Person):\n",
    "    def getGender():\n",
    "        print(\"Male\")\n",
    "\n",
    "class Female(Person):\n",
    "    def getGender():\n",
    "        print(\"Female\")\n",
    "Male.getGender()\n",
    "Female.getGender()"
   ]
  },
  {
   "cell_type": "markdown",
   "id": "4bb96c50",
   "metadata": {},
   "source": [
    "### Q4. Please write a program to generate all sentences where subject is in [\"I\", \"You\"] and verb is in [\"Play\", \"Love\"] and the object is in [\"Hockey\", \"Football\"]."
   ]
  },
  {
   "cell_type": "code",
   "execution_count": 10,
   "id": "bb19b3da",
   "metadata": {},
   "outputs": [
    {
     "name": "stdout",
     "output_type": "stream",
     "text": [
      "I Play Hockey\n",
      "I Play Football\n",
      "I Love Hockey\n",
      "I Love Football\n",
      "You Play Hockey\n",
      "You Play Football\n",
      "You Love Hockey\n",
      "You Love Football\n"
     ]
    }
   ],
   "source": [
    "def generateSentence():\n",
    "    subject = [\"I\", \"You\"]\n",
    "    verb = [\"Play\", \"Love\"]\n",
    "    object = [\"Hockey\", \"Football\"]\n",
    "    for s in subject:\n",
    "        for v in verb:\n",
    "            for o in object:\n",
    "                print(f\"{s} {v} {o}\")\n",
    "generateSentence()"
   ]
  },
  {
   "cell_type": "markdown",
   "id": "e8fdda4c",
   "metadata": {},
   "source": [
    "### Q5. Please write a program to compress and decompress the string \"hello world! hello world!hello wordl! \" ?\n"
   ]
  },
  {
   "cell_type": "code",
   "execution_count": 14,
   "id": "fc1d75df",
   "metadata": {},
   "outputs": [
    {
     "name": "stdout",
     "output_type": "stream",
     "text": [
      "hel2o world! hel2o world!hel2o wordl! \n",
      "hello world! hello world!hello wordl! \n"
     ]
    }
   ],
   "source": [
    "def compress(string):\n",
    "    output = string[0]\n",
    "    count = 1\n",
    "    for i in range(len(string)-1):\n",
    "        if string[i] == string[i+1]:\n",
    "            count +=1\n",
    "        else :\n",
    "            if count>1:\n",
    "                output+= str(count)\n",
    "            output += string[i+1]\n",
    "            count = 1\n",
    "    if count >1:\n",
    "        output +=str(count)\n",
    "    print(output)\n",
    "    \n",
    "def decompress(string):\n",
    "    output = ''\n",
    "    for i in range (len(string)):\n",
    "        if string[i].isdigit():\n",
    "            output+= output[-1]* (int(string[i])-1)\n",
    "        else :\n",
    "            output += string[i]\n",
    "    print(output)\n",
    "\n",
    "compress(\"hello world! hello world!hello wordl! \")\n",
    "decompress(\"hel2o world! hel2o world!hel2o wordl! \")"
   ]
  },
  {
   "cell_type": "markdown",
   "id": "3cd7a024",
   "metadata": {},
   "source": [
    "### Q6. Please write a binary function which searches an item in a sorted list. The function should return the index of element to be search in the list?"
   ]
  },
  {
   "cell_type": "code",
   "execution_count": 27,
   "id": "16e9d5c3",
   "metadata": {},
   "outputs": [
    {
     "name": "stdout",
     "output_type": "stream",
     "text": [
      "6\n",
      "Input Element not in the list\n"
     ]
    }
   ],
   "source": [
    "sorted_list = [1,2,3,4,5,6,7,8,9,10]\n",
    "def binary_search(in_list,in_num):\n",
    "    low = 0\n",
    "    high = len(in_list)-1\n",
    "    while low <= high:\n",
    "        mid = high+low//2\n",
    "        if in_list[mid] < in_num:\n",
    "            low = mid+1\n",
    "        elif in_list[mid] > in_num:\n",
    "            high = mid-1\n",
    "        else:\n",
    "            return mid\n",
    "    else:\n",
    "        return 'Input Element not in the list'\n",
    "    \n",
    "print(binary_search(sorted_list,7))\n",
    "print(binary_search(sorted_list,100))"
   ]
  }
 ],
 "metadata": {
  "kernelspec": {
   "display_name": "Python 3 (ipykernel)",
   "language": "python",
   "name": "python3"
  },
  "language_info": {
   "codemirror_mode": {
    "name": "ipython",
    "version": 3
   },
   "file_extension": ".py",
   "mimetype": "text/x-python",
   "name": "python",
   "nbconvert_exporter": "python",
   "pygments_lexer": "ipython3",
   "version": "3.9.12"
  }
 },
 "nbformat": 4,
 "nbformat_minor": 5
}
