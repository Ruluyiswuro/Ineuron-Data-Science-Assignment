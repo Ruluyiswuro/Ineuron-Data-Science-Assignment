{
 "cells": [
  {
   "cell_type": "markdown",
   "id": "409f4f62",
   "metadata": {},
   "source": [
    "# Basic Python Programming Assignment 7"
   ]
  },
  {
   "cell_type": "markdown",
   "id": "4fa1b3a2",
   "metadata": {},
   "source": [
    "### Q1. Write Python Program to find the sum of array?"
   ]
  },
  {
   "cell_type": "code",
   "execution_count": 1,
   "id": "aafedda3",
   "metadata": {},
   "outputs": [
    {
     "name": "stdout",
     "output_type": "stream",
     "text": [
      "Enter the array to find the sum : 1,2,3,4,5,6\n",
      "The sum of  (1, 2, 3, 4, 5, 6) is 21\n"
     ]
    }
   ],
   "source": [
    "def sum_of_Array():\n",
    "    array = eval(input(\"Enter the array to find the sum : \"))\n",
    "    print(\"The sum of \", (array), \"is\", (sum(array)))\n",
    "\n",
    "sum_of_Array()"
   ]
  },
  {
   "cell_type": "markdown",
   "id": "c8fd4aa1",
   "metadata": {},
   "source": [
    "### Q2. Write a Python Program to find the largest element in an array?"
   ]
  },
  {
   "cell_type": "code",
   "execution_count": 4,
   "id": "49645d22",
   "metadata": {},
   "outputs": [
    {
     "name": "stdout",
     "output_type": "stream",
     "text": [
      "Enter the array : 23,4,5,643,56\n",
      "The largest element in the array (23, 4, 5, 643, 56) is 643\n"
     ]
    }
   ],
   "source": [
    "def largest_element():\n",
    "    array1 = eval(input(\"Enter the array : \"))\n",
    "    print(\"The largest element in the array\", array1, \"is\", (max(array1)))\n",
    "\n",
    "largest_element()"
   ]
  },
  {
   "cell_type": "markdown",
   "id": "08c2b95e",
   "metadata": {},
   "source": [
    "### Q3. Write a Python Program for array rotation?"
   ]
  },
  {
   "cell_type": "code",
   "execution_count": 5,
   "id": "0d9c57f5",
   "metadata": {},
   "outputs": [
    {
     "name": "stdout",
     "output_type": "stream",
     "text": [
      "Enter the array : 23,4,5,6,7\n",
      "The array rotation of  (23, 4, 5, 6, 7) is (7, 6, 5, 4, 23)\n"
     ]
    }
   ],
   "source": [
    "def array_rotation():\n",
    "    array2 = eval(input(\"Enter the array : \"))\n",
    "    print(\"The array rotation of \", array2, \"is\", (array2[::-1]))\n",
    "\n",
    "array_rotation()"
   ]
  },
  {
   "cell_type": "markdown",
   "id": "a58731e7",
   "metadata": {},
   "source": [
    "### Q4. Write a Pyhton Program to Split the array and add the first part to the end?"
   ]
  },
  {
   "cell_type": "code",
   "execution_count": 13,
   "id": "63c621af",
   "metadata": {},
   "outputs": [
    {
     "name": "stdout",
     "output_type": "stream",
     "text": [
      "The array added to end after splitting is : \n",
      "4 5 34 56 10 2 3 "
     ]
    }
   ],
   "source": [
    "def split_and_add_Arr(array3, n, k): \n",
    "    for i in range(0, k):\n",
    "        x = array3[0]\n",
    "        for j in range(0,n-1):\n",
    "            array3[j] = array3[j+1]\n",
    "        array3[n-1]= x\n",
    "array3 = [2,3,4,5,34,56,10]\n",
    "n = len(array3)\n",
    "position = 2\n",
    "\n",
    "split_and_add_Arr(array3, n, position)\n",
    "print(\"The array added to end after splitting is : \" )\n",
    "for i in range(0, n):\n",
    "    print(array3[i], end = ' ')"
   ]
  },
  {
   "cell_type": "markdown",
   "id": "5ec8c116",
   "metadata": {},
   "source": [
    "### Q5. Write a Python Program to check if given array is Monotonic?"
   ]
  },
  {
   "cell_type": "code",
   "execution_count": 16,
   "id": "65e7b90f",
   "metadata": {},
   "outputs": [
    {
     "name": "stdout",
     "output_type": "stream",
     "text": [
      "Enter the array : 2,3,4,5,6,7,\n",
      "The array (2, 3, 4, 5, 6, 7) is Monotonic\n"
     ]
    }
   ],
   "source": [
    "def isMonotonic():\n",
    "    A = eval(input(\"Enter the array : \"))\n",
    "    if (all(A[i] <= A[i+1] for i in range(len(A) - 1)) or all(A[i] >= A[i+1] for i in range (len(A) - 1))):\n",
    "        print(\"The array {} is Monotonic\".format(A))\n",
    "    else :\n",
    "        print(\"The array {} is not Monotonic\".format(A))\n",
    "\n",
    "        \n",
    "isMonotonic()"
   ]
  }
 ],
 "metadata": {
  "kernelspec": {
   "display_name": "Python 3 (ipykernel)",
   "language": "python",
   "name": "python3"
  },
  "language_info": {
   "codemirror_mode": {
    "name": "ipython",
    "version": 3
   },
   "file_extension": ".py",
   "mimetype": "text/x-python",
   "name": "python",
   "nbconvert_exporter": "python",
   "pygments_lexer": "ipython3",
   "version": "3.9.12"
  }
 },
 "nbformat": 4,
 "nbformat_minor": 5
}
