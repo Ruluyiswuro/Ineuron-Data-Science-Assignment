{
 "cells": [
  {
   "cell_type": "markdown",
   "id": "5b873680",
   "metadata": {},
   "source": [
    "# Basic Python Programming Assignment 13"
   ]
  },
  {
   "cell_type": "markdown",
   "id": "d25d79d2",
   "metadata": {},
   "source": [
    "### Q1. Write a program that calculates and prints the value according to the given formula:\n",
    "#### Q = Square root of [(2 * C * D)/H]\n",
    "#### Following are the fixed values of C and H:\n",
    "#### C is 50. H is 30.\n",
    "#### D is the variable whose values should be input to your program in a comma-separated sequence.\n",
    "#### Example\n",
    "\n",
    "#### Let us assume the following comma separated input sequence is given to the program:\n",
    "#### 100,150,180\n",
    "\n",
    "#### The output of the program should be:\n",
    "#### 18,22,24"
   ]
  },
  {
   "cell_type": "code",
   "execution_count": 4,
   "id": "92547c9e",
   "metadata": {},
   "outputs": [
    {
     "name": "stdout",
     "output_type": "stream",
     "text": [
      "Enter the value : 150,190,240\n",
      "Output :  22,25,28\n"
     ]
    }
   ],
   "source": [
    "\n",
    "from math import sqrt\n",
    "def calculate_value():\n",
    "    try:\n",
    "        my_input = eval(input(\"Enter the value : \"))\n",
    "        output = []\n",
    "        C = 50\n",
    "        H = 30\n",
    "        for i in my_input:\n",
    "            Q = str(int(sqrt((2*C*i)/H)))\n",
    "            output.append(Q)\n",
    "        print(\"Output : \", (','.join(output)))\n",
    "    except Exception as e:\n",
    "        return \"There's. an error\"\n",
    "calculate_value()"
   ]
  },
  {
   "cell_type": "markdown",
   "id": "51bfc14f",
   "metadata": {},
   "source": [
    "### Q2. Write a program which takes 2 digits X, Y as input and generates a 2-dimensional array. the element value in the i-th row and j-th colujmn of the array should be i*j.\n",
    "#### Note: i=0,1.., X-1; j=0,1,¡Y-1.\n",
    "#### Example\n",
    "#### Suppose the following inputs are given to the program:\n",
    "#### 3,5\n",
    "#### Then, the output of the program should be:\n",
    "#### [[0, 0, 0, 0, 0], [0, 1, 2, 3, 4], [0, 2, 4, 6, 8]]"
   ]
  },
  {
   "cell_type": "code",
   "execution_count": 6,
   "id": "fa04cb8e",
   "metadata": {},
   "outputs": [
    {
     "name": "stdout",
     "output_type": "stream",
     "text": [
      "Enter the number of rows : 3\n",
      "Enter the number of columns : 4\n",
      "[[0, 0, 0, 0], [0, 1, 2, 3], [0, 2, 4, 6]]\n"
     ]
    }
   ],
   "source": [
    "import array\n",
    "def generate_array():\n",
    "    X = int(input(\"Enter the number of rows : \"))\n",
    "    Y = int(input(\"Enter the number of columns : \"))\n",
    "    out_array = []\n",
    "    for i in range(X):\n",
    "        out_array.insert(X,[])\n",
    "        for j in range(Y):\n",
    "            out_array[i].append(i*j)\n",
    "    print(out_array)\n",
    "generate_array()"
   ]
  },
  {
   "cell_type": "markdown",
   "id": "45775aba",
   "metadata": {},
   "source": [
    "### Q3. Write a program that accepts a comma separated sequence of words as input and prints the words in a comma-separated sequence after sorting them alphabetically.\n",
    "#### Suppose the following input is supplied to the program:\n",
    "#### without,hello,bag,world\n",
    "#### Then, the output should be:\n",
    "#### bag,hello,without,world"
   ]
  },
  {
   "cell_type": "code",
   "execution_count": 8,
   "id": "5ff14288",
   "metadata": {},
   "outputs": [
    {
     "name": "stdout",
     "output_type": "stream",
     "text": [
      "Enter the string : hello, world, country, continent, universe\n",
      "Output :  continent, country, hello, universe world,\n"
     ]
    }
   ],
   "source": [
    "def sort_alpha():\n",
    "    myStr = input(\"Enter the string : \")\n",
    "    output = ' '.join(sorted(list(set(myStr.split(\" \")))))\n",
    "    print(\"Output : \", output)\n",
    "sort_alpha()"
   ]
  },
  {
   "cell_type": "markdown",
   "id": "61c501e2",
   "metadata": {},
   "source": [
    "### Q5. Write a program that accepts a sentence and calculate the number of letters and digits.\n",
    "#### Suppose the following input is supplied to the program:\n",
    "#### hello world! 123\n",
    "#### Then, the output should be:\n",
    "#### LETTERS 10\n",
    "#### DIGITS 3"
   ]
  },
  {
   "cell_type": "code",
   "execution_count": 10,
   "id": "db425e45",
   "metadata": {},
   "outputs": [
    {
     "name": "stdout",
     "output_type": "stream",
     "text": [
      "Enter the string and digits : I am 24 years old and my year of birth is 1998\n",
      "Letters :  29\n",
      "Digits :  6\n"
     ]
    }
   ],
   "source": [
    "def calculate_lettnno():\n",
    "    my_input = input(\"Enter the string and digits : \")\n",
    "    letters = \"ABCDEFGHIJKLMNOPQRSTUVWXYZabcdefghijklmnopqrstuvwxyz\"\n",
    "    digits = '0123456789'\n",
    "    letter = 0\n",
    "    digit = 0\n",
    "    for i in my_input:\n",
    "        if i in letters:\n",
    "            letter+=1\n",
    "        if i in digits:\n",
    "            digit+=1\n",
    "    print(\"Letters : \", letter)\n",
    "    print(\"Digits : \", digit)\n",
    "calculate_lettnno()\n",
    "        "
   ]
  },
  {
   "cell_type": "markdown",
   "id": "eff2bc76",
   "metadata": {},
   "source": [
    "### Q6. A website requires the users to input username and password to register. Write a program to check the validity of password input by users.\n",
    "#### Following are the criteria for checking the password:\n",
    " 1. At least 1 letter between [a-z]\n",
    " 2. At least 1 number between [0-9]\n",
    " 1. At least 1 letter between [A-Z]\n",
    " 3. At least 1 character from [$#@]\n",
    " 4. Minimum length of transaction password: 6\n",
    " 5. Maximum length of transaction password: 12\n",
    "Your program should accept a sequence of comma separated passwords and will check them\n",
    "according to the above criteria. Passwords that match the criteria are to be printed, each\n",
    "separated by a comma.\n",
    "\n",
    "#### Example\n",
    "\n",
    "If the following passwords are given as input to the program:\n",
    "\n",
    "ABd1234@1,a F1#,2w3E*,2We3345\n",
    "\n",
    "Then, the output of the program should be:\n",
    "\n",
    "ABd1234@1"
   ]
  },
  {
   "cell_type": "code",
   "execution_count": 12,
   "id": "44a431ac",
   "metadata": {},
   "outputs": [
    {
     "name": "stdout",
     "output_type": "stream",
     "text": [
      "Enter the Input String: ABd1234@1,a F1#,2w3E*,2We3345\n",
      "ABd1234@1\n"
     ]
    }
   ],
   "source": [
    "def checkPassword():\n",
    "    in_string = input(\"Enter the Input String: \")\n",
    "    small_list = \"abcdefghijklmnopqrstuvwxyz\"\n",
    "    cap_list = \"ABCDEFGHIJKLMNOPQRSTUVWXYZ\"\n",
    "    num_list = \"0123456789\"\n",
    "    special_list = \"$#@\"\n",
    "    for ele in in_string.split(\",\"):\n",
    "        if len(ele) <= 12 and len(ele) >=6 :\n",
    "            if any(i.isupper() for i in ele):\n",
    "                if any(i.islower() for i in ele):\n",
    "                    if any(i for i in ele if i in special_list):\n",
    "                        print(ele)\n",
    "                               \n",
    "checkPassword() "
   ]
  }
 ],
 "metadata": {
  "kernelspec": {
   "display_name": "Python 3 (ipykernel)",
   "language": "python",
   "name": "python3"
  },
  "language_info": {
   "codemirror_mode": {
    "name": "ipython",
    "version": 3
   },
   "file_extension": ".py",
   "mimetype": "text/x-python",
   "name": "python",
   "nbconvert_exporter": "python",
   "pygments_lexer": "ipython3",
   "version": "3.9.12"
  }
 },
 "nbformat": 4,
 "nbformat_minor": 5
}
