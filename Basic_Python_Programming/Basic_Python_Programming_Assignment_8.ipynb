{
 "cells": [
  {
   "cell_type": "markdown",
   "id": "68682364",
   "metadata": {},
   "source": [
    "# Basic Python Programming Assignment 8"
   ]
  },
  {
   "cell_type": "markdown",
   "id": "887f4303",
   "metadata": {},
   "source": [
    "### Q1. Write a Python Program to add two matrices?"
   ]
  },
  {
   "cell_type": "code",
   "execution_count": 1,
   "id": "c66e3f1a",
   "metadata": {},
   "outputs": [
    {
     "name": "stdout",
     "output_type": "stream",
     "text": [
      "[3, 12, 12]\n",
      "[12, 3, 12]\n",
      "[12, 12, 3]\n"
     ]
    }
   ],
   "source": [
    "def add_matrices():\n",
    "    X = [[2,3,4],\n",
    "        [5, 1,7],\n",
    "        [8, 9,1]]\n",
    "\n",
    "    Y = [[1,9,8],\n",
    "        [7 ,2,5],\n",
    "        [4 ,3,2]]\n",
    "\n",
    "    Z = [[0,0,0],\n",
    "         [0,0,0],\n",
    "         [0,0,0]]\n",
    "\n",
    "    for i in range (len(X)):\n",
    "        for j in range(len(X[0])):\n",
    "            Z[i][j] = X[i][j] + Y[i][j]\n",
    "    for k in Z:\n",
    "        print(k)\n",
    "add_matrices()"
   ]
  },
  {
   "cell_type": "markdown",
   "id": "7995551e",
   "metadata": {},
   "source": [
    "### Q2. Write a Python Program to Multiply Two Matrices?"
   ]
  },
  {
   "cell_type": "code",
   "execution_count": 10,
   "id": "3abe7484",
   "metadata": {},
   "outputs": [
    {
     "name": "stdout",
     "output_type": "stream",
     "text": [
      "[39, 36, 39]\n",
      "[40, 68, 59]\n",
      "[75, 93, 111]\n"
     ]
    }
   ],
   "source": [
    "def matrix_mul():\n",
    "    X = [[2,3,4],\n",
    "        [5, 1,7],\n",
    "        [8, 9,1]]\n",
    "\n",
    "    Y = [[1,9,8],\n",
    "        [7 ,2,5],\n",
    "        [4 ,3,2]]\n",
    "\n",
    "    Z = [[0,0,0],\n",
    "         [0,0,0],\n",
    "         [0,0,0]]\n",
    "    for i in range (len(X)):\n",
    "        for j in range (len(Y[0])):\n",
    "            for k in range (len(Y)):\n",
    "                Z[i][j] += X[i][k]*Y[k][j]\n",
    "    for output in Z:\n",
    "        print(output)\n",
    "matrix_mul()"
   ]
  },
  {
   "cell_type": "markdown",
   "id": "7e2786ed",
   "metadata": {},
   "source": [
    "### Q3. Write Python Program to transpose a Matrix?"
   ]
  },
  {
   "cell_type": "code",
   "execution_count": 13,
   "id": "5908db63",
   "metadata": {},
   "outputs": [
    {
     "name": "stdout",
     "output_type": "stream",
     "text": [
      "[4, 9, 5]\n",
      "[5, 8, 6]\n"
     ]
    }
   ],
   "source": [
    "def transpose_matrix():\n",
    "    x = [[4,5],\n",
    "         [9,8], \n",
    "         [5,6]]\n",
    "    transpose =[[0,0,0], [0,0,0]] \n",
    "    for i in range (len(x)):\n",
    "        for j in range(len(x[0])):\n",
    "            transpose [j][i] = x[i][j]\n",
    "    for result in transpose:\n",
    "        print(result)\n",
    "\n",
    "transpose_matrix()"
   ]
  },
  {
   "cell_type": "markdown",
   "id": "733eac11",
   "metadata": {},
   "source": [
    "### Q4. Write a Python Program to Sort Words in Alphabetical order?"
   ]
  },
  {
   "cell_type": "code",
   "execution_count": 23,
   "id": "bc7bb38c",
   "metadata": {},
   "outputs": [
    {
     "name": "stdout",
     "output_type": "stream",
     "text": [
      "Enter a string : Hi, this is Ruluyi Swuro.\n",
      "Hi,\n",
      "Is\n",
      "Ruluyi\n",
      "Swuro.\n",
      "This\n"
     ]
    }
   ],
   "source": [
    "def sort_words():\n",
    "    my_words = input(\"Enter a string : \").title()\n",
    "    sorted_words = my_words.split()\n",
    "    sorted_words.sort()\n",
    "    for word in sorted_words:\n",
    "        print(word)\n",
    "sort_words()"
   ]
  },
  {
   "cell_type": "markdown",
   "id": "35f59dca",
   "metadata": {},
   "source": [
    "### Q5. Write a Python Program to Remove Punctuation from a string?"
   ]
  },
  {
   "cell_type": "code",
   "execution_count": 27,
   "id": "b37326d6",
   "metadata": {},
   "outputs": [
    {
     "name": "stdout",
     "output_type": "stream",
     "text": [
      "Enter a string : Ineuron!: \"Full Stack, Data Science!\"\n",
      "Ineuron Full Stack Data Science\n"
     ]
    }
   ],
   "source": [
    "import string\n",
    "def remove_punctuations():\n",
    "    my_string = input(\"Enter a string : \")\n",
    "    my_string = my_string.translate(str.maketrans('','', string.punctuation))\n",
    "    print(my_string)\n",
    "    \n",
    "remove_punctuations()"
   ]
  }
 ],
 "metadata": {
  "kernelspec": {
   "display_name": "Python 3 (ipykernel)",
   "language": "python",
   "name": "python3"
  },
  "language_info": {
   "codemirror_mode": {
    "name": "ipython",
    "version": 3
   },
   "file_extension": ".py",
   "mimetype": "text/x-python",
   "name": "python",
   "nbconvert_exporter": "python",
   "pygments_lexer": "ipython3",
   "version": "3.9.12"
  }
 },
 "nbformat": 4,
 "nbformat_minor": 5
}
