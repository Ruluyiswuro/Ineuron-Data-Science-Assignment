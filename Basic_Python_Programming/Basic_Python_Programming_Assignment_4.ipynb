{
 "cells": [
  {
   "cell_type": "markdown",
   "id": "2ee21d01",
   "metadata": {},
   "source": [
    "# Basic Python Programming Assignment 4"
   ]
  },
  {
   "cell_type": "markdown",
   "id": "53572ce1",
   "metadata": {},
   "source": [
    "#### Q1. Write a Python Program to find the factorial of a Number?"
   ]
  },
  {
   "cell_type": "code",
   "execution_count": 1,
   "id": "02a1f671",
   "metadata": {},
   "outputs": [
    {
     "name": "stdout",
     "output_type": "stream",
     "text": [
      "Enter the number : 6\n",
      "The factorial of 6 is 720\n"
     ]
    }
   ],
   "source": [
    "number = int(input(\"Enter the number : \"))\n",
    "def factorial(number):\n",
    "    if number<=1 :\n",
    "        return 1\n",
    "    else :\n",
    "        return number*factorial(number - 1)\n",
    "value = factorial(number)\n",
    "print(f'The factorial of {number} is {value}')"
   ]
  },
  {
   "cell_type": "markdown",
   "id": "fadf5556",
   "metadata": {},
   "source": [
    "#### Q2. Write a Python Program to Display the multiplication Table?"
   ]
  },
  {
   "cell_type": "code",
   "execution_count": 8,
   "id": "353ba8b8",
   "metadata": {},
   "outputs": [
    {
     "name": "stdout",
     "output_type": "stream",
     "text": [
      "Display the multiplication table of : 5\n",
      "5 X 1 = 5\n",
      "5 X 2 = 10\n",
      "5 X 3 = 15\n",
      "5 X 4 = 20\n",
      "5 X 5 = 25\n",
      "5 X 6 = 30\n",
      "5 X 7 = 35\n",
      "5 X 8 = 40\n",
      "5 X 9 = 45\n",
      "5 X 10 = 50\n"
     ]
    }
   ],
   "source": [
    "num = int(input(\"Display the multiplication table of : \"))\n",
    "for i in range (1, 10+1):\n",
    "    print(num, 'X', i, '=', num*i)"
   ]
  },
  {
   "cell_type": "markdown",
   "id": "c25cb15a",
   "metadata": {},
   "source": [
    "#### Q3. Write a Python Program to Print the Fibonacci sequence?"
   ]
  },
  {
   "cell_type": "code",
   "execution_count": 6,
   "id": "8ae1a189",
   "metadata": {},
   "outputs": [
    {
     "name": "stdout",
     "output_type": "stream",
     "text": [
      "Enter the range to display the Fibonacci sequence : 20\n",
      "The Fibonacci sequence of 20 is : \n",
      "0\n",
      "1\n",
      "1\n",
      "2\n",
      "3\n",
      "5\n",
      "8\n",
      "13\n",
      "21\n",
      "34\n",
      "55\n",
      "89\n",
      "144\n",
      "233\n",
      "377\n",
      "610\n",
      "987\n",
      "1597\n",
      "2584\n",
      "4181\n"
     ]
    }
   ],
   "source": [
    "num1 = int(input(\"Enter the range to display the Fibonacci sequence : \"))\n",
    "\n",
    "def fibonacci_sequence(n):\n",
    "    n1, n2 = 0,1\n",
    "    count = 0\n",
    "   \n",
    "    if n<=0:\n",
    "        print(\"Please enter a positive integer.\")\n",
    "    \n",
    "    elif n==1:\n",
    "        print(\"The Fibonacci Sequence till\", n, \":\", n1)\n",
    "    else :\n",
    "        print(f\"The Fibonacci sequence of {num1} is : \")\n",
    "        while count< n :\n",
    "            print(n1)\n",
    "            nth = n1 + n2\n",
    "            n1 = n2\n",
    "            n2 = nth\n",
    "            count +=1\n",
    "    \n",
    "fibonacci_sequence(num)"
   ]
  },
  {
   "cell_type": "markdown",
   "id": "560be37b",
   "metadata": {},
   "source": [
    "#### Q4. Write a Python Program to Check Armstrong Number?"
   ]
  },
  {
   "cell_type": "code",
   "execution_count": 16,
   "id": "0b920ed0",
   "metadata": {},
   "outputs": [
    {
     "name": "stdout",
     "output_type": "stream",
     "text": [
      "Enter the number to check Armstrong Number : 153\n",
      "153 is an Armstrong Number.\n"
     ]
    }
   ],
   "source": [
    "def check_Armstrong():\n",
    "    num2 = int(input(\"Enter the number to check Armstrong Number : \"))\n",
    "    order = len(str(num2))\n",
    "    sum = 0\n",
    "    temp = num2\n",
    "    while temp>0:\n",
    "        digit = temp % 10\n",
    "        sum += digit **order\n",
    "        temp //= 10\n",
    "    if num2 == sum:\n",
    "        print(num2, \"is an Armstrong Number.\")\n",
    "\n",
    "    else :\n",
    "        print(num2, \"is not an Armstrong Number.\")\n",
    "\n",
    "check_Armstrong()"
   ]
  },
  {
   "cell_type": "markdown",
   "id": "dd8e4c93",
   "metadata": {},
   "source": [
    "#### Q5. Write a Python Program to Find Armstrong Number in an Interval?"
   ]
  },
  {
   "cell_type": "code",
   "execution_count": 33,
   "id": "f3ba018f",
   "metadata": {},
   "outputs": [
    {
     "name": "stdout",
     "output_type": "stream",
     "text": [
      "Enter the lower Interval: 100\n",
      "Enter the upper Interval: 500\n",
      "The Armstrong numbers between 100 and 500 are : [153, 370, 371, 407]\n"
     ]
    }
   ],
   "source": [
    "def checkArmstrongNumber(a, b):\n",
    "    sum = 0\n",
    "    for num3 in range(len(a)):\n",
    "        sum = sum + pow(int(a[num3]),3)\n",
    "    if sum == int(a):\n",
    "        b.append(int(a))\n",
    "\n",
    "lower_interval = int(input('Enter the lower Interval: '))\n",
    "upper_interval = int(input('Enter the upper Interval: '))\n",
    "list_of_armstrong = []\n",
    "\n",
    "if lower_interval > upper_interval:\n",
    "    print(\"Lower Interval Cannot be Greater than Upper Interval\")\n",
    "else:\n",
    "    for number in range(lower_interval,upper_interval+1):\n",
    "        checkArmstrongNumber(str(number),list_of_armstrong)\n",
    "    print(f'The Armstrong numbers between {lower_interval} and {upper_interval} are : {list_of_armstrong}')"
   ]
  },
  {
   "cell_type": "markdown",
   "id": "d7c15fb1",
   "metadata": {},
   "source": [
    "#### Q6. Write a Python Program to Find the Sum of Natural Numbers?"
   ]
  },
  {
   "cell_type": "code",
   "execution_count": 35,
   "id": "031f2c90",
   "metadata": {},
   "outputs": [
    {
     "name": "stdout",
     "output_type": "stream",
     "text": [
      "Enter a number : 10\n",
      "Sum of 10 natural numbers is 55.0\n"
     ]
    }
   ],
   "source": [
    "num4 = int(input(\"Enter a number : \"))\n",
    "def sum_natural_numbers(num4):\n",
    "    sum = num4*((num4+1)/2)\n",
    "    print(f'Sum of {num4} natural numbers is {sum}')\n",
    "    \n",
    "sum_natural_numbers(num4)"
   ]
  }
 ],
 "metadata": {
  "kernelspec": {
   "display_name": "Python 3 (ipykernel)",
   "language": "python",
   "name": "python3"
  },
  "language_info": {
   "codemirror_mode": {
    "name": "ipython",
    "version": 3
   },
   "file_extension": ".py",
   "mimetype": "text/x-python",
   "name": "python",
   "nbconvert_exporter": "python",
   "pygments_lexer": "ipython3",
   "version": "3.9.12"
  }
 },
 "nbformat": 4,
 "nbformat_minor": 5
}
