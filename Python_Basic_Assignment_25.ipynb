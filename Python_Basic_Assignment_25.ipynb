{
 "cells": [
  {
   "cell_type": "markdown",
   "id": "c0584497-fb93-44d9-8304-6d1d05be0f65",
   "metadata": {},
   "source": [
    "# Python Basic Assignment 25"
   ]
  },
  {
   "cell_type": "markdown",
   "id": "7f284712-05c0-4ab7-a059-6c0abc080ff5",
   "metadata": {
    "tags": []
   },
   "source": [
    "### Q1 . What is the difference between enclosing a list comprehension in square brackets and parentheses?"
   ]
  },
  {
   "cell_type": "markdown",
   "id": "d15084bf-b2a7-492d-83c3-be182a584bd9",
   "metadata": {},
   "source": [
    "### Ans :\n",
    "Enclosing a list comprehension in square brackets returns a list but enclosing a list comprehension in parentheses returns a generator object. Example is mentioned below:"
   ]
  },
  {
   "cell_type": "code",
   "execution_count": 3,
   "id": "085b9f5a-797d-422c-a857-710cf6c41b94",
   "metadata": {},
   "outputs": [
    {
     "name": "stdout",
     "output_type": "stream",
     "text": [
      "[1, 4, 9, 16, 25]\n",
      "<generator object <genexpr> at 0x7f32a9a40190>\n",
      "[1, 4, 9, 16, 25]\n"
     ]
    }
   ],
   "source": [
    "#Square brackets\n",
    "numbers = [1, 2, 3, 4, 5]\n",
    "squared_numbers = [x ** 2 for x in numbers]\n",
    "print(squared_numbers)\n",
    "#parentheses\n",
    "numbers = [1, 2, 3, 4, 5]\n",
    "squared_numbers = (x ** 2 for x in numbers)\n",
    "print(squared_numbers)\n",
    "print(list(squared_numbers))"
   ]
  },
  {
   "cell_type": "markdown",
   "id": "4687e3fe-72d3-4fbb-9e94-218088115f49",
   "metadata": {},
   "source": [
    "### Q2. What is the difference between generators and iterators?"
   ]
  },
  {
   "cell_type": "markdown",
   "id": "3a0360c6-c727-45cc-8e68-62a5d50ad978",
   "metadata": {},
   "source": [
    "### Ans :\n",
    "An iterator is an object that represents a stream of data. It provides a way to access elements sequentially, one at a time, without the need to store the entire sequence in memory. Iterators are implemented using the iterator protocol, which requires the presence of two methods: __iter__() and __next__().\n",
    "\n",
    "The __iter__() method returns the iterator object itself, and the __next__() method returns the next element from the sequence. When there are no more elements to return, the __next__() method raises the StopIteration exception.\n",
    "\n",
    "Generators are a convenient way to create iterators. They are defined using a special kind of function called a generator function or using generator expressions. Generators are implemented using a function. Just as iterators, generators also follow lazy evaluation. Here, the yield function returns the data without affecting or exiting the function. It will return a sequence of data in an iterable format where we need to iterate over the sequence to use the data as they won’t store the entire sequence in the memory."
   ]
  },
  {
   "cell_type": "code",
   "execution_count": 6,
   "id": "a63e1ff2-7fc5-4fd6-9b6d-99f256bb0507",
   "metadata": {},
   "outputs": [
    {
     "name": "stdout",
     "output_type": "stream",
     "text": [
      "<class 'list_iterator'>\n",
      "iNeuron\n",
      "Full\n",
      "Stack\n",
      "Data Science\n",
      "<list_iterator object at 0x7f32a99ea7a0>\n",
      "0\n",
      "1\n",
      "8\n",
      "27\n"
     ]
    }
   ],
   "source": [
    "# Example of iterator\n",
    "iter_str = iter(['iNeuron','Full','Stack','Data Science'])\n",
    "print(type(iter_str))\n",
    "print(next(iter_str))\n",
    "print(next(iter_str))\n",
    "print(next(iter_str))\n",
    "print(next(iter_str))\n",
    "print(iter_str)\n",
    "\n",
    "# Example of Generator\n",
    "def cube_numbers(in_num):\n",
    "    for ele in range(in_num+1):\n",
    "        yield ele**3\n",
    "\n",
    "out_num = cube_numbers(4)\n",
    "print(next(out_num))\n",
    "print(next(out_num))\n",
    "print(next(out_num))\n",
    "print(next(out_num))"
   ]
  },
  {
   "cell_type": "markdown",
   "id": "a65112bd-5cfb-4e6d-8928-bdf3dab477fc",
   "metadata": {},
   "source": [
    "### Q. What are the signs that a function is a generator function?"
   ]
  },
  {
   "cell_type": "markdown",
   "id": "a8ec1b06-5ca4-4065-9e27-57b98e84a8de",
   "metadata": {},
   "source": [
    "### Ans :\n",
    "A function is recognized as a generator function if it contains the yield keyword at least once. The presence of the yield keyword is the primary indicator that a function is intended to be a generator."
   ]
  },
  {
   "cell_type": "markdown",
   "id": "9626795b-4e78-4aba-ba3f-9ccc27af90b7",
   "metadata": {},
   "source": [
    "### Q4. What is the purpose of a yield statement?"
   ]
  },
  {
   "cell_type": "markdown",
   "id": "6a81a136-ddb5-405e-9df9-2443853e9f85",
   "metadata": {},
   "source": [
    "### Ans :\n",
    "The yield statemen is used in the context of generator functions to define a point at which the function should pause its execution and yield a value to the caller. It allows the generator function to produce a series of values on-the-fly, one at a time, without executing the entire function in one go."
   ]
  },
  {
   "cell_type": "markdown",
   "id": "132d07af-002b-4cca-9f66-eda9ed707807",
   "metadata": {},
   "source": [
    "### Q5.What is the relationship between map calls and list comprehensions? Make a comparison and contrast between the two."
   ]
  },
  {
   "cell_type": "markdown",
   "id": "634f9006-07bc-47a2-b6c5-98908f3ad816",
   "metadata": {},
   "source": [
    "### Ans :\n",
    "The main differences between map calls and list comprehensiosn are:\n",
    "\n",
    "1. List comprehension is more concise and easier to read as compared to map.\n",
    "2. List comprehension allows filtering. In map, we have no such facility. For example, to print all odd numbers in range of 50, we can write [n for n in range(50) if n%2 != 0]. There is no alternate for it in map\n",
    "3. List comprehension are used when a list of results is required as final output.but map only returns a map object. it needs to be explicitly coverted to desired datatype.\n",
    "4. List comprehension is faster than map when we need to evaluate expressions that are too long or complicated to express\n",
    "5. Map is faster in case of calling an already defined function on a set of values."
   ]
  }
 ],
 "metadata": {
  "kernelspec": {
   "display_name": "Python 3 (ipykernel)",
   "language": "python",
   "name": "python3"
  },
  "language_info": {
   "codemirror_mode": {
    "name": "ipython",
    "version": 3
   },
   "file_extension": ".py",
   "mimetype": "text/x-python",
   "name": "python",
   "nbconvert_exporter": "python",
   "pygments_lexer": "ipython3",
   "version": "3.10.6"
  }
 },
 "nbformat": 4,
 "nbformat_minor": 5
}
