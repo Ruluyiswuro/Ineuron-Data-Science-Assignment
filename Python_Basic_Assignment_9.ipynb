{
 "cells": [
  {
   "cell_type": "markdown",
   "id": "f8ad7818",
   "metadata": {},
   "source": [
    "### Python Basic Assignment 9"
   ]
  },
  {
   "cell_type": "markdown",
   "id": "7df851e9",
   "metadata": {},
   "source": [
    "### Q1. To what does a relative path refer?"
   ]
  },
  {
   "cell_type": "markdown",
   "id": "65ae74bd",
   "metadata": {},
   "source": [
    "### Ans :\n",
    "The relative path refers the path to some file with respect to your current working directory(pwd)."
   ]
  },
  {
   "cell_type": "markdown",
   "id": "01115811",
   "metadata": {},
   "source": [
    "### Q2. What does an absolute path start with your operating system?"
   ]
  },
  {
   "cell_type": "markdown",
   "id": "7c9c9e6f",
   "metadata": {},
   "source": [
    "### Ans :\n",
    "The absolute path starts with C: in windows operating system and / in Linux based operating system."
   ]
  },
  {
   "cell_type": "markdown",
   "id": "d07baa5f",
   "metadata": {},
   "source": [
    "### Q3. What do the functions os.getcwd() and os.chdir() do?"
   ]
  },
  {
   "cell_type": "markdown",
   "id": "c6ee136c",
   "metadata": {},
   "source": [
    "### Ans :\n",
    "The function os.getcwd() tells us the location of current working directory (CWD) whereas, the function os.chdir() is ussed to change the current working directory to specified path."
   ]
  },
  {
   "cell_type": "code",
   "execution_count": null,
   "id": "bccef33b",
   "metadata": {},
   "outputs": [],
   "source": [
    "#example\n",
    "import os\n",
    "print(os.getcwd()) #to get present working directory\n",
    "path = r'C:\\Users\\Atsuy'\n",
    "os.chdir(path) #to change the directory to the given path\n",
    "print(os.getcwd)"
   ]
  },
  {
   "cell_type": "markdown",
   "id": "9e815a4e",
   "metadata": {},
   "source": [
    "### Q4. What are the . and .. folders?"
   ]
  },
  {
   "cell_type": "markdown",
   "id": "80dea11a",
   "metadata": {},
   "source": [
    "### Ans :\n",
    "The . represents the current directory whereas, .. represents the parent directory of the current directory."
   ]
  },
  {
   "cell_type": "markdown",
   "id": "12ac6c79",
   "metadata": {},
   "source": [
    "### Q5. In C:\\bacon\\eggs\\spam.txt, which part is the dir name and which path is the base name?"
   ]
  },
  {
   "cell_type": "markdown",
   "id": "51699276",
   "metadata": {},
   "source": [
    "### Ans :\n",
    "In C:\\bacon\\eggs\\spam.txt,\n",
    "the dir is C:\\bacon\\eggs and spam.txt is the base name"
   ]
  },
  {
   "cell_type": "code",
   "execution_count": 2,
   "id": "7bfdd9ed",
   "metadata": {},
   "outputs": [
    {
     "name": "stdout",
     "output_type": "stream",
     "text": [
      "C:\\bacon\\eggs\n",
      "spam.txt\n"
     ]
    }
   ],
   "source": [
    "#example\n",
    "import os\n",
    "path = r'C:\\bacon\\eggs\\spam.txt'\n",
    "print(os.path.dirname(path))\n",
    "print(os.path.basename(path))"
   ]
  },
  {
   "cell_type": "markdown",
   "id": "d7981ea5",
   "metadata": {},
   "source": [
    "### Q6. What are the three \"mode\" arguments that can be passed to the open() function?"
   ]
  },
  {
   "cell_type": "markdown",
   "id": "49be97fa",
   "metadata": {},
   "source": [
    "### Ans : \n",
    "The open() function in Python is used to open a file. Open function takes two arguments to open a file, filename and mode of operation. So, the syntax is open(filename, mode).\n",
    "\n",
    "'r' - This string is used to open a read a file and is a default mode for opening a file. Using 'r+' with do both read and write.\n",
    "\n",
    "'w' - This string is used for writing on/over an existing file. If the file with the supplied name doesn't exist, it creates a new one for you.\n",
    "\n",
    "'a' - This string is used to append content to an existing file, if the file doesn't exist it creates one for you.\n",
    "\n",
    "'x' - This string is used to create a specific file."
   ]
  },
  {
   "cell_type": "markdown",
   "id": "07645e0b",
   "metadata": {},
   "source": [
    "### Q7. What happens if an existing file is opened in write mode?"
   ]
  },
  {
   "cell_type": "markdown",
   "id": "5c00f701",
   "metadata": {},
   "source": [
    "### Ans : \n",
    "If an existing file is opened in wrrite mode, we can overwrite the existing content of the file. If the given file does not exist, it creates a new one for you."
   ]
  },
  {
   "cell_type": "markdown",
   "id": "9a0417a1",
   "metadata": {},
   "source": [
    "### Q8. How do you tell the difference between read() and readlines()?"
   ]
  },
  {
   "cell_type": "markdown",
   "id": "37e0e4b8",
   "metadata": {},
   "source": [
    "### Ans :\n",
    "The main difference between read() and readlines() is that the read() function will read the whole file at ones and then prints out the first characters that takes up as many bytes as we specify in the parameters. Whereas, the readlines() function will read and print out only the first characters that takes up as many byte as we specify in the parenthesis.\n",
    "\n",
    "The read() would treat each character in file separately, meaning the iteration would happen for every character. Wheres, readline() function only reads a single line of the file."
   ]
  },
  {
   "cell_type": "markdown",
   "id": "d3bc9ecd",
   "metadata": {},
   "source": [
    "### Q9. What data structure does a shelf value resemble?\n"
   ]
  },
  {
   "cell_type": "markdown",
   "id": "129daed9",
   "metadata": {},
   "source": [
    "### Ans :\n",
    "The shelf value resembles a dictionary type object as it contains keys and values. The shelve module is a very popular module in Python which works like an effective tool for persistent data storage inside files using Python program.Using shelve, we can easily interpret that it will work as a shelf object to keep all our data inside a file and save all the necessary information."
   ]
  },
  {
   "cell_type": "code",
   "execution_count": null,
   "id": "99b5264f",
   "metadata": {},
   "outputs": [],
   "source": []
  }
 ],
 "metadata": {
  "kernelspec": {
   "display_name": "Python 3 (ipykernel)",
   "language": "python",
   "name": "python3"
  },
  "language_info": {
   "codemirror_mode": {
    "name": "ipython",
    "version": 3
   },
   "file_extension": ".py",
   "mimetype": "text/x-python",
   "name": "python",
   "nbconvert_exporter": "python",
   "pygments_lexer": "ipython3",
   "version": "3.9.12"
  }
 },
 "nbformat": 4,
 "nbformat_minor": 5
}
