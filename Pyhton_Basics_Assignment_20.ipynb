{
 "cells": [
  {
   "cell_type": "markdown",
   "id": "e638c764-55c4-4398-ba3c-1e8e6a801ded",
   "metadata": {},
   "source": [
    "# Python Basic Assignment 20"
   ]
  },
  {
   "cell_type": "markdown",
   "id": "ced7b5b0-119a-4411-9c02-261d07c9c68d",
   "metadata": {},
   "source": [
    "### Q1. Set the variable test1 to the string &#39;This is a test of the emergency text system,&#39; and save test1 to a file named test.txt."
   ]
  },
  {
   "cell_type": "code",
   "execution_count": 1,
   "id": "fc5cfac2-1486-4b2a-841f-643474f0bfe8",
   "metadata": {},
   "outputs": [
    {
     "name": "stdout",
     "output_type": "stream",
     "text": [
      "This is a test of emergency text system\n"
     ]
    }
   ],
   "source": [
    "test1 = 'This is a test of emergency text system'\n",
    "print (test1)\n",
    "with open('test.txt', 'w') as file:\n",
    "    file.write(test1)\n",
    "    file.close()"
   ]
  },
  {
   "cell_type": "markdown",
   "id": "89b1b899-7f25-460d-aaad-17d881f91b10",
   "metadata": {},
   "source": [
    "### Q2. Read the contents of the file test.txt into variable test2. Is there a differencxe between test 1 and test 2?"
   ]
  },
  {
   "cell_type": "code",
   "execution_count": 2,
   "id": "b7e9bd25-c838-4a87-b3f2-1d0e5dc2b231",
   "metadata": {},
   "outputs": [
    {
     "name": "stdout",
     "output_type": "stream",
     "text": [
      "This is a test of emergency text system\n",
      "True\n"
     ]
    }
   ],
   "source": [
    "with open('test.txt', 'r') as file:\n",
    "    test2 = file.read()\n",
    "\n",
    "print(test2)\n",
    "print(test1 == test2)"
   ]
  },
  {
   "cell_type": "markdown",
   "id": "e0859066-144e-478a-a409-bce02ce69392",
   "metadata": {},
   "source": [
    "### Q3. Create a CSV file called books.csv by sing these lines:\n",
    "### title, author, year \n",
    "### The Weirddtone of Brisingamen, Alan Garner, 1960\n",
    "### Perdido Street Station, China Miéville,2000\n",
    "### Thud!, Terry Pratchett, 2005\n",
    "### The Spellman Files, Lisa Lutz, 2007\n",
    "### Small Gods, Terry Parctchett, 1992"
   ]
  },
  {
   "cell_type": "code",
   "execution_count": 3,
   "id": "1ec62fa3-0274-4d47-8b78-ca807c71093f",
   "metadata": {},
   "outputs": [],
   "source": [
    "import csv\n",
    "\n",
    "data = [\n",
    "    ['title', 'author', 'year'],\n",
    "    ['The Weirdstone of Brisingamen', 'Alan Garner', '1960'],\n",
    "    ['Perdido Street Station', 'China Miéville', '2000'],\n",
    "    ['Thud!', 'Terry Pratchett', '2005'],\n",
    "    ['The Spellman Files', 'Lisa Lutz', '2007'],\n",
    "    ['Small Gods', 'Terry Pratchett', '1992']\n",
    "]\n",
    "\n",
    "with open('books.csv', 'w', newline='') as file:\n",
    "    writer = csv.writer(file)\n",
    "    writer.writerows(data)\n"
   ]
  },
  {
   "cell_type": "markdown",
   "id": "1afe61e5-2cdd-4657-a7ad-174edf7150a6",
   "metadata": {},
   "source": [
    "### Q4. Use the sqlite3 module to create a SQLite database called books.db, and a table called books with these fields: title (text), author (text), and year (integer)."
   ]
  },
  {
   "cell_type": "code",
   "execution_count": 5,
   "id": "b4dc64d0-6105-45d4-bc54-5b4565676d94",
   "metadata": {},
   "outputs": [],
   "source": [
    "import sqlite3\n",
    "db = sqlite3.connect('books.db')\n",
    "cursor = db.cursor()\n",
    "cursor.execute(\"CREATE TABLE books1 (title text, author text, year int)\")\n",
    "db.commit()\n",
    "db.close()"
   ]
  },
  {
   "cell_type": "markdown",
   "id": "05f8ea1c-ae31-48a8-a488-30cee96adfef",
   "metadata": {},
   "source": [
    "### Q5. Read books.csv and insert its data into the books table."
   ]
  },
  {
   "cell_type": "code",
   "execution_count": 6,
   "id": "243abab1-bae8-4bef-adf2-a8ea07aaed07",
   "metadata": {},
   "outputs": [],
   "source": [
    "import sqlite3\n",
    "import csv\n",
    "conn = sqlite3.connect(\"books.db\")\n",
    "cursor = conn.cursor()\n",
    "with open (\"books.csv\", \"r\") as file:\n",
    "    books = csv.DictReader(file)\n",
    "    for book in books:\n",
    "        cursor.execute(\"INSERT INTO books1 VALUES (?,?,?)\", (book['title'], book['author'], book['year']))\n",
    "conn.commit()\n",
    "conn.close()"
   ]
  },
  {
   "cell_type": "markdown",
   "id": "c0ad51dd-9a4c-4af6-a2cb-a4335d649cec",
   "metadata": {},
   "source": [
    "### 6. Select and print the title column from the books table in alphabetical order."
   ]
  },
  {
   "cell_type": "code",
   "execution_count": 7,
   "id": "10460022-6542-4ebb-bc53-5d7e3ef613ed",
   "metadata": {},
   "outputs": [
    {
     "name": "stdout",
     "output_type": "stream",
     "text": [
      "Perdido Street Station\n",
      "Small Gods\n",
      "The Spellman Files\n",
      "The Weirdstone of Brisingamen\n",
      "Thud!\n"
     ]
    }
   ],
   "source": [
    "import sqlite3\n",
    "conn = sqlite3.connect('books.db')\n",
    "cursor = conn.cursor()\n",
    "output = cursor.execute(\"SELECT title FROM books1 ORDER BY title ASC\")\n",
    "for ele in output:\n",
    "    print(ele[0])\n",
    "conn.commit()\n",
    "conn.close()"
   ]
  },
  {
   "cell_type": "markdown",
   "id": "b0339013-fe84-44c1-83e1-cc63c47427eb",
   "metadata": {},
   "source": [
    "### Q7. From the books table, select and print all columns in the order of publication."
   ]
  },
  {
   "cell_type": "code",
   "execution_count": null,
   "id": "a8a231b7-b217-423e-948a-496a345032db",
   "metadata": {},
   "outputs": [
    {
     "name": "stdout",
     "output_type": "stream",
     "text": [
      "('The Weirdstone of Brisingamen', 'Alan Garner', 1960)\n",
      "('Small Gods', 'Terry Pratchett', 1992)\n",
      "('Perdido Street Station', 'China Miéville', 2000)\n",
      "('Thud!', 'Terry Pratchett', 2005)\n",
      "('The Spellman Files', 'Lisa Lutz', 2007)\n"
     ]
    }
   ],
   "source": [
    "import sqlite3\n",
    "conn = sqlite3.connect('books.db')\n",
    "cursor = conn.cursor()\n",
    "ouput = cursor.execute(\"SELECT * FROM books1 ORDER BY year\")\n",
    "for record in ouput:\n",
    "    print(record)"
   ]
  },
  {
   "cell_type": "markdown",
   "id": "c9864b22-0a6e-437a-a4ad-4f11d10ad425",
   "metadata": {},
   "source": [
    "### Q8. Use the sqlalchemy module to connect to the sqlite3 database books.db that you just made in exercise 6."
   ]
  },
  {
   "cell_type": "code",
   "execution_count": 9,
   "id": "68456573-3dce-4fe2-a474-391ccfa6e29c",
   "metadata": {},
   "outputs": [
    {
     "data": {
      "text/plain": [
       "Engine(sqlite:///books.db)"
      ]
     },
     "execution_count": 9,
     "metadata": {},
     "output_type": "execute_result"
    }
   ],
   "source": [
    "import sqlalchemy\n",
    "conn = sqlalchemy.create_engine('sqlite:///books.db')\n",
    "conn"
   ]
  },
  {
   "cell_type": "markdown",
   "id": "3a894a7f-9640-44e8-bd25-515302698749",
   "metadata": {},
   "source": [
    "### Q9. Install the Redis server and the Python redis library (pip install redis) on your computer. Create a Redis hash called test with the fields count (1) and name ('Fester Bestertester'). Print all the fields for test."
   ]
  },
  {
   "cell_type": "code",
   "execution_count": 10,
   "id": "29b91345-9e1a-450e-805c-d869b60e1eaf",
   "metadata": {},
   "outputs": [
    {
     "name": "stdout",
     "output_type": "stream",
     "text": [
      "Collecting redis\n",
      "  Downloading redis-4.5.5-py3-none-any.whl (240 kB)\n",
      "\u001b[2K     \u001b[90m━━━━━━━━━━━━━━━━━━━━━━━━━━━━━━━━━━━━━━\u001b[0m \u001b[32m240.3/240.3 kB\u001b[0m \u001b[31m23.1 MB/s\u001b[0m eta \u001b[36m0:00:00\u001b[0m\n",
      "\u001b[?25hCollecting async-timeout>=4.0.2\n",
      "  Downloading async_timeout-4.0.2-py3-none-any.whl (5.8 kB)\n",
      "Installing collected packages: async-timeout, redis\n",
      "Successfully installed async-timeout-4.0.2 redis-4.5.5\n",
      "Note: you may need to restart the kernel to use updated packages.\n"
     ]
    }
   ],
   "source": [
    "pip install redis"
   ]
  },
  {
   "cell_type": "code",
   "execution_count": null,
   "id": "470ab1cf-63de-483a-913c-637567f0dc0d",
   "metadata": {},
   "outputs": [],
   "source": [
    "import redis\n",
    "conn = redis.Redis()\n",
    "conn.hset('test', {\n",
    "    'count' : 1,\n",
    "    'name' : 'Fester Bestertester'\n",
    "})\n",
    "conn.hgetall('test')"
   ]
  },
  {
   "cell_type": "markdown",
   "id": "accc3bdc-5ee0-414a-a3ca-c7bb2aac696a",
   "metadata": {},
   "source": [
    "### Q10. Increment the count field of test and print it."
   ]
  },
  {
   "cell_type": "code",
   "execution_count": null,
   "id": "d8b50a7e-b377-468f-856e-329edb0c8fb0",
   "metadata": {},
   "outputs": [],
   "source": [
    "conn.hincrby('test', 'count', 1)\n",
    "conn.hget('test', 'count')"
   ]
  }
 ],
 "metadata": {
  "kernelspec": {
   "display_name": "Python 3 (ipykernel)",
   "language": "python",
   "name": "python3"
  },
  "language_info": {
   "codemirror_mode": {
    "name": "ipython",
    "version": 3
   },
   "file_extension": ".py",
   "mimetype": "text/x-python",
   "name": "python",
   "nbconvert_exporter": "python",
   "pygments_lexer": "ipython3",
   "version": "3.10.6"
  }
 },
 "nbformat": 4,
 "nbformat_minor": 5
}
