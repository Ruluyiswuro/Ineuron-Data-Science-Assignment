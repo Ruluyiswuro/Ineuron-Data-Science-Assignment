{
 "cells": [
  {
   "cell_type": "markdown",
   "id": "2a1fc129",
   "metadata": {},
   "source": [
    "# Python Basic Assignment 16"
   ]
  },
  {
   "cell_type": "markdown",
   "id": "7fdccde7",
   "metadata": {},
   "source": [
    "### Q1.  Create a list called years_list, starting with the year of your birth, and each year thereafter until the year of your fifth birthday. For example, if you were born in 1980, the list would be years_list = [1980,1981,1982,1983,1984,1985].\n"
   ]
  },
  {
   "cell_type": "code",
   "execution_count": 55,
   "id": "6a1b09ee",
   "metadata": {},
   "outputs": [
    {
     "data": {
      "text/plain": [
       "[2000, 2001, 2002, 2003, 2004, 2005]"
      ]
     },
     "execution_count": 55,
     "metadata": {},
     "output_type": "execute_result"
    }
   ],
   "source": [
    "years_list = [i for i in range(2000, 2000+6)]\n",
    "years_list"
   ]
  },
  {
   "cell_type": "markdown",
   "id": "9007019a",
   "metadata": {},
   "source": [
    "### Q2. In which year in years_list was your third birthday? Remember, you were 0 years of age for your first year."
   ]
  },
  {
   "cell_type": "code",
   "execution_count": 56,
   "id": "ac9ce11e",
   "metadata": {},
   "outputs": [
    {
     "data": {
      "text/plain": [
       "2003"
      ]
     },
     "execution_count": 56,
     "metadata": {},
     "output_type": "execute_result"
    }
   ],
   "source": [
    "third_birthday = years_list[3]\n",
    "third_birthday"
   ]
  },
  {
   "cell_type": "markdown",
   "id": "83f71aab",
   "metadata": {},
   "source": [
    "### Q3. In the years list, which year were your the oldest?"
   ]
  },
  {
   "cell_type": "code",
   "execution_count": 57,
   "id": "b3510d11",
   "metadata": {},
   "outputs": [
    {
     "name": "stdout",
     "output_type": "stream",
     "text": [
      "2005\n"
     ]
    }
   ],
   "source": [
    "print(years_list[-1])"
   ]
  },
  {
   "cell_type": "markdown",
   "id": "c4a3e60c",
   "metadata": {},
   "source": [
    "### Q4. Make a list of called things with these three strings as elements : \"mozzarella\", \"cinderella\". \"salmonella\"."
   ]
  },
  {
   "cell_type": "code",
   "execution_count": 58,
   "id": "8e0e4088",
   "metadata": {},
   "outputs": [
    {
     "data": {
      "text/plain": [
       "['mozzarrella', 'cinderella', 'salmonella']"
      ]
     },
     "execution_count": 58,
     "metadata": {},
     "output_type": "execute_result"
    }
   ],
   "source": [
    "things = [\"mozzarrella\", \"cinderella\", \"salmonella\"]\n",
    "things"
   ]
  },
  {
   "cell_type": "markdown",
   "id": "7142f73e",
   "metadata": {},
   "source": [
    "### Q5. Capitalize the element in things that refers to a person and then print the list. Did it change the element in the list?"
   ]
  },
  {
   "cell_type": "code",
   "execution_count": 59,
   "id": "5ffb1332",
   "metadata": {},
   "outputs": [
    {
     "name": "stdout",
     "output_type": "stream",
     "text": [
      "['mozzarrella', 'Cinderella', 'salmonella']\n",
      "The elements in the list doesn't change except that the letter c was capitalize to uper case C\n"
     ]
    }
   ],
   "source": [
    "for word in range (len(things)):\n",
    "    if things[word] == \"cinderella\":\n",
    "        things[word] = things[word].capitalize()\n",
    "print(things)\n",
    "print(\"The elements in the list doesn't change except that the letter c was capitalize to uper case C\")"
   ]
  },
  {
   "cell_type": "markdown",
   "id": "f0c180b2",
   "metadata": {},
   "source": [
    "### Q6. Make a surprise list with the elements \"Groucho\", \"Chico\" and \"Harpo\"."
   ]
  },
  {
   "cell_type": "code",
   "execution_count": 60,
   "id": "3542d59e",
   "metadata": {},
   "outputs": [
    {
     "data": {
      "text/plain": [
       "['Groucho', 'Chico', 'Harpo']"
      ]
     },
     "execution_count": 60,
     "metadata": {},
     "output_type": "execute_result"
    }
   ],
   "source": [
    "surprise_list = [\"Groucho\", \"Chico\", \"Harpo\"]\n",
    "surprise_list"
   ]
  },
  {
   "cell_type": "markdown",
   "id": "a0405956",
   "metadata": {},
   "source": [
    "### Q7. Lowercase the last element of the surprise list, reverse it, and then capitalize it."
   ]
  },
  {
   "cell_type": "code",
   "execution_count": 61,
   "id": "e5ffd17d",
   "metadata": {},
   "outputs": [
    {
     "data": {
      "text/plain": [
       "'Oprah'"
      ]
     },
     "execution_count": 61,
     "metadata": {},
     "output_type": "execute_result"
    }
   ],
   "source": [
    "(surprise_list[-1]).lower()\n",
    "surprise_list[-1][::-1].capitalize()"
   ]
  },
  {
   "cell_type": "markdown",
   "id": "65140a36",
   "metadata": {},
   "source": [
    "### Q8. Make an English-to-French dictionary called e2f and print it. Here are your started words: dog is chien, cat is chat and walrus is morse."
   ]
  },
  {
   "cell_type": "code",
   "execution_count": 62,
   "id": "d165f81b",
   "metadata": {},
   "outputs": [
    {
     "name": "stdout",
     "output_type": "stream",
     "text": [
      "{'dog': 'chien', 'cat': 'chat', 'walrus': 'morse'}\n"
     ]
    }
   ],
   "source": [
    "e2f = {\n",
    "    'dog': 'chien',\n",
    "    'cat': 'chat',\n",
    "    'walrus': 'morse'\n",
    "}\n",
    "print(e2f)"
   ]
  },
  {
   "cell_type": "markdown",
   "id": "c913c588",
   "metadata": {},
   "source": [
    "### Q9. Write the French word for walrus is your three-word dictionary e2f."
   ]
  },
  {
   "cell_type": "code",
   "execution_count": 63,
   "id": "c193f630",
   "metadata": {},
   "outputs": [
    {
     "data": {
      "text/plain": [
       "'morse'"
      ]
     },
     "execution_count": 63,
     "metadata": {},
     "output_type": "execute_result"
    }
   ],
   "source": [
    "e2f.get('walrus')"
   ]
  },
  {
   "cell_type": "markdown",
   "id": "4eafc79e",
   "metadata": {},
   "source": [
    "### Q10. Make a French-to-English dictionary called f2e. Use the items method."
   ]
  },
  {
   "cell_type": "code",
   "execution_count": 64,
   "id": "3d0b9747",
   "metadata": {},
   "outputs": [
    {
     "data": {
      "text/plain": [
       "{'chien': 'dog', 'chat': 'cat', 'morse': 'walrus'}"
      ]
     },
     "execution_count": 64,
     "metadata": {},
     "output_type": "execute_result"
    }
   ],
   "source": [
    "f2e = dict([i[::-1] for i in e2f.items()])\n",
    "f2e"
   ]
  },
  {
   "cell_type": "markdown",
   "id": "2234d361",
   "metadata": {},
   "source": [
    "### Q11. Print the English version of the French word chien using f2e."
   ]
  },
  {
   "cell_type": "code",
   "execution_count": 65,
   "id": "f823313c",
   "metadata": {},
   "outputs": [
    {
     "data": {
      "text/plain": [
       "'dog'"
      ]
     },
     "execution_count": 65,
     "metadata": {},
     "output_type": "execute_result"
    }
   ],
   "source": [
    "f2e.get('chien')"
   ]
  },
  {
   "cell_type": "markdown",
   "id": "0385e4cd",
   "metadata": {},
   "source": [
    "### Q12. Make and print a set of English words from the keys in e2f."
   ]
  },
  {
   "cell_type": "code",
   "execution_count": 66,
   "id": "9639090a",
   "metadata": {},
   "outputs": [
    {
     "name": "stdout",
     "output_type": "stream",
     "text": [
      "['dog', 'cat', 'walrus']\n"
     ]
    }
   ],
   "source": [
    "print(list(e2f.keys()))"
   ]
  },
  {
   "cell_type": "markdown",
   "id": "fd9abf43",
   "metadata": {},
   "source": [
    "### Q13. Make a multilevel dictionary called life. Use these strings for the topmost keys: 'animals', 'plants' and 'other'. Make the 'animals' key refer to another dictionary with the keys 'cats', 'octopi' and 'emus'. Make the 'cats' key refer to a list of strings with the values 'Henri'. 'Grumpy' and 'Lucy'. Make all the other keys refer to empty dictionary."
   ]
  },
  {
   "cell_type": "code",
   "execution_count": 67,
   "id": "f97eeb15",
   "metadata": {},
   "outputs": [
    {
     "name": "stdout",
     "output_type": "stream",
     "text": [
      "{'animals': {'cats': ['Henri', 'Grumpy', 'Lucy'], 'octopi': {}, 'emus': {}}, 'plants': {}, 'others': {}}\n"
     ]
    }
   ],
   "source": [
    "life = {\n",
    "    'animals': {\n",
    "        'cats':['Henri', 'Grumpy', 'Lucy'],\n",
    "        'octopi': {},\n",
    "        'emus': {}\n",
    "    },\n",
    "    'plants': {},\n",
    "    'others' : {}\n",
    "}\n",
    "print(life)"
   ]
  },
  {
   "cell_type": "markdown",
   "id": "313f9911",
   "metadata": {},
   "source": [
    "### Q14. Print the top-level keys of life."
   ]
  },
  {
   "cell_type": "code",
   "execution_count": 68,
   "id": "a927a433",
   "metadata": {},
   "outputs": [
    {
     "name": "stdout",
     "output_type": "stream",
     "text": [
      "['animals', 'plants', 'others']\n"
     ]
    }
   ],
   "source": [
    "print(list(life.keys()))"
   ]
  },
  {
   "cell_type": "markdown",
   "id": "a3267503",
   "metadata": {},
   "source": [
    "### Q15. Print the keys for life ['animals']."
   ]
  },
  {
   "cell_type": "code",
   "execution_count": 69,
   "id": "2ad23ac5",
   "metadata": {},
   "outputs": [
    {
     "name": "stdout",
     "output_type": "stream",
     "text": [
      "['cats', 'octopi', 'emus']\n"
     ]
    }
   ],
   "source": [
    "print(list(life['animals'].keys()))"
   ]
  },
  {
   "cell_type": "markdown",
   "id": "d4b506bf",
   "metadata": {},
   "source": [
    "### Q16. Print the values for life['animals']['cats']."
   ]
  },
  {
   "cell_type": "code",
   "execution_count": 70,
   "id": "ef76e8c6",
   "metadata": {},
   "outputs": [
    {
     "name": "stdout",
     "output_type": "stream",
     "text": [
      "['Henri', 'Grumpy', 'Lucy']\n"
     ]
    }
   ],
   "source": [
    "print(list(life['animals']['cats']))"
   ]
  }
 ],
 "metadata": {
  "kernelspec": {
   "display_name": "Python 3 (ipykernel)",
   "language": "python",
   "name": "python3"
  },
  "language_info": {
   "codemirror_mode": {
    "name": "ipython",
    "version": 3
   },
   "file_extension": ".py",
   "mimetype": "text/x-python",
   "name": "python",
   "nbconvert_exporter": "python",
   "pygments_lexer": "ipython3",
   "version": "3.9.12"
  }
 },
 "nbformat": 4,
 "nbformat_minor": 5
}
