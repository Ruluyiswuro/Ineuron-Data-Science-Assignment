{
 "cells": [
  {
   "cell_type": "markdown",
   "id": "f515f5bf",
   "metadata": {},
   "source": [
    "# Assignment 6"
   ]
  },
  {
   "cell_type": "markdown",
   "id": "df5ea04e",
   "metadata": {},
   "source": [
    "Submited by Ruluyi"
   ]
  },
  {
   "cell_type": "markdown",
   "id": "f83b0cb3",
   "metadata": {},
   "source": [
    "# 1. What are escape characters, and how do you use them?\n",
    "Ans: Escape characters represent characters in string values that would otherwise be difficult or impossible to type into code. we can use the backslash character to escape a single character or symbol\n",
    "example: \\t, \\n"
   ]
  },
  {
   "cell_type": "code",
   "execution_count": 1,
   "id": "290b2eb3",
   "metadata": {},
   "outputs": [
    {
     "data": {
      "text/plain": [
       "'I am learning Data Science through \"Ineuron\".'"
      ]
     },
     "execution_count": 1,
     "metadata": {},
     "output_type": "execute_result"
    }
   ],
   "source": [
    "txt = \"I am learning Data Science through \\\"Ineuron\\\".\"\n",
    "txt"
   ]
  },
  {
   "cell_type": "markdown",
   "id": "62fe0796",
   "metadata": {},
   "source": [
    "# 2.What do the escape characters n and t stand for ?\n",
    "Ans: The escape characters \\n stands for newline, \\t is a tab"
   ]
  },
  {
   "cell_type": "code",
   "execution_count": 2,
   "id": "8bff47d6",
   "metadata": {},
   "outputs": [
    {
     "name": "stdout",
     "output_type": "stream",
     "text": [
      "Hello\n",
      "world!\n",
      "Hello\tworld!\n"
     ]
    }
   ],
   "source": [
    "print(\"Hello\\nworld!\")\n",
    "print(\"Hello\\tworld!\")"
   ]
  },
  {
   "cell_type": "markdown",
   "id": "572c4402",
   "metadata": {},
   "source": [
    "# 3. What is the way to include backslash characters in a string?\n",
    "Ans : An escape character \\ \\ will represent the backslash character which is used to insert illegal character to a string."
   ]
  },
  {
   "cell_type": "markdown",
   "id": "fcdf8e6d",
   "metadata": {},
   "source": [
    "# 4.The string \"Howl's Moving Castle\" is a correct value. Why isn't the single quote character in the word Howl's not escaped a problem ?\n",
    "Ans : The string \"Howl's Moving Castle\" escaped the problem because it is wrapped inside double quotes. If it is wrapped inside a single quote, then we'd have to use an escape character to the string."
   ]
  },
  {
   "cell_type": "markdown",
   "id": "c75aed79",
   "metadata": {},
   "source": [
    "# 5. How do you write a string of newlines if you don't want to use the n character?\n",
    "Ans : Multiline string allow you to use newlines in string without the \\n escape character."
   ]
  },
  {
   "cell_type": "code",
   "execution_count": 4,
   "id": "730692a6",
   "metadata": {},
   "outputs": [
    {
     "name": "stdout",
     "output_type": "stream",
     "text": [
      "I'm taking fullstack data science course\n",
      "through Ineuron\n"
     ]
    }
   ],
   "source": [
    "#Example \n",
    "a = \"\"\"I'm taking fullstack data science course\n",
    "through Ineuron\"\"\"\n",
    "print(a)"
   ]
  },
  {
   "cell_type": "markdown",
   "id": "6afdbefe",
   "metadata": {},
   "source": [
    "# 6. What are the values of the given expressions?\n",
    "'Hello, world!'[1]\n",
    "\n",
    "'Hello, world!'[0:5]\n",
    "\n",
    "'Hello, world!'[:5]\n",
    "\n",
    "'Hello, world!'[3:]\n",
    "\n",
    "Ans : The values for the given expressions are :\n",
    "\n",
    "'Hello, world!'[1] = 'e'\n",
    "\n",
    "'Hello, world!'[0:5] = 'Hello'\n",
    "\n",
    "'Hello, world!'[:5] = 'Hello'\n",
    "\n",
    "'Hello, world!'[3:] = 'lo, world!'"
   ]
  },
  {
   "cell_type": "markdown",
   "id": "9e02dcd2",
   "metadata": {},
   "source": [
    "# 7. What are the values of the following expressions?\n",
    "'Hello'.upper()\n",
    "\n",
    "'Hello'.upper().isupper()\n",
    "\n",
    "'Hello'.upper().lower()\n",
    "\n",
    "Ans : The values for the given expressions are :\n",
    "        \n",
    "'Hello'.upper() = 'HELLO'\n",
    "\n",
    "'Hello'.upper().isupper() = True\n",
    "\n",
    "'Hello'.upper().lower() ='hello'"
   ]
  },
  {
   "cell_type": "markdown",
   "id": "2643cc87",
   "metadata": {},
   "source": [
    "# 8.What are the values of the following expressions ?\n",
    "\n",
    "'Remember, remember, the fifith of July.'.split()\n",
    "\n",
    "-'.join('There can only one'.split())\n",
    "\n",
    "Ans : The values are : \n",
    "        \n",
    "        ['Remember,', 'remember,', 'the', 'fifith', 'of', 'July.']\n",
    "        \n",
    "        and \n",
    "        \n",
    "        'There-can-only-one'"
   ]
  },
  {
   "cell_type": "markdown",
   "id": "f5681006",
   "metadata": {},
   "source": [
    "# 9. What are the methods for right-justifying, left-justifying, and centering a string?\n",
    "\n",
    "Ans : The rjust(),ljust(),center() string methods, respectively\n",
    "\n",
    "str.ljust(s, width[, fillchar])\n",
    "\n",
    "str.rjust(s, width[, fillchar])\n",
    "\n",
    "str.center(s, width[, fillchar])"
   ]
  },
  {
   "cell_type": "markdown",
   "id": "cf2230cb",
   "metadata": {},
   "source": [
    "# 10.What is the best way to remove whitespace characters from the start or end ?\n",
    "\n",
    "Ans : The method to remove whitespace characters from start to end are str.strip(), str.lstrip() and str.rstrip().\n",
    "\n",
    "The str.strip() will remove all the white space from start to end, str.rstrip()will remove the white space from right and str.lstrip() will remove the white space from the left.\n"
   ]
  },
  {
   "cell_type": "code",
   "execution_count": 6,
   "id": "8f97cd55",
   "metadata": {},
   "outputs": [
    {
     "name": "stdout",
     "output_type": "stream",
     "text": [
      " String after removing all '-' is : INeuron\n",
      " String after removing all '-' from the left is : INeuron------\n",
      " String after removing all '-' from the right is : "
     ]
    }
   ],
   "source": [
    "str = \"------INeuron------\"\n",
    " \n",
    "# using strip() to delete all '-'\n",
    "print ( \" String after removing all '-' is : \", end=\"\")\n",
    "print ( str.strip('-') )\n",
    " \n",
    "# using lstrip() to delete all trailing '-'\n",
    "print ( \" String after removing all '-' from the left is : \", end=\"\")\n",
    "print ( str.lstrip('-') )\n",
    " \n",
    "# using rstrip() to delete all leading '-'\n",
    "print ( \" String after removing all '-' from the right is : \", end=\"\")"
   ]
  },
  {
   "cell_type": "code",
   "execution_count": null,
   "id": "f0ba76f5",
   "metadata": {},
   "outputs": [],
   "source": []
  }
 ],
 "metadata": {
  "kernelspec": {
   "display_name": "Python 3 (ipykernel)",
   "language": "python",
   "name": "python3"
  },
  "language_info": {
   "codemirror_mode": {
    "name": "ipython",
    "version": 3
   },
   "file_extension": ".py",
   "mimetype": "text/x-python",
   "name": "python",
   "nbconvert_exporter": "python",
   "pygments_lexer": "ipython3",
   "version": "3.9.12"
  }
 },
 "nbformat": 4,
 "nbformat_minor": 5
}
