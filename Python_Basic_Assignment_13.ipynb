{
 "cells": [
  {
   "cell_type": "markdown",
   "id": "ee6745d5",
   "metadata": {},
   "source": [
    "### Python Basics Assignment 13"
   ]
  },
  {
   "cell_type": "markdown",
   "id": "b1c4855d",
   "metadata": {},
   "source": [
    "### Q1. What advantages do Excel spreadsheets have over csv spreadsheets?"
   ]
  },
  {
   "cell_type": "markdown",
   "id": "4f460199",
   "metadata": {},
   "source": [
    "### Ans :\n",
    "The advantages of Excel spreadsheets over csv are :\n",
    "1. Excel file formats are better for storinn and analysing complex data.\n",
    "2. Excel not only stores data but can also do operations on the data using macros, formulas, etc,.\n",
    "3. CSV files are plain_text files and does not contain formatting, formulas, macros,etc. like an Excel. It is also known as flat files."
   ]
  },
  {
   "cell_type": "markdown",
   "id": "67421572",
   "metadata": {},
   "source": [
    "### Q2. What do you pass to csv.reader() and csv.writer() to create a reader and writer objects?"
   ]
  },
  {
   "cell_type": "markdown",
   "id": "12d47702",
   "metadata": {},
   "source": [
    "### Ans : \n",
    "To create a reader and writer object in csv.reader() and csv.writer, we have:\n"
   ]
  },
  {
   "cell_type": "code",
   "execution_count": 1,
   "id": "52fc9e9a",
   "metadata": {},
   "outputs": [],
   "source": [
    "import csv\n",
    "with open('text.csv', 'w', newline= '') as file:\n",
    "    csv_file = csv.writer(file)\n",
    "    csv_file.writerow(['First_column', 'Second_column'])\n",
    "    for i in range(1,5):        \n",
    "        csv_file.writerow(['FSDS', '2022'])"
   ]
  },
  {
   "cell_type": "code",
   "execution_count": 2,
   "id": "69188a8f",
   "metadata": {},
   "outputs": [
    {
     "name": "stdout",
     "output_type": "stream",
     "text": [
      "['First_column', 'Second_column']\n",
      "['FSDS', '2022']\n",
      "['FSDS', '2022']\n",
      "['FSDS', '2022']\n",
      "['FSDS', '2022']\n"
     ]
    }
   ],
   "source": [
    "import csv\n",
    "with open('text.csv', 'r') as file:\n",
    "    csv_file = csv.reader(file)\n",
    "    for i in csv_file:\n",
    "        print(i)"
   ]
  },
  {
   "cell_type": "markdown",
   "id": "feea801d",
   "metadata": {},
   "source": [
    "### Q3. What mode do File objects for reader and writer objects need to be opened in?"
   ]
  },
  {
   "cell_type": "markdown",
   "id": "e6bc3128",
   "metadata": {},
   "source": [
    "## Ans :\n",
    "For csv.reader(iterable_file_object), the file object need to be opened in read mode i.e., mode = 'r'. Whereas, for csv.writer(iterable_file_object), the file object need to be opened in write mode i.e., mode ='w'."
   ]
  },
  {
   "cell_type": "markdown",
   "id": "4e923c3d",
   "metadata": {},
   "source": [
    "### Q4. What method takes a list argument and writes it to a CSV file?"
   ]
  },
  {
   "cell_type": "markdown",
   "id": "c8c18d06",
   "metadata": {},
   "source": [
    "### Ans :\n",
    "csv.writer class provides two methods for writing to CSV, namely writerow() and writerows(). The method writerow() writes a single row at a time while writerows() writes multiple rows at a time."
   ]
  },
  {
   "cell_type": "code",
   "execution_count": 3,
   "id": "7023c8a2",
   "metadata": {},
   "outputs": [],
   "source": [
    "#example\n",
    "import csv"
   ]
  },
  {
   "cell_type": "code",
   "execution_count": 13,
   "id": "fc3dfa41",
   "metadata": {},
   "outputs": [],
   "source": [
    "fields = ['Name', 'Surname', 'Year', 'Email_id']\n",
    "rows = (\n",
    "    ['Ruluyi', 'Swuro', 2022, 'ruluyiswuro432@gmail.com'],\n",
    "    ['Randolf', 'Hasselhof', 2021, 'rh1234@yahoo.net'],\n",
    "    ['Mikey', 'Harold', 2022, 'mikey1had@gmail.com']\n",
    ")\n",
    "with open ('records.csv', mode = 'w') as f:\n",
    "    csvwriter = csv.writer(f)\n",
    "    csvwriter.writerow(fields)\n",
    "    csvwriter.writerows(rows)\n"
   ]
  },
  {
   "cell_type": "code",
   "execution_count": 14,
   "id": "ae631ee2",
   "metadata": {},
   "outputs": [
    {
     "name": "stdout",
     "output_type": "stream",
     "text": [
      "['Name', 'Surname', 'Year', 'Email_id']\n",
      "[]\n",
      "['Ruluyi', 'Swuro', '2022', 'ruluyiswuro432@gmail.com']\n",
      "[]\n",
      "['Randolf', 'Hasselhof', '2021', 'rh1234@yahoo.net']\n",
      "[]\n",
      "['Mikey', 'Harold', '2022', 'mikey1had@gmail.com']\n",
      "[]\n"
     ]
    }
   ],
   "source": [
    "with open('records.csv', mode ='r') as f:\n",
    "    csvreader = csv.reader(f)\n",
    "    for i in csvreader:\n",
    "        print(i)"
   ]
  },
  {
   "cell_type": "markdown",
   "id": "0ac22399",
   "metadata": {},
   "source": [
    "### Q5. What do the keyword argument delimeter and line terminator do?"
   ]
  },
  {
   "cell_type": "markdown",
   "id": "99e872fc",
   "metadata": {},
   "source": [
    "### Ans :\n",
    "The delimeters are special characters which is used to specify boundary between separate region in a plin text and can be used for any character as and when required. Example of delimeter is a comma(,).\n",
    "\n",
    "Whereas, the line terminator comes at the end of a line which is a new line by default and we can change this according to the needs."
   ]
  },
  {
   "cell_type": "markdown",
   "id": "68b3a7df",
   "metadata": {},
   "source": [
    "### Q6. What function takes a string of JSON data and returns a Python data structure?"
   ]
  },
  {
   "cell_type": "markdown",
   "id": "dbe0b26e",
   "metadata": {},
   "source": [
    "### Ans :\n",
    "The function loads() takes a string of JSON data and returns a Python data structure."
   ]
  },
  {
   "cell_type": "code",
   "execution_count": 25,
   "id": "b7786d33",
   "metadata": {},
   "outputs": [
    {
     "name": "stdout",
     "output_type": "stream",
     "text": [
      "{'Name': 'Ruluyi', 'Occupation': 'Student', 'Course': 'Data Science'}\n"
     ]
    }
   ],
   "source": [
    "import json\n",
    "json_eg = \"\"\"{\n",
    "    \"Name\":\"Ruluyi\",\n",
    "    \"Occupation\": \"Student\",\n",
    "    \"Course\": \"Data Science\"\n",
    "}\"\"\"\n",
    "outcome = json.loads(json_eg)\n",
    "print(outcome)"
   ]
  },
  {
   "cell_type": "markdown",
   "id": "fb05a774",
   "metadata": {},
   "source": [
    "### Q7. What function takes a Python data structure and returns a string of JSON data?"
   ]
  },
  {
   "cell_type": "markdown",
   "id": "178e5ca3",
   "metadata": {},
   "source": [
    "## Ans :\n",
    "The function dumps() method takes a Python data structure and returns a string of JSON data."
   ]
  },
  {
   "cell_type": "code",
   "execution_count": 28,
   "id": "6e32fb05",
   "metadata": {},
   "outputs": [
    {
     "name": "stdout",
     "output_type": "stream",
     "text": [
      "{\"Name\": \"Ruluyi\", \"Occupation\": \"Student\", \"Course\": \"Data Science\"}\n"
     ]
    },
    {
     "data": {
      "text/plain": [
       "str"
      ]
     },
     "execution_count": 28,
     "metadata": {},
     "output_type": "execute_result"
    }
   ],
   "source": [
    "import json\n",
    "json_dumps= {\n",
    "    \"Name\":\"Ruluyi\",\n",
    "    \"Occupation\": \"Student\",\n",
    "    \"Course\": \"Data Science\"\n",
    "}\n",
    "json_outcome = json.dumps(json_dumps)\n",
    "print(json_outcome)\n",
    "type(json_outcome)"
   ]
  }
 ],
 "metadata": {
  "kernelspec": {
   "display_name": "Python 3 (ipykernel)",
   "language": "python",
   "name": "python3"
  },
  "language_info": {
   "codemirror_mode": {
    "name": "ipython",
    "version": 3
   },
   "file_extension": ".py",
   "mimetype": "text/x-python",
   "name": "python",
   "nbconvert_exporter": "python",
   "pygments_lexer": "ipython3",
   "version": "3.9.12"
  }
 },
 "nbformat": 4,
 "nbformat_minor": 5
}
