{
 "cells": [
  {
   "cell_type": "markdown",
   "id": "22c73213-e90c-440c-83d3-fb1633d102bd",
   "metadata": {},
   "source": [
    "# Python Basic Assignment 23"
   ]
  },
  {
   "cell_type": "markdown",
   "id": "88c5eb2f-23b7-4577-840e-723f1221a8f3",
   "metadata": {},
   "source": [
    "### Q1. What is is the result of the code, and why?\n",
    "### >>>def func(a, b=6, c=8):\n",
    "### print(a, b, c)\n",
    "### >>>func(1, 2)"
   ]
  },
  {
   "cell_type": "markdown",
   "id": "73f85f57-58b2-4151-8c81-ef807411c250",
   "metadata": {},
   "source": [
    "### Ans : \n",
    "The result of the above function is 1 2 8. It is because the function uses default value of c i.e 8 which is provided at the time of declaration. We can see this below:"
   ]
  },
  {
   "cell_type": "code",
   "execution_count": 3,
   "id": "beede1c9-d1be-4088-acb2-123b0fb58b5a",
   "metadata": {},
   "outputs": [
    {
     "name": "stdout",
     "output_type": "stream",
     "text": [
      "1 2 8\n"
     ]
    }
   ],
   "source": [
    "def func(a, b = 6, c = 8):\n",
    "    print(a,b,c)\n",
    "func(1,2)"
   ]
  },
  {
   "cell_type": "markdown",
   "id": "d3cc3082-513f-449d-a4b2-11dc4598e947",
   "metadata": {},
   "source": [
    "### Q2. What is the result of this code, and why?\n",
    "### >>> def func(a, b, c=5):\n",
    "### print(a, b, c)\n",
    "### >>> func(1, c=3, b=2)"
   ]
  },
  {
   "cell_type": "markdown",
   "id": "e5337c6f-b0f5-4e11-adfe-3158cd4ac688",
   "metadata": {},
   "source": [
    "### Ans:\n",
    "The result of the above code is 1 2 3. It is because the function will use default values only when a value for a argument is not provided and if the argument name is mentioned while doing a function call, the order of arguments is also ignored by the python interpreter"
   ]
  },
  {
   "cell_type": "code",
   "execution_count": 4,
   "id": "7cbcb267-1e8f-43e0-9555-960db5adbd5a",
   "metadata": {},
   "outputs": [
    {
     "name": "stdout",
     "output_type": "stream",
     "text": [
      "1 2 3\n"
     ]
    }
   ],
   "source": [
    "def func(a, b, c=5):\n",
    "    print(a,b,c)\n",
    "func(1,c=3,b=2)"
   ]
  },
  {
   "cell_type": "markdown",
   "id": "0b9a67ee-b9ae-4bc4-b75c-b87f24e4ec59",
   "metadata": {},
   "source": [
    "### Q3. How about this code: what is its result, and why?\n",
    "### >>> def func(a, *pargs):\n",
    "### print(a, pargs)\n",
    "### >>> func(1, 2, 3)"
   ]
  },
  {
   "cell_type": "markdown",
   "id": "941351b8-98da-4227-9204-03fc9a17a9fa",
   "metadata": {},
   "source": [
    "### Ans :\n",
    "The result of the code is 1 (2,3). *pargs stands for variable length arguments. This format is used when we are not sure about the number of arguments to be passed to a function. All the values under this argument will be stored in a tuple."
   ]
  },
  {
   "cell_type": "code",
   "execution_count": 5,
   "id": "4b70c547-4efe-4660-bc1c-c196073d3a87",
   "metadata": {},
   "outputs": [
    {
     "name": "stdout",
     "output_type": "stream",
     "text": [
      "1 (2, 3)\n"
     ]
    }
   ],
   "source": [
    "def func(a, *pargs):\n",
    "    print(a, pargs)\n",
    "func(1, 2, 3)"
   ]
  },
  {
   "cell_type": "markdown",
   "id": "4e1bf5f2-092f-4da3-925b-a52ef0d75e03",
   "metadata": {},
   "source": [
    "### Q4. What does this code print, and why?\n",
    "### >>> def func(a, **kargs):\n",
    "### print(a, kargs)\n",
    "### >>> func(a=1, c=3, b=2)"
   ]
  },
  {
   "cell_type": "markdown",
   "id": "6fbb2a7d-f236-44b9-855a-782775a0962c",
   "metadata": {},
   "source": [
    "### Ans : \n",
    "The result of the above code is 1 {'c': 3, 'b': 2}. **args stands for variable length keyword arguments. This format is used when we want pass key value pairs as input to a function. All these key value pairs will be stored in a dictionary"
   ]
  },
  {
   "cell_type": "code",
   "execution_count": 6,
   "id": "46e0cc8a-0d08-493a-a07b-a33cc04acf60",
   "metadata": {},
   "outputs": [
    {
     "name": "stdout",
     "output_type": "stream",
     "text": [
      "1 {'c': 3, 'b': 2}\n"
     ]
    }
   ],
   "source": [
    "def func(a, **kargs):\n",
    "    print(a, kargs)\n",
    "func(a=1, c=3, b=2)"
   ]
  },
  {
   "cell_type": "markdown",
   "id": "0b5c4417-2c0f-40e9-86cb-43fb414c0bff",
   "metadata": {},
   "source": [
    "### Q5. What gets printed by this, and explain?\n",
    "### def func(a, b, c=8, d=5): \n",
    "### print(a, b, c, d)\n",
    "### func(1, *(5, 6))"
   ]
  },
  {
   "cell_type": "markdown",
   "id": "4f920991-dc6a-4690-a6b5-e3a81a6a3f3f",
   "metadata": {},
   "source": [
    "### Ans :\n",
    "The output of the above is 1 5 6 5. The reason for this function not throwing an error is because, this function expects 4 arguments. The value for a is provided explicitly whereas for arguments b and c, the function will expand *(5,6) and consider the value of b as 5 and value of c as 6. Since the default value of d is provided in function declaration, d value will be 5. However it is recommended to use the feature of positional arguments at the end."
   ]
  },
  {
   "cell_type": "code",
   "execution_count": 7,
   "id": "96a0747c-6e64-4795-9cd3-4d815e45e170",
   "metadata": {},
   "outputs": [
    {
     "name": "stdout",
     "output_type": "stream",
     "text": [
      "1 5 6 5\n"
     ]
    }
   ],
   "source": [
    "def func(a, b, c=8, d=5): \n",
    "    print(a, b, c, d)\n",
    "func(1, *(5, 6))"
   ]
  },
  {
   "cell_type": "markdown",
   "id": "9826faf5-03d3-4591-af4c-43eaecbee733",
   "metadata": {},
   "source": [
    "### Q6. what is the result of this, and explain?\n",
    "### >>> def func(a, b, c): a = 2; b[0] = 'x'; c['a'] ='y'; \n",
    "### >>> l=1; m=[1]; n={&#39;a&#39;:0}\n",
    "### >>> func(l, m, n)\n",
    "### >>> l, m, n"
   ]
  },
  {
   "cell_type": "markdown",
   "id": "ec6e0557-4191-4877-81c8-bdcea87b7411",
   "metadata": {},
   "source": [
    "### Ans :\n",
    "The output of above code is 1, ['x'], {'a': 'y'}.\n",
    "\n",
    "Even though Python gives importance to indentation, it provides a facility to declare an entire function in one single line where statements in a function body are sepereated by ;\n",
    "When l,m,n are provided as inputs to the function, it modifies the values of l,m,n and sets the value of l=2 ,m=['x'] and n={'a':'y'}"
   ]
  },
  {
   "cell_type": "code",
   "execution_count": 8,
   "id": "cfd458fd-2d6a-4738-8e62-a9c41fc421ae",
   "metadata": {},
   "outputs": [
    {
     "data": {
      "text/plain": [
       "(1, ['x'], {'a': 'y'})"
      ]
     },
     "execution_count": 8,
     "metadata": {},
     "output_type": "execute_result"
    }
   ],
   "source": [
    "def func(a, b, c): a = 2; b[0] = 'x'; c['a'] ='y';\n",
    "l=1; m=[1]; n={'a':0}\n",
    "func(l, m, n)\n",
    "l, m, n"
   ]
  }
 ],
 "metadata": {
  "kernelspec": {
   "display_name": "Python 3 (ipykernel)",
   "language": "python",
   "name": "python3"
  },
  "language_info": {
   "codemirror_mode": {
    "name": "ipython",
    "version": 3
   },
   "file_extension": ".py",
   "mimetype": "text/x-python",
   "name": "python",
   "nbconvert_exporter": "python",
   "pygments_lexer": "ipython3",
   "version": "3.10.6"
  }
 },
 "nbformat": 4,
 "nbformat_minor": 5
}
